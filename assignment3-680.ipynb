{
 "cells": [
  {
   "cell_type": "markdown",
   "metadata": {
    "deletable": false,
    "editable": false,
    "nbgrader": {
     "cell_type": "markdown",
     "checksum": "3579d1058403d601cceae8bec7e9b38f",
     "grade": false,
     "grade_id": "cell-609d2abf5d9435a8",
     "locked": true,
     "schema_version": 3,
     "solution": false
    }
   },
   "source": [
    "<img src=\"https://brand.umich.edu/assets/brand/style-guide/logo-guidelines/U-M_Logo-Horizontal-Hex.png\" alt=\"Drawing\" style=\"width: 300px;\" align=\"left\"/><br>\n",
    "\n",
    "## Week 3: Predictive Model\n",
    " \n",
    "Predictive models are tools that, when developed and implemented well, help in accomplishing a task. By task, we mean more than merely making predictions; we mean using predictions to either allocate resources differently (i.e., prioritize) or recommend one course of action over another for a learner (i.e., personalize). Thus, prior to building any model, we need to answer an important question: Would I do something differently if two learners had different predicted scores? One evidence-based strategy that we want to deploy differently to different students is a brief check-in routine. This routine is comprised of setting up a meeting time with a student, identifying where they are struggling, and helping them in both building their confidence that they can overcome struggle and providing them with specific strategies for doing so.\n",
    " \n",
    "If a learning analytics project has a need to prioritize or personalize, then the question becomes, can I predict the negative outcome that the new prioritization of resources or personalized strategy is intended to subvert? In this Notebook, we are going to develop a model to identify students who are at risk of failing the course. Given the number of students in the course, a model could potentially help in identifying which students to have a \"check-in\" conversation with. For this initial model, we will constrain the timeframe from which we will make our prediction to on or before **day 60** in the course. We are aligning our prediction window with the needs of a typical course instructor, which include a prioritized list of students to reach out to approximately 25% of the way into the course."
   ]
  },
  {
   "cell_type": "markdown",
   "metadata": {
    "deletable": false,
    "editable": false,
    "nbgrader": {
     "cell_type": "markdown",
     "checksum": "6ff651c4c2b433de7ed822061b77061b",
     "grade": false,
     "grade_id": "cell-95707776426845ba",
     "locked": true,
     "schema_version": 3,
     "solution": false,
     "task": false
    }
   },
   "source": [
    "### Dictionary\n",
    "- **student_info.csv**\n",
    "    - **id_student** = numeric; unique identifier for each student in the course\n",
    "    - **gender** = character; M = \"male\", F = \"female\"\n",
    "    - **highest_education** = character; “Some Graduate”, “Some Higher Education”, “High School + Advanced Placement”, “High School”, “No Formal Quals” (Categories ordered from highest documented education level attained to lowest documented education level attained)\n",
    "    - **disability** = character; Y = \"yes\", N = \"no\"\n",
    "    - **final_result** = character; \"Fail\", \"Pass\"\n",
    "\n",
    "\n",
    "- **quizzes_tests.csv**\n",
    "    - **id_student** = numeric; unique identifier for each student in the course\n",
    "    - **assignment_name** = character; name of graded assignment (Quiz 1-7, Test 1-6, Final Exam)\n",
    "    - **due_date** = numeric; date assignment was due (indexed as count in days from start of course, i.e., day 0)\n",
    "    - **weight** = numeric; weight multiplied by score when generating final grade (weight * score / 100)\n",
    "    - **date_submitted** = numeric; date student submitted assigned (indexed as count in days from start of course, i.e., day 0, NaN means students did not submit assignment)\n",
    "    - **score** = numeric; score student earned on assignment (0 means students did not submit assignment)\n",
    "\n",
    "\n",
    "- **learning_resources.csv**\n",
    "    - **id_student** = numeric; unique identifier for each student in the course\n",
    "    - **activity_type** = character; overarching label for learning activity students can access (“course_homepage”, “course_page”, “forum”, ‘resource”, “wiki”)\n",
    "    - **activity_id** = numeric; unique identifier for specific learning activity student accessed within overacting `activity_type`\n",
    "    - **date** = numeric; date student accessed specific `acitivity_id`  (indexed as count in days from start of course, i.e., day 0)\n",
    "    - **sum_click** = numeric; count of clicks for `activity_id` on date"
   ]
  },
  {
   "cell_type": "code",
   "execution_count": 1,
   "metadata": {},
   "outputs": [],
   "source": [
    "import pandas as pd\n",
    "import numpy as np\n",
    "\n",
    "# Choose your classifier!\n",
    "from sklearn.linear_model import LogisticRegression\n",
    "from sklearn.ensemble import RandomForestClassifier\n",
    "\n",
    "# Packages that will help\n",
    "from sklearn import preprocessing\n",
    "from sklearn.preprocessing import StandardScaler\n",
    "from sklearn.model_selection import StratifiedKFold\n",
    "from sklearn.model_selection import cross_val_score\n",
    "from sklearn.pipeline import Pipeline"
   ]
  },
  {
   "cell_type": "code",
   "execution_count": 2,
   "metadata": {},
   "outputs": [],
   "source": [
    "lr = pd.read_csv('assets/learning_resources.csv')\n",
    "qt = pd.read_csv('assets/quizzes_tests.csv')\n",
    "si = pd.read_csv('assets/student_info.csv')"
   ]
  },
  {
   "cell_type": "markdown",
   "metadata": {
    "deletable": false,
    "editable": false,
    "nbgrader": {
     "cell_type": "markdown",
     "checksum": "73cac7f4fac60f6d31a8381ce3a698f2",
     "grade": false,
     "grade_id": "1A",
     "locked": true,
     "schema_version": 3,
     "solution": false
    }
   },
   "source": [
    "## 1. Wrangle (10 points)\n",
    "\n",
    "To build your model, you will wrangle all three of datasets. The kind of data wrangling we are looking for in this initial step will involve, first, sub-setting the dataset to not include information beyond day 60. Second, it will involve engineering features within a given dataset.\n",
    "\n",
    "A lot of feature engineering will need to take place within the `learning_resources.csv` file as it provides a very granular representation of learners' online activity. For example, a reasonable set of features could include \"total clicks by resource type.\" To generate these features will involve using `groupby` and rotating long-form data into wide-form. Your wrangling will be complete when you have joined all three sub-set and engineered files into one flat file."
   ]
  },
  {
   "cell_type": "markdown",
   "metadata": {
    "deletable": false,
    "editable": false,
    "nbgrader": {
     "cell_type": "markdown",
     "checksum": "c5f362b8ccadfa71c1d71ae386e12a39",
     "grade": false,
     "grade_id": "cell-e3ee9fb605f00daf",
     "locked": true,
     "schema_version": 3,
     "solution": false,
     "task": false
    }
   },
   "source": [
    "### Grading\n",
    "\n",
    "1.1. (2 points) Extract and recode `final_result`\n",
    "\n",
    "1.2. (3 points) Create two or more features from `quizzes_tests.csv`, with at least one continuous variable\n",
    "\n",
    "1.3. (3 points) Create two or more features from `learning_resources.csv`, with at least one continuous variable\n",
    "\n",
    "1.4. (2 points) Join datasets into one flat file\n",
    "\n",
    "**Note:** Make sure to not include any information from beyond day 60 in the course."
   ]
  },
  {
   "cell_type": "markdown",
   "metadata": {
    "deletable": false,
    "editable": false,
    "nbgrader": {
     "cell_type": "markdown",
     "checksum": "6fed6e3448a328a72a1f70678462df03",
     "grade": false,
     "grade_id": "cell-2bb589ea17ed7f02",
     "locked": true,
     "schema_version": 3,
     "solution": false,
     "task": false
    }
   },
   "source": [
    "## Student information\n",
    "\n",
    "Luckily, `student_info.csv`, does not require much wrangling. However, we will want to be mindful about including only actionable features in our model. For example, `gender`, `highest_education`, and `disability` are present in this dataset. These factors are important to understand and explore when users have the opportunity to reflect on an analysis; these kinds of factors, however, can lead to unfair prediction models. For example, it may be useful to know that students with \"Some Higher Education\" outperform, on average, students whose highest documented education is \"High School.\" This kind of analysis could help administrators better think about the support services they provide to learners. \n",
    "\n",
    "When used in a predictive model, however, the average performance gap between these two groups could drive a prediction lower for a student whose highest documented education is \"High School\" even if she is performing well on quizzes and tests, which are the drivers of student success in the course. In this case, quizzes and tests are more actionable than prior education because both teacher and student can do something different based on these data. Thus for `student_info.csv`, we will only extract `id_student` and `final_result`. Lastly, we will recode `final_result` so that our resulting predictions capture a probability of failing the course.\n",
    "\n",
    "**Note: You will lose all points for the entire \"Wrangle\" section if you include** `gender`, `highest_education`, **and/or** `disability`."
   ]
  },
  {
   "cell_type": "markdown",
   "metadata": {
    "deletable": false,
    "editable": false,
    "nbgrader": {
     "cell_type": "markdown",
     "checksum": "f0267aba67279bc2afe8197f998ec143",
     "grade": false,
     "grade_id": "cell-47043951cb2a06a5",
     "locked": true,
     "schema_version": 3,
     "solution": false,
     "task": false
    }
   },
   "source": [
    "1.1. (2 points) Extract and recode `final_result`"
   ]
  },
  {
   "cell_type": "code",
   "execution_count": 3,
   "metadata": {
    "deletable": false,
    "nbgrader": {
     "cell_type": "code",
     "checksum": "76db5614540c2ca511e2f4d9b02a9442",
     "grade": true,
     "grade_id": "cell-ee2bf95da136bd3d",
     "locked": false,
     "points": 0,
     "schema_version": 3,
     "solution": true,
     "task": false
    }
   },
   "outputs": [],
   "source": [
    "## Your code with comments\n",
    "# YOUR CODE HERE\n",
    "si = si[[\"id_student\", \"final_result\"]].replace({\"Fail\":0, \"Pass\":1}).set_index(\"id_student\")\n",
    "#raise NotImplementedError()"
   ]
  },
  {
   "cell_type": "markdown",
   "metadata": {
    "deletable": false,
    "editable": false,
    "nbgrader": {
     "cell_type": "markdown",
     "checksum": "675aeab234ab885e9f52ddb0e5484c9c",
     "grade": false,
     "grade_id": "cell-a87ce49c2d6ad010",
     "locked": true,
     "schema_version": 3,
     "solution": false,
     "task": false
    }
   },
   "source": [
    "## Quizzes and tests\n",
    "\n",
    "The `quizzes_tests.csv` file will require more wrangling as it needs to be both subset and rotated from long to wide. You should also apply the `weight` to `score` to get the most accurate representation for each quiz or test (weight * score / 100).\n",
    "\n",
    "Possible features include the weighted quiz and test scores, whether or not quizzes and tests were simply turned in, and in addtion to these whether or not quizzes were late or on time.\n",
    "\n",
    "Key to working with data from before day 60 are two columns, `due_date` and `date_submitted`. Proper subsetting involves starting with `due_date` as it is common for all students for each assignment. Thus, `due_date` gives us an equivalent baseline for all learners (i.e., if an assignment, regardless of when a student completed it, is due on day 65, we won’t include it as that is after day 60). But, since we are working with historical data, there could students in our dataset who turned in an assignment due on or before day 60, but did so **late**. Thus, if we only use `due_date`, we let this data beyond day 60 in, i.e., leakage. Thus, after subsetting by `due_date`, one should then subset by `date_submitted`."
   ]
  },
  {
   "cell_type": "markdown",
   "metadata": {
    "deletable": false,
    "editable": false,
    "nbgrader": {
     "cell_type": "markdown",
     "checksum": "a4670773f9042a81b113c81a9024645f",
     "grade": false,
     "grade_id": "cell-c04d4c141d52ca91",
     "locked": true,
     "schema_version": 3,
     "solution": false,
     "task": false
    }
   },
   "source": [
    "1.2. (3 points) Create two or more features from `quizzes_tests.csv`, with at least one continuous variable"
   ]
  },
  {
   "cell_type": "code",
   "execution_count": 4,
   "metadata": {
    "deletable": false,
    "nbgrader": {
     "cell_type": "code",
     "checksum": "3d9bf7f7f520879c1af95d73d3a8178e",
     "grade": true,
     "grade_id": "cell-23b94692b182921e",
     "locked": false,
     "points": 0,
     "schema_version": 3,
     "solution": true,
     "task": false
    }
   },
   "outputs": [],
   "source": [
    "## Your code with comments\n",
    "# YOUR CODE HERE\n",
    "qt_clean = qt[qt[\"due_date\"] <= 60].copy()\n",
    "qt_clean.loc[qt_clean[\"date_submitted\"] > 60, \"score\"] = 0 # set the score for items not yet submitted at day 60 to 0\n",
    "qt_clean.loc[qt_clean[\"date_submitted\"] > 60, \"date_submitted\"] = np.nan # if the assignment was not turned in by day 60, it is considered not turned in i.e. null\n",
    "\n",
    "# ideas for features: weighted score on every assignment, whether or not turned it by day 60, whether or not late (i.e. submitted after due date, on or before day 60)\n",
    "\n",
    "qt_clean[\"weighted_score\"] = (qt_clean[\"weight\"] * qt_clean[\"score\"])/100\n",
    "qt_clean[\"not_submitted\"] = qt_clean[\"date_submitted\"].isna().astype(int)\n",
    "qt_clean[\"submitted_on_time\"] = (qt_clean[\"date_submitted\"] <= qt_clean[\"due_date\"]).astype(int)\n",
    "\n",
    "qt_scores = qt_clean.pivot(index=\"id_student\", columns=\"assignment_name\", values=\"weighted_score\")\n",
    "qt_scores.columns = [f\"score_{name}\" for name in qt_scores.columns]\n",
    "\n",
    "qt_not_submitted = qt_clean.pivot(index=\"id_student\", columns=\"assignment_name\", values=\"not_submitted\")\n",
    "qt_not_submitted.columns = [f\"not_submit_{name}\" for name in qt_not_submitted.columns]\n",
    "\n",
    "qt_late = qt_clean.pivot(index=\"id_student\", columns=\"assignment_name\", values=\"submitted_on_time\")\n",
    "qt_late.columns = [f\"on_time_{name}\" for name in qt_late.columns]\n",
    "\n",
    "qt_features = pd.concat([qt_scores, qt_not_submitted, qt_late], axis=1)\n",
    "#raise NotImplementedError()"
   ]
  },
  {
   "cell_type": "markdown",
   "metadata": {
    "deletable": false,
    "editable": false,
    "nbgrader": {
     "cell_type": "markdown",
     "checksum": "336c2daf1bf53514d95716c311337e2c",
     "grade": false,
     "grade_id": "cell-c5f5d40558b13fed",
     "locked": true,
     "schema_version": 3,
     "solution": false,
     "task": false
    }
   },
   "source": [
    "## Learning resources\n",
    "\n",
    "The `learning_resources.csv` provides a high degree of flexibility in how to engineer potential features. **Proper subsetting** of this file involves not including any resource beyond `date` <= 60."
   ]
  },
  {
   "cell_type": "markdown",
   "metadata": {
    "deletable": false,
    "editable": false,
    "nbgrader": {
     "cell_type": "markdown",
     "checksum": "9f3b966fedf9bd6477c77a36be44cf48",
     "grade": false,
     "grade_id": "cell-55bb526460786955",
     "locked": true,
     "schema_version": 3,
     "solution": false,
     "task": false
    }
   },
   "source": [
    "1.3 (3 points) Create two or more features from `learning_resources.csv`, with at least one continuous variable"
   ]
  },
  {
   "cell_type": "code",
   "execution_count": 5,
   "metadata": {
    "deletable": false,
    "nbgrader": {
     "cell_type": "code",
     "checksum": "cd77be00f70a236d5e3f17d68a5c63e0",
     "grade": true,
     "grade_id": "cell-29b7486e65843ec7",
     "locked": false,
     "points": 0,
     "schema_version": 3,
     "solution": true,
     "task": false
    }
   },
   "outputs": [
    {
     "data": {
      "text/html": [
       "<div>\n",
       "<style scoped>\n",
       "    .dataframe tbody tr th:only-of-type {\n",
       "        vertical-align: middle;\n",
       "    }\n",
       "\n",
       "    .dataframe tbody tr th {\n",
       "        vertical-align: top;\n",
       "    }\n",
       "\n",
       "    .dataframe thead th {\n",
       "        text-align: right;\n",
       "    }\n",
       "</style>\n",
       "<table border=\"1\" class=\"dataframe\">\n",
       "  <thead>\n",
       "    <tr style=\"text-align: right;\">\n",
       "      <th></th>\n",
       "      <th>clicks_course_homepage</th>\n",
       "      <th>clicks_course_page</th>\n",
       "      <th>clicks_forum</th>\n",
       "      <th>clicks_resource</th>\n",
       "      <th>clicks_wiki</th>\n",
       "      <th>count_days_used_lr</th>\n",
       "    </tr>\n",
       "    <tr>\n",
       "      <th>id_student</th>\n",
       "      <th></th>\n",
       "      <th></th>\n",
       "      <th></th>\n",
       "      <th></th>\n",
       "      <th></th>\n",
       "      <th></th>\n",
       "    </tr>\n",
       "  </thead>\n",
       "  <tbody>\n",
       "    <tr>\n",
       "      <th>41060</th>\n",
       "      <td>37.0</td>\n",
       "      <td>108.0</td>\n",
       "      <td>16.0</td>\n",
       "      <td>19.0</td>\n",
       "      <td>11.0</td>\n",
       "      <td>14</td>\n",
       "    </tr>\n",
       "    <tr>\n",
       "      <th>45664</th>\n",
       "      <td>144.0</td>\n",
       "      <td>141.0</td>\n",
       "      <td>107.0</td>\n",
       "      <td>115.0</td>\n",
       "      <td>29.0</td>\n",
       "      <td>19</td>\n",
       "    </tr>\n",
       "    <tr>\n",
       "      <th>52014</th>\n",
       "      <td>47.0</td>\n",
       "      <td>43.0</td>\n",
       "      <td>26.0</td>\n",
       "      <td>8.0</td>\n",
       "      <td>20.0</td>\n",
       "      <td>20</td>\n",
       "    </tr>\n",
       "    <tr>\n",
       "      <th>53488</th>\n",
       "      <td>173.0</td>\n",
       "      <td>98.0</td>\n",
       "      <td>332.0</td>\n",
       "      <td>65.0</td>\n",
       "      <td>39.0</td>\n",
       "      <td>36</td>\n",
       "    </tr>\n",
       "    <tr>\n",
       "      <th>60135</th>\n",
       "      <td>629.0</td>\n",
       "      <td>456.0</td>\n",
       "      <td>456.0</td>\n",
       "      <td>185.0</td>\n",
       "      <td>78.0</td>\n",
       "      <td>53</td>\n",
       "    </tr>\n",
       "    <tr>\n",
       "      <th>...</th>\n",
       "      <td>...</td>\n",
       "      <td>...</td>\n",
       "      <td>...</td>\n",
       "      <td>...</td>\n",
       "      <td>...</td>\n",
       "      <td>...</td>\n",
       "    </tr>\n",
       "    <tr>\n",
       "      <th>2678338</th>\n",
       "      <td>385.0</td>\n",
       "      <td>236.0</td>\n",
       "      <td>194.0</td>\n",
       "      <td>108.0</td>\n",
       "      <td>79.0</td>\n",
       "      <td>51</td>\n",
       "    </tr>\n",
       "    <tr>\n",
       "      <th>2683836</th>\n",
       "      <td>100.0</td>\n",
       "      <td>112.0</td>\n",
       "      <td>108.0</td>\n",
       "      <td>47.0</td>\n",
       "      <td>30.0</td>\n",
       "      <td>19</td>\n",
       "    </tr>\n",
       "    <tr>\n",
       "      <th>2689536</th>\n",
       "      <td>74.0</td>\n",
       "      <td>108.0</td>\n",
       "      <td>34.0</td>\n",
       "      <td>43.0</td>\n",
       "      <td>3.0</td>\n",
       "      <td>18</td>\n",
       "    </tr>\n",
       "    <tr>\n",
       "      <th>2693243</th>\n",
       "      <td>203.0</td>\n",
       "      <td>276.0</td>\n",
       "      <td>299.0</td>\n",
       "      <td>137.0</td>\n",
       "      <td>62.0</td>\n",
       "      <td>36</td>\n",
       "    </tr>\n",
       "    <tr>\n",
       "      <th>2694933</th>\n",
       "      <td>127.0</td>\n",
       "      <td>70.0</td>\n",
       "      <td>126.0</td>\n",
       "      <td>57.0</td>\n",
       "      <td>26.0</td>\n",
       "      <td>28</td>\n",
       "    </tr>\n",
       "  </tbody>\n",
       "</table>\n",
       "<p>812 rows × 6 columns</p>\n",
       "</div>"
      ],
      "text/plain": [
       "            clicks_course_homepage  clicks_course_page  clicks_forum  \\\n",
       "id_student                                                             \n",
       "41060                         37.0               108.0          16.0   \n",
       "45664                        144.0               141.0         107.0   \n",
       "52014                         47.0                43.0          26.0   \n",
       "53488                        173.0                98.0         332.0   \n",
       "60135                        629.0               456.0         456.0   \n",
       "...                            ...                 ...           ...   \n",
       "2678338                      385.0               236.0         194.0   \n",
       "2683836                      100.0               112.0         108.0   \n",
       "2689536                       74.0               108.0          34.0   \n",
       "2693243                      203.0               276.0         299.0   \n",
       "2694933                      127.0                70.0         126.0   \n",
       "\n",
       "            clicks_resource  clicks_wiki  count_days_used_lr  \n",
       "id_student                                                    \n",
       "41060                  19.0         11.0                  14  \n",
       "45664                 115.0         29.0                  19  \n",
       "52014                   8.0         20.0                  20  \n",
       "53488                  65.0         39.0                  36  \n",
       "60135                 185.0         78.0                  53  \n",
       "...                     ...          ...                 ...  \n",
       "2678338               108.0         79.0                  51  \n",
       "2683836                47.0         30.0                  19  \n",
       "2689536                43.0          3.0                  18  \n",
       "2693243               137.0         62.0                  36  \n",
       "2694933                57.0         26.0                  28  \n",
       "\n",
       "[812 rows x 6 columns]"
      ]
     },
     "execution_count": 5,
     "metadata": {},
     "output_type": "execute_result"
    }
   ],
   "source": [
    "## Your code with comments\n",
    "# YOUR CODE HERE\n",
    "lr_clean = lr[lr[\"date\"] <= 60].copy()\n",
    "clicks_by_activity_type = lr_clean.groupby([\"id_student\", \"activity_type\"], as_index=False)[\"sum_click\"].sum().pivot(index=\"id_student\", columns=\"activity_type\", values=\"sum_click\")\n",
    "clicks_by_activity_type.columns = [f\"clicks_{name}\" for name in clicks_by_activity_type.columns]\n",
    "\n",
    "n_days_used_resources = lr_clean.groupby([\"id_student\"])[[\"date\"]].nunique()\n",
    "n_days_used_resources.columns = [\"count_days_used_lr\"]\n",
    "\n",
    "lr_features = pd.concat([clicks_by_activity_type, n_days_used_resources], axis=1).fillna(0)\n",
    "lr_features\n",
    "#raise NotImplementedError()"
   ]
  },
  {
   "cell_type": "markdown",
   "metadata": {
    "deletable": false,
    "editable": false,
    "nbgrader": {
     "cell_type": "markdown",
     "checksum": "ec0ffc0a7ef21928833ff1391328e646",
     "grade": false,
     "grade_id": "cell-67db5ca3fbc0aa5f",
     "locked": true,
     "schema_version": 3,
     "solution": false,
     "task": false
    }
   },
   "source": [
    "## Join files"
   ]
  },
  {
   "cell_type": "markdown",
   "metadata": {
    "deletable": false,
    "editable": false,
    "nbgrader": {
     "cell_type": "markdown",
     "checksum": "d9de9e847c8ca2c7cced85747c615e21",
     "grade": false,
     "grade_id": "cell-4df2cf8db803c37e",
     "locked": true,
     "schema_version": 3,
     "solution": false,
     "task": false
    }
   },
   "source": [
    "1.4 (2 points) Join datasets into one flat file"
   ]
  },
  {
   "cell_type": "code",
   "execution_count": 6,
   "metadata": {
    "deletable": false,
    "nbgrader": {
     "cell_type": "code",
     "checksum": "b6d8a8b963f892af19554641eb3e7f69",
     "grade": true,
     "grade_id": "cell-161ffc6ce5d3bb7c",
     "locked": false,
     "points": 0,
     "schema_version": 3,
     "solution": true,
     "task": false
    }
   },
   "outputs": [
    {
     "data": {
      "text/html": [
       "<div>\n",
       "<style scoped>\n",
       "    .dataframe tbody tr th:only-of-type {\n",
       "        vertical-align: middle;\n",
       "    }\n",
       "\n",
       "    .dataframe tbody tr th {\n",
       "        vertical-align: top;\n",
       "    }\n",
       "\n",
       "    .dataframe thead th {\n",
       "        text-align: right;\n",
       "    }\n",
       "</style>\n",
       "<table border=\"1\" class=\"dataframe\">\n",
       "  <thead>\n",
       "    <tr style=\"text-align: right;\">\n",
       "      <th></th>\n",
       "      <th>final_result</th>\n",
       "      <th>score_Quiz 1</th>\n",
       "      <th>score_Quiz 2</th>\n",
       "      <th>score_Test 1</th>\n",
       "      <th>score_Test 2</th>\n",
       "      <th>not_submit_Quiz 1</th>\n",
       "      <th>not_submit_Quiz 2</th>\n",
       "      <th>not_submit_Test 1</th>\n",
       "      <th>not_submit_Test 2</th>\n",
       "      <th>on_time_Quiz 1</th>\n",
       "      <th>on_time_Quiz 2</th>\n",
       "      <th>on_time_Test 1</th>\n",
       "      <th>on_time_Test 2</th>\n",
       "      <th>clicks_course_homepage</th>\n",
       "      <th>clicks_course_page</th>\n",
       "      <th>clicks_forum</th>\n",
       "      <th>clicks_resource</th>\n",
       "      <th>clicks_wiki</th>\n",
       "      <th>count_days_used_lr</th>\n",
       "    </tr>\n",
       "  </thead>\n",
       "  <tbody>\n",
       "    <tr>\n",
       "      <th>0</th>\n",
       "      <td>0</td>\n",
       "      <td>1.54</td>\n",
       "      <td>2.82</td>\n",
       "      <td>6.375</td>\n",
       "      <td>8.6</td>\n",
       "      <td>0</td>\n",
       "      <td>0</td>\n",
       "      <td>0</td>\n",
       "      <td>0</td>\n",
       "      <td>0</td>\n",
       "      <td>0</td>\n",
       "      <td>1</td>\n",
       "      <td>1</td>\n",
       "      <td>37.0</td>\n",
       "      <td>108.0</td>\n",
       "      <td>16.0</td>\n",
       "      <td>19.0</td>\n",
       "      <td>11.0</td>\n",
       "      <td>14.0</td>\n",
       "    </tr>\n",
       "    <tr>\n",
       "      <th>1</th>\n",
       "      <td>1</td>\n",
       "      <td>0.94</td>\n",
       "      <td>0.00</td>\n",
       "      <td>4.950</td>\n",
       "      <td>4.6</td>\n",
       "      <td>0</td>\n",
       "      <td>1</td>\n",
       "      <td>0</td>\n",
       "      <td>0</td>\n",
       "      <td>0</td>\n",
       "      <td>0</td>\n",
       "      <td>1</td>\n",
       "      <td>1</td>\n",
       "      <td>144.0</td>\n",
       "      <td>141.0</td>\n",
       "      <td>107.0</td>\n",
       "      <td>115.0</td>\n",
       "      <td>29.0</td>\n",
       "      <td>19.0</td>\n",
       "    </tr>\n",
       "    <tr>\n",
       "      <th>2</th>\n",
       "      <td>0</td>\n",
       "      <td>1.06</td>\n",
       "      <td>1.59</td>\n",
       "      <td>6.075</td>\n",
       "      <td>7.0</td>\n",
       "      <td>0</td>\n",
       "      <td>0</td>\n",
       "      <td>0</td>\n",
       "      <td>0</td>\n",
       "      <td>0</td>\n",
       "      <td>0</td>\n",
       "      <td>1</td>\n",
       "      <td>1</td>\n",
       "      <td>47.0</td>\n",
       "      <td>43.0</td>\n",
       "      <td>26.0</td>\n",
       "      <td>8.0</td>\n",
       "      <td>20.0</td>\n",
       "      <td>20.0</td>\n",
       "    </tr>\n",
       "    <tr>\n",
       "      <th>3</th>\n",
       "      <td>1</td>\n",
       "      <td>1.86</td>\n",
       "      <td>2.91</td>\n",
       "      <td>6.000</td>\n",
       "      <td>6.1</td>\n",
       "      <td>0</td>\n",
       "      <td>0</td>\n",
       "      <td>0</td>\n",
       "      <td>0</td>\n",
       "      <td>0</td>\n",
       "      <td>0</td>\n",
       "      <td>1</td>\n",
       "      <td>1</td>\n",
       "      <td>173.0</td>\n",
       "      <td>98.0</td>\n",
       "      <td>332.0</td>\n",
       "      <td>65.0</td>\n",
       "      <td>39.0</td>\n",
       "      <td>36.0</td>\n",
       "    </tr>\n",
       "    <tr>\n",
       "      <th>4</th>\n",
       "      <td>1</td>\n",
       "      <td>1.14</td>\n",
       "      <td>2.58</td>\n",
       "      <td>5.700</td>\n",
       "      <td>7.6</td>\n",
       "      <td>0</td>\n",
       "      <td>0</td>\n",
       "      <td>0</td>\n",
       "      <td>0</td>\n",
       "      <td>0</td>\n",
       "      <td>0</td>\n",
       "      <td>1</td>\n",
       "      <td>1</td>\n",
       "      <td>629.0</td>\n",
       "      <td>456.0</td>\n",
       "      <td>456.0</td>\n",
       "      <td>185.0</td>\n",
       "      <td>78.0</td>\n",
       "      <td>53.0</td>\n",
       "    </tr>\n",
       "    <tr>\n",
       "      <th>...</th>\n",
       "      <td>...</td>\n",
       "      <td>...</td>\n",
       "      <td>...</td>\n",
       "      <td>...</td>\n",
       "      <td>...</td>\n",
       "      <td>...</td>\n",
       "      <td>...</td>\n",
       "      <td>...</td>\n",
       "      <td>...</td>\n",
       "      <td>...</td>\n",
       "      <td>...</td>\n",
       "      <td>...</td>\n",
       "      <td>...</td>\n",
       "      <td>...</td>\n",
       "      <td>...</td>\n",
       "      <td>...</td>\n",
       "      <td>...</td>\n",
       "      <td>...</td>\n",
       "      <td>...</td>\n",
       "    </tr>\n",
       "    <tr>\n",
       "      <th>808</th>\n",
       "      <td>0</td>\n",
       "      <td>1.00</td>\n",
       "      <td>2.67</td>\n",
       "      <td>5.625</td>\n",
       "      <td>7.2</td>\n",
       "      <td>0</td>\n",
       "      <td>0</td>\n",
       "      <td>0</td>\n",
       "      <td>0</td>\n",
       "      <td>0</td>\n",
       "      <td>0</td>\n",
       "      <td>1</td>\n",
       "      <td>1</td>\n",
       "      <td>385.0</td>\n",
       "      <td>236.0</td>\n",
       "      <td>194.0</td>\n",
       "      <td>108.0</td>\n",
       "      <td>79.0</td>\n",
       "      <td>51.0</td>\n",
       "    </tr>\n",
       "    <tr>\n",
       "      <th>809</th>\n",
       "      <td>1</td>\n",
       "      <td>1.60</td>\n",
       "      <td>2.76</td>\n",
       "      <td>6.300</td>\n",
       "      <td>7.8</td>\n",
       "      <td>0</td>\n",
       "      <td>0</td>\n",
       "      <td>0</td>\n",
       "      <td>0</td>\n",
       "      <td>0</td>\n",
       "      <td>0</td>\n",
       "      <td>1</td>\n",
       "      <td>1</td>\n",
       "      <td>100.0</td>\n",
       "      <td>112.0</td>\n",
       "      <td>108.0</td>\n",
       "      <td>47.0</td>\n",
       "      <td>30.0</td>\n",
       "      <td>19.0</td>\n",
       "    </tr>\n",
       "    <tr>\n",
       "      <th>810</th>\n",
       "      <td>1</td>\n",
       "      <td>1.54</td>\n",
       "      <td>3.00</td>\n",
       "      <td>6.750</td>\n",
       "      <td>8.6</td>\n",
       "      <td>0</td>\n",
       "      <td>0</td>\n",
       "      <td>0</td>\n",
       "      <td>0</td>\n",
       "      <td>0</td>\n",
       "      <td>0</td>\n",
       "      <td>1</td>\n",
       "      <td>1</td>\n",
       "      <td>74.0</td>\n",
       "      <td>108.0</td>\n",
       "      <td>34.0</td>\n",
       "      <td>43.0</td>\n",
       "      <td>3.0</td>\n",
       "      <td>18.0</td>\n",
       "    </tr>\n",
       "    <tr>\n",
       "      <th>811</th>\n",
       "      <td>1</td>\n",
       "      <td>1.94</td>\n",
       "      <td>2.91</td>\n",
       "      <td>5.775</td>\n",
       "      <td>7.5</td>\n",
       "      <td>0</td>\n",
       "      <td>0</td>\n",
       "      <td>0</td>\n",
       "      <td>0</td>\n",
       "      <td>0</td>\n",
       "      <td>0</td>\n",
       "      <td>1</td>\n",
       "      <td>1</td>\n",
       "      <td>203.0</td>\n",
       "      <td>276.0</td>\n",
       "      <td>299.0</td>\n",
       "      <td>137.0</td>\n",
       "      <td>62.0</td>\n",
       "      <td>36.0</td>\n",
       "    </tr>\n",
       "    <tr>\n",
       "      <th>812</th>\n",
       "      <td>1</td>\n",
       "      <td>1.14</td>\n",
       "      <td>2.76</td>\n",
       "      <td>6.825</td>\n",
       "      <td>8.9</td>\n",
       "      <td>0</td>\n",
       "      <td>0</td>\n",
       "      <td>0</td>\n",
       "      <td>0</td>\n",
       "      <td>0</td>\n",
       "      <td>0</td>\n",
       "      <td>1</td>\n",
       "      <td>1</td>\n",
       "      <td>127.0</td>\n",
       "      <td>70.0</td>\n",
       "      <td>126.0</td>\n",
       "      <td>57.0</td>\n",
       "      <td>26.0</td>\n",
       "      <td>28.0</td>\n",
       "    </tr>\n",
       "  </tbody>\n",
       "</table>\n",
       "<p>813 rows × 19 columns</p>\n",
       "</div>"
      ],
      "text/plain": [
       "     final_result  score_Quiz 1  score_Quiz 2  score_Test 1  score_Test 2  \\\n",
       "0               0          1.54          2.82         6.375           8.6   \n",
       "1               1          0.94          0.00         4.950           4.6   \n",
       "2               0          1.06          1.59         6.075           7.0   \n",
       "3               1          1.86          2.91         6.000           6.1   \n",
       "4               1          1.14          2.58         5.700           7.6   \n",
       "..            ...           ...           ...           ...           ...   \n",
       "808             0          1.00          2.67         5.625           7.2   \n",
       "809             1          1.60          2.76         6.300           7.8   \n",
       "810             1          1.54          3.00         6.750           8.6   \n",
       "811             1          1.94          2.91         5.775           7.5   \n",
       "812             1          1.14          2.76         6.825           8.9   \n",
       "\n",
       "     not_submit_Quiz 1  not_submit_Quiz 2  not_submit_Test 1  \\\n",
       "0                    0                  0                  0   \n",
       "1                    0                  1                  0   \n",
       "2                    0                  0                  0   \n",
       "3                    0                  0                  0   \n",
       "4                    0                  0                  0   \n",
       "..                 ...                ...                ...   \n",
       "808                  0                  0                  0   \n",
       "809                  0                  0                  0   \n",
       "810                  0                  0                  0   \n",
       "811                  0                  0                  0   \n",
       "812                  0                  0                  0   \n",
       "\n",
       "     not_submit_Test 2  on_time_Quiz 1  on_time_Quiz 2  on_time_Test 1  \\\n",
       "0                    0               0               0               1   \n",
       "1                    0               0               0               1   \n",
       "2                    0               0               0               1   \n",
       "3                    0               0               0               1   \n",
       "4                    0               0               0               1   \n",
       "..                 ...             ...             ...             ...   \n",
       "808                  0               0               0               1   \n",
       "809                  0               0               0               1   \n",
       "810                  0               0               0               1   \n",
       "811                  0               0               0               1   \n",
       "812                  0               0               0               1   \n",
       "\n",
       "     on_time_Test 2  clicks_course_homepage  clicks_course_page  clicks_forum  \\\n",
       "0                 1                    37.0               108.0          16.0   \n",
       "1                 1                   144.0               141.0         107.0   \n",
       "2                 1                    47.0                43.0          26.0   \n",
       "3                 1                   173.0                98.0         332.0   \n",
       "4                 1                   629.0               456.0         456.0   \n",
       "..              ...                     ...                 ...           ...   \n",
       "808               1                   385.0               236.0         194.0   \n",
       "809               1                   100.0               112.0         108.0   \n",
       "810               1                    74.0               108.0          34.0   \n",
       "811               1                   203.0               276.0         299.0   \n",
       "812               1                   127.0                70.0         126.0   \n",
       "\n",
       "     clicks_resource  clicks_wiki  count_days_used_lr  \n",
       "0               19.0         11.0                14.0  \n",
       "1              115.0         29.0                19.0  \n",
       "2                8.0         20.0                20.0  \n",
       "3               65.0         39.0                36.0  \n",
       "4              185.0         78.0                53.0  \n",
       "..               ...          ...                 ...  \n",
       "808            108.0         79.0                51.0  \n",
       "809             47.0         30.0                19.0  \n",
       "810             43.0          3.0                18.0  \n",
       "811            137.0         62.0                36.0  \n",
       "812             57.0         26.0                28.0  \n",
       "\n",
       "[813 rows x 19 columns]"
      ]
     },
     "execution_count": 6,
     "metadata": {},
     "output_type": "execute_result"
    }
   ],
   "source": [
    "## Your code with comments\n",
    "# YOUR CODE HERE\n",
    "df = pd.concat([si, qt_features, lr_features], axis=1).fillna(0) # fill na because some students never used the learning resources\n",
    "student_index_map = df.index\n",
    "df = df.reset_index(drop=True)\n",
    "df\n",
    "#raise NotImplementedError()"
   ]
  },
  {
   "cell_type": "markdown",
   "metadata": {
    "deletable": false,
    "editable": false,
    "nbgrader": {
     "cell_type": "markdown",
     "checksum": "8747b8c60a6b8a4bb1a7a496378b1f73",
     "grade": false,
     "grade_id": "cell-4b1194dda0fcacdb",
     "locked": true,
     "schema_version": 3,
     "solution": false,
     "task": false
    }
   },
   "source": [
    "# 2. Modeling (30 points)\n",
    "\n",
    "You should split the original data into an 80/20 split and train two different algorithms. Two algorithms are brought in at the top of the Notebook, `LogisticRegression` and `RandomForestClassifier`, but feel free to integrate others that interest you or that seem well suited to the task. To compare these two classifiers, you will use cross-validation on the training set (i.e., the 80% from the original), with the goal of identifying the classifier with the highest AUC. After identifying the best algorithm, you will fit it to your held out test-set and examine the model's calibration, i.e., the relationship between predicted probabilities and observed failure rates. Finally, you will visualize your predicted probabilities and identify a probability cut-off for checking-in with the highest risk students."
   ]
  },
  {
   "cell_type": "markdown",
   "metadata": {
    "deletable": false,
    "editable": false,
    "nbgrader": {
     "cell_type": "markdown",
     "checksum": "47bdfe2f772f30b29cdd9d392577cf79",
     "grade": false,
     "grade_id": "cell-14ce612688062045",
     "locked": true,
     "schema_version": 3,
     "solution": false,
     "task": false
    }
   },
   "source": [
    "### Grading\n",
    "2.1. (2 points) Split the original dataset into 80/20 train-test sets\n",
    "\n",
    "2.2. (5 points) Pre-process continuous variables in a pipeline that avoids data leakage\n",
    "\n",
    "2.3. (10 points) Develop and compare two different classifiers using cross-validated AUC\n",
    "\n",
    "2.4. (2 points) Apply best performing classifier to test-set and report AUC\n",
    "\n",
    "2.5. (5 points) Create calibration curve on test-set\n",
    "\n",
    "2.6. (4 points) Visualize distribution of predicted probabilities using a box plot or histogram\n",
    "\n",
    "2.7. (2 points) Identify predicted probability threshold to identify the top 20% highest risk students"
   ]
  },
  {
   "cell_type": "markdown",
   "metadata": {
    "deletable": false,
    "editable": false,
    "nbgrader": {
     "cell_type": "markdown",
     "checksum": "058b2680447de5b3abc8cdc79701201b",
     "grade": false,
     "grade_id": "cell-a161725308789aa1",
     "locked": true,
     "schema_version": 3,
     "solution": false,
     "task": false
    }
   },
   "source": [
    "2.1. (2 points) Split the original dataset into 80/20 train-test sets"
   ]
  },
  {
   "cell_type": "code",
   "execution_count": 7,
   "metadata": {
    "deletable": false,
    "nbgrader": {
     "cell_type": "code",
     "checksum": "501ffbbc45cc3460213fa0e871f6850e",
     "grade": true,
     "grade_id": "cell-6b65a9ced3e65419",
     "locked": false,
     "points": 0,
     "schema_version": 3,
     "solution": true,
     "task": false
    }
   },
   "outputs": [],
   "source": [
    "## Your code with comments\n",
    "# YOUR CODE HERE\n",
    "train = df.sample(frac=0.8)\n",
    "test = df[~df.index.isin(train.index)]\n",
    "X_train = train.drop(columns = [\"final_result\"])\n",
    "y_train = train[\"final_result\"]\n",
    "X_test = test.drop(columns = [\"final_result\"])\n",
    "y_test = test[\"final_result\"]\n",
    "#raise NotImplementedError()"
   ]
  },
  {
   "cell_type": "markdown",
   "metadata": {
    "deletable": false,
    "editable": false,
    "nbgrader": {
     "cell_type": "markdown",
     "checksum": "8d079268bbad221fef68c89a126d5fe2",
     "grade": false,
     "grade_id": "cell-0f9c755a789831ca",
     "locked": true,
     "schema_version": 3,
     "solution": false,
     "task": false
    }
   },
   "source": [
    "2.2. (5 points) Pre-process continuous variables in a pipeline that avoids data leakage\n",
    "\n",
    "**Note:** https://scikit-learn.org/stable/modules/generated/sklearn.pipeline.Pipeline.html"
   ]
  },
  {
   "cell_type": "code",
   "execution_count": 8,
   "metadata": {},
   "outputs": [
    {
     "data": {
      "text/plain": [
       "Index(['final_result', 'score_Quiz 1', 'score_Quiz 2', 'score_Test 1',\n",
       "       'score_Test 2', 'not_submit_Quiz 1', 'not_submit_Quiz 2',\n",
       "       'not_submit_Test 1', 'not_submit_Test 2', 'on_time_Quiz 1',\n",
       "       'on_time_Quiz 2', 'on_time_Test 1', 'on_time_Test 2',\n",
       "       'clicks_course_homepage', 'clicks_course_page', 'clicks_forum',\n",
       "       'clicks_resource', 'clicks_wiki', 'count_days_used_lr'],\n",
       "      dtype='object')"
      ]
     },
     "execution_count": 8,
     "metadata": {},
     "output_type": "execute_result"
    }
   ],
   "source": [
    "df.columns"
   ]
  },
  {
   "cell_type": "code",
   "execution_count": 9,
   "metadata": {
    "deletable": false,
    "nbgrader": {
     "cell_type": "code",
     "checksum": "467fbbc5fd220328cadadf6bbb1db301",
     "grade": true,
     "grade_id": "cell-f8368045deb695f5",
     "locked": false,
     "points": 0,
     "schema_version": 3,
     "solution": true,
     "task": false
    }
   },
   "outputs": [
    {
     "data": {
      "text/plain": [
       "0.8159509202453987"
      ]
     },
     "execution_count": 9,
     "metadata": {},
     "output_type": "execute_result"
    }
   ],
   "source": [
    "## Your code with comments\n",
    "# YOUR CODE HERE\n",
    "# custom class to allow the column select because we do not have ColumnTransformer from sklearn\n",
    "class StandardScaler_column_selector():\n",
    "    def __init__(self, columns):\n",
    "        self.scaler = StandardScaler()\n",
    "        self.columns = columns\n",
    "    \n",
    "    def fit(self, x, y):\n",
    "        x_scaled = x[self.columns]\n",
    "        self.scaler.fit(x_scaled)\n",
    "        return self\n",
    "        \n",
    "    def transform(self, x):\n",
    "        x_cols = x[self.columns]\n",
    "        x_part1 = pd.DataFrame(self.scaler.transform(x_cols), columns = x_cols.columns, index= x_cols.index)\n",
    "        x_part2 = x[[col for col in x.columns if col not in self.columns]].copy()\n",
    "        x_transformed = pd.concat([x_part1, x_part2], axis=1)[x.columns]\n",
    "                               \n",
    "        return x_transformed\n",
    "\n",
    "\n",
    "continuous_columns = ['score_Quiz 1', 'score_Quiz 2', 'score_Test 1', 'score_Test 2']\n",
    "scaler = StandardScaler_column_selector(continuous_columns)\n",
    "# scaler.fit(X_train, y_train)\n",
    "\n",
    "pipe = Pipeline([(\"scaler\", scaler), (\"model\", LogisticRegression(max_iter=1000))])\n",
    "pipe.fit(X_train, y_train)\n",
    "pipe.score(X_test, y_test)\n",
    "#raise NotImplementedError()"
   ]
  },
  {
   "cell_type": "markdown",
   "metadata": {
    "deletable": false,
    "editable": false,
    "nbgrader": {
     "cell_type": "markdown",
     "checksum": "c8ecf467e8a0c60b2eb697305685fa9c",
     "grade": false,
     "grade_id": "cell-39a782ea2a90facf",
     "locked": true,
     "schema_version": 3,
     "solution": false,
     "task": false
    }
   },
   "source": [
    "2.3. (10 points) Develop and compare two different classifiers using cross-validated AUC"
   ]
  },
  {
   "cell_type": "markdown",
   "metadata": {},
   "source": [
    "**Classifier 1**"
   ]
  },
  {
   "cell_type": "code",
   "execution_count": 10,
   "metadata": {
    "deletable": false,
    "nbgrader": {
     "cell_type": "code",
     "checksum": "f792042b4b68adc646d59af7686b38cc",
     "grade": true,
     "grade_id": "cell-85315e4d9c312c17",
     "locked": false,
     "points": 0,
     "schema_version": 3,
     "solution": true,
     "task": false
    }
   },
   "outputs": [
    {
     "data": {
      "text/plain": [
       "0.8136367603262034"
      ]
     },
     "execution_count": 10,
     "metadata": {},
     "output_type": "execute_result"
    }
   ],
   "source": [
    "## Your code with comments\n",
    "# YOUR CODE HERE\n",
    "model1 = LogisticRegression(max_iter=5000)\n",
    "clf1 = Pipeline([(\"scaler\", scaler), (\"model\", model1)])\n",
    "\n",
    "cv_auc1 = cross_val_score(clf1, X_train, y_train, scoring = \"roc_auc\")\n",
    "cv_auc1.mean()\n",
    "#raise NotImplementedError()"
   ]
  },
  {
   "cell_type": "markdown",
   "metadata": {},
   "source": [
    "**Classifier 2**"
   ]
  },
  {
   "cell_type": "code",
   "execution_count": 11,
   "metadata": {
    "deletable": false,
    "nbgrader": {
     "cell_type": "code",
     "checksum": "96a6bebdbb40b3a73128418d26ca0cce",
     "grade": true,
     "grade_id": "cell-653025912c57412e",
     "locked": false,
     "points": 0,
     "schema_version": 3,
     "solution": true,
     "task": false
    }
   },
   "outputs": [
    {
     "data": {
      "text/plain": [
       "0.8038223079135431"
      ]
     },
     "execution_count": 11,
     "metadata": {},
     "output_type": "execute_result"
    }
   ],
   "source": [
    "## Your code with comments\n",
    "# YOUR CODE HERE\n",
    "clf2 = Pipeline([(\"scaler\", scaler), (\"model\", RandomForestClassifier())])\n",
    "\n",
    "cv_auc2 = cross_val_score(clf2, X_train, y_train, scoring = \"roc_auc\")\n",
    "cv_auc2.mean()\n",
    "#raise NotImplementedError()"
   ]
  },
  {
   "cell_type": "markdown",
   "metadata": {
    "deletable": false,
    "editable": false,
    "nbgrader": {
     "cell_type": "markdown",
     "checksum": "9b50740be30fb2f0bdd7dd4bdeb8fe28",
     "grade": false,
     "grade_id": "cell-c4793e28dad46e1f",
     "locked": true,
     "schema_version": 3,
     "solution": false,
     "task": false
    }
   },
   "source": [
    "2.4. (2 points) Apply best performing classifier to test-set and report AUC"
   ]
  },
  {
   "cell_type": "code",
   "execution_count": 12,
   "metadata": {
    "deletable": false,
    "nbgrader": {
     "cell_type": "code",
     "checksum": "45a420ed32ad48fd9ce7e993e79dfea9",
     "grade": true,
     "grade_id": "cell-6c23f4888ca27ce7",
     "locked": false,
     "points": 0,
     "schema_version": 3,
     "solution": true,
     "task": false
    }
   },
   "outputs": [
    {
     "data": {
      "text/plain": [
       "0.8159509202453987"
      ]
     },
     "execution_count": 12,
     "metadata": {},
     "output_type": "execute_result"
    }
   ],
   "source": [
    "## Your code with comments\n",
    "# YOUR CODE HERE\n",
    "clf1.fit(X_train, y_train)\n",
    "# use crass val score function with cv set to select the train and test data to compute auc because roc_auc score function not imported\n",
    "test_auc = cross_val_score(clf1, df.drop(columns = \"final_result\"), df[\"final_result\"], cv=[(np.array(train.index), np.array(test.index))])[0]\n",
    "test_auc\n",
    "#raise NotImplementedError()"
   ]
  },
  {
   "cell_type": "markdown",
   "metadata": {
    "deletable": false,
    "editable": false,
    "nbgrader": {
     "cell_type": "markdown",
     "checksum": "711eae3738d2e79455f001ff6e4daed8",
     "grade": false,
     "grade_id": "cell-4b75b8471a1a9f3a",
     "locked": true,
     "schema_version": 3,
     "solution": false,
     "task": false
    }
   },
   "source": [
    "2.5. (5 points) Create calibration curve on test-set\n",
    "\n",
    "**Note:** for creating calibration curves, see:\n",
    "- https://scikit-learn.org/stable/auto_examples/calibration/plot_calibration_curve.html#sphx-glr-auto-examples-calibration-plot-calibration-curve-py\n",
    "- https://scikit-learn.org/stable/modules/generated/sklearn.calibration.calibration_curve.html"
   ]
  },
  {
   "cell_type": "code",
   "execution_count": 13,
   "metadata": {},
   "outputs": [],
   "source": [
    "from sklearn.calibration import calibration_curve"
   ]
  },
  {
   "cell_type": "code",
   "execution_count": 14,
   "metadata": {},
   "outputs": [
    {
     "data": {
      "text/plain": [
       "6      1\n",
       "13     1\n",
       "16     0\n",
       "20     0\n",
       "25     0\n",
       "      ..\n",
       "789    0\n",
       "795    1\n",
       "799    0\n",
       "802    0\n",
       "811    1\n",
       "Name: final_result, Length: 163, dtype: int64"
      ]
     },
     "execution_count": 14,
     "metadata": {},
     "output_type": "execute_result"
    }
   ],
   "source": [
    "y_test"
   ]
  },
  {
   "cell_type": "code",
   "execution_count": 15,
   "metadata": {
    "deletable": false,
    "nbgrader": {
     "cell_type": "code",
     "checksum": "bd5d89f0a820550398a8a5d27d24023a",
     "grade": true,
     "grade_id": "cell-08e00dab0265b1ed",
     "locked": false,
     "points": 0,
     "schema_version": 3,
     "solution": true,
     "task": false
    }
   },
   "outputs": [
    {
     "data": {
      "text/plain": [
       "<AxesSubplot:xlabel='prob_pred'>"
      ]
     },
     "execution_count": 15,
     "metadata": {},
     "output_type": "execute_result"
    },
    {
     "data": {
      "image/png": "[encoded data removed]",
      "text/plain": [
       "<Figure size 432x288 with 1 Axes>"
      ]
     },
     "metadata": {
      "needs_background": "light"
     },
     "output_type": "display_data"
    }
   ],
   "source": [
    "## Your code with comments\n",
    "# YOUR CODE HERE\n",
    "y_pred_proba = clf1.predict_proba(X_test)[:,1]\n",
    "prob_true, prob_pred = calibration_curve(y_test, y_pred_proba, n_bins=8)\n",
    "\n",
    "result = pd.DataFrame((prob_true, prob_pred)).T\n",
    "result.columns = [\"prob_true\", \"prob_pred\"]\n",
    "result.plot(x=\"prob_pred\", y=\"prob_true\")\n",
    "#raise NotImplementedError()"
   ]
  },
  {
   "cell_type": "markdown",
   "metadata": {
    "deletable": false,
    "editable": false,
    "nbgrader": {
     "cell_type": "markdown",
     "checksum": "633e4d7094768058fa47612521dd9eca",
     "grade": false,
     "grade_id": "cell-b4781673990f4e9a",
     "locked": true,
     "schema_version": 3,
     "solution": false,
     "task": false
    }
   },
   "source": [
    "2.6. (4 points) Visualize distribution of predicted probabilities using a box plot or histogram"
   ]
  },
  {
   "cell_type": "code",
   "execution_count": 16,
   "metadata": {
    "deletable": false,
    "nbgrader": {
     "cell_type": "code",
     "checksum": "7cd89075fd05e14a2f8747514dad0316",
     "grade": true,
     "grade_id": "cell-13856fd39c12fafc",
     "locked": false,
     "points": 0,
     "schema_version": 3,
     "solution": true,
     "task": false
    }
   },
   "outputs": [
    {
     "data": {
      "text/plain": [
       "<AxesSubplot:ylabel='Frequency'>"
      ]
     },
     "execution_count": 16,
     "metadata": {},
     "output_type": "execute_result"
    },
    {
     "data": {
      "image/png": "[encoded data removed]",
      "text/plain": [
       "<Figure size 432x288 with 1 Axes>"
      ]
     },
     "metadata": {
      "needs_background": "light"
     },
     "output_type": "display_data"
    }
   ],
   "source": [
    "## Your code with comments\n",
    "# YOUR CODE HERE\n",
    "pd.DataFrame(y_pred_proba).plot.hist(bins=20)\n",
    "#raise NotImplementedError()"
   ]
  },
  {
   "cell_type": "markdown",
   "metadata": {
    "deletable": false,
    "editable": false,
    "nbgrader": {
     "cell_type": "markdown",
     "checksum": "ab28b8d107b9f24ac6806d32cb418242",
     "grade": false,
     "grade_id": "cell-aba2ab799a1d25c5",
     "locked": true,
     "schema_version": 3,
     "solution": false,
     "task": false
    }
   },
   "source": [
    "2.7. (2 points) Identify predicted probability threshold to identify the top 20% highest risk students"
   ]
  },
  {
   "cell_type": "code",
   "execution_count": 21,
   "metadata": {
    "deletable": false,
    "nbgrader": {
     "cell_type": "code",
     "checksum": "099ea3b3911502585eb30850ee02ca85",
     "grade": true,
     "grade_id": "cell-275a402ea8159c98",
     "locked": false,
     "points": 0,
     "schema_version": 3,
     "solution": true,
     "task": false
    }
   },
   "outputs": [],
   "source": [
    "## Your code with comments\n",
    "# YOUR CODE HERE\n",
    "twenty_percent=np.percentile(y_pred_proba, q=100-20)\n",
    "#raise NotImplementedError()"
   ]
  },
  {
   "cell_type": "markdown",
   "metadata": {
    "deletable": false,
    "editable": false,
    "nbgrader": {
     "cell_type": "markdown",
     "checksum": "a98c7b3f11893895a6025eab5feb3e1e",
     "grade": false,
     "grade_id": "cell-e1ec181d8ab2d19a",
     "locked": true,
     "schema_version": 3,
     "solution": false,
     "task": false
    }
   },
   "source": [
    "# 3. Interpret (10 points)\n",
    "\n",
    "After developing the model, moving from wrangling to analyzing the predictions generated by the model, provide your thoughts on the following questions:"
   ]
  },
  {
   "cell_type": "markdown",
   "metadata": {
    "deletable": false,
    "editable": false,
    "nbgrader": {
     "cell_type": "markdown",
     "checksum": "0cd8adf7bc6dfeec570caa69a8fa052a",
     "grade": false,
     "grade_id": "cell-18fddbb2c12b0c2b",
     "locked": true,
     "schema_version": 3,
     "solution": false,
     "task": false
    }
   },
   "source": [
    "3.1. What concerns do you have for deploying the model? Concerns can include model quality based on different evaluation metrics, how well the model captures what it means to be successful in the course, and potential harmful uses of the model. (5 points)"
   ]
  },
  {
   "cell_type": "markdown",
   "metadata": {
    "collapsed": true
   },
   "source": [
    "One concern I have for deploying the model is it capturing inaccurate data, which could have a negative impact on the performance of the model. Another concern is that the data could very well be overfitting or underfitting, leading to the model either being too simple or too complicated.    "
   ]
  },
  {
   "cell_type": "markdown",
   "metadata": {
    "deletable": false,
    "editable": false,
    "nbgrader": {
     "cell_type": "markdown",
     "checksum": "222b665561963905a2366a97b10aa8dc",
     "grade": false,
     "grade_id": "cell-98c64505a66b1791",
     "locked": true,
     "schema_version": 3,
     "solution": false,
     "task": false
    }
   },
   "source": [
    "3.2. Finally, how well do you think the model helps in prioritizing students to support? (5 points)"
   ]
  },
  {
   "cell_type": "markdown",
   "metadata": {},
   "source": [
    "I think the model does not really help in prioritizing students to support well because even though it shows the relationship between predicted probabilities and observed failure rates, it seems more harmful than helpful, from a student's perspective. "
   ]
  }
 ],
 "metadata": {
  "coursera": {
   "schema_names": [
    "mads_learning_analytics_v2_assignment3"
   ]
  },
  "kernelspec": {
   "display_name": "Python 3 (ipykernel)",
   "language": "python",
   "name": "python3"
  },
  "language_info": {
   "codemirror_mode": {
    "name": "ipython",
    "version": 3
   },
   "file_extension": ".py",
   "mimetype": "text/x-python",
   "name": "python",
   "nbconvert_exporter": "python",
   "pygments_lexer": "ipython3",
   "version": "3.8.10"
  }
 },
 "nbformat": 4,
 "nbformat_minor": 1
}
