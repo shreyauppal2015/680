{
 "cells": [
  {
   "cell_type": "markdown",
   "metadata": {
    "deletable": false,
    "editable": false,
    "id": "fU4HAu8S92T2",
    "nbgrader": {
     "cell_type": "markdown",
     "checksum": "70566ce5e1c73da39212ae301280d730",
     "grade": false,
     "grade_id": "cell-1c9600e790e79f4a",
     "locked": true,
     "schema_version": 3,
     "solution": false,
     "task": false
    }
   },
   "source": [
    "<img src=\"https://brand.umich.edu/assets/brand/style-guide/logo-guidelines/U-M_Logo-Horizontal-Hex.png\" alt=\"Drawing\" style=\"width: 300px;\" align=\"left\"/><br>\n",
    "\n",
    "# Week 2: Unsupervised Learning\n",
    "\n",
    "The purpose of this activity is to explore the value of clustering algorithms (unsupervised learning) in learning analytics contexts. In learning analytics, we can use clusters to group students by common attributes."
   ]
  },
  {
   "cell_type": "markdown",
   "metadata": {
    "deletable": false,
    "editable": false,
    "id": "bJQVW1dljSWb",
    "nbgrader": {
     "cell_type": "markdown",
     "checksum": "bef66d820175338aa36971a6cefb161f",
     "grade": false,
     "grade_id": "cell-f1f33b22cf7803a1",
     "locked": true,
     "schema_version": 3,
     "solution": false,
     "task": false
    }
   },
   "source": [
    "## Introduction to Clustering\n",
    "\n",
    "Statistical learning tasks are commonly categorized into two general types: supervised and unsupervised learning (technically, there is a third category {semi-supervised learning}, which lies outside the scope of this discussion). In supervised learning, we have an outcome variable (labeled data) that we are training our model against. For example, in learning analytics, we might use student behavior data, assignment scores, attendance, and enrollment status to create a student drop-out model for an online course. This is an example of supervised learning and much of data science is focused on these types of applications. \n",
    "\n",
    "In this section, you will explore the second category of learning problems: unsupervised learning. In unsupervised learning, we are not modeling to predict labeled data; rather, we are exploring how data can be grouped together. Unsupervised learning does not have a \"ground truth\" that we can use to train and validate the model. In many unsupervised learning applications, we attempt to \"cluster\" data together in ways that maximize the similarity within each group and maximize the differences between groups. In learning analytics, this can be helpful to determine groupings of students who may have common needs. \n",
    "\n",
    "There is no single, superior clustering method that provides the best clusters in all situations. As Chapman and Feit (2015) remind us that like computer science there is no “free lunch” in analytics: “…the average performance of any pair of algorithms across all possible problems is identical” (p. 300). A consequence of this reality is that we should explore multiple approaches to clustering and evaluate their results against our business problem. There are many types of clustering algorithms (over 100), and they often produce very different results. We will focus on a few that are used regularly. \n",
    "\n",
    "In general, clustering algorithms require several common ingredients. First, we need data upon which to base our clusters. We call these data basis variables. In learning analytics, common basis variables can include student performance data. For this assignment, the basis variables have been provided. Second, clustering algorithms attempt to group observations based on a similarity index – a way of judging the degree to which two observations are similar. Similarity indices (also known as distance metrics) can vary depending on the type of data (continuous, categorical), and a common example of a similarity (distance) metric is Euclidean distance. Third, each clustering algorithm employs an algorithm, a way in which it processes through the data to arrive at clusters. Algorithms can be connective (such as hierarchical models), in which aggregate or disaggregate clusters are created based on a distance metric in a tree-like structure. This process can run both top-down and bottom-up. Partition models – like the very popular k-means – require the number of clusters to be known ahead of time and iteratively process through the idea to find an optimized solution. Distributional models are special in that they make distributional assumptions about the underlying data we are trying to cluster (such as the data conforming to a Gaussian distribution). Finally, density models are well-suited to cluster unusual patterns in data that may confuse simpler algorithms like k-means (Kaushik, 2016). For this project, we’ll evaluate clusters produced by k-means, a popular approach to clustering.\n",
    "\n",
    "### K-means\n",
    "\n",
    "K-means is a partition-based clustering algorithm that requires numeric data and knowing the number of clusters a priori. We define the number of number of clusters, and then the algorithm picks random centroids (the center of each cluster). It calculates the \"distance\" of each point to the centroids and assigns data points to the closest centroid. It then takes the mean of each data point in a cluster (hence the name \"k-means\") and creates a new centroid. This process continues until the centroids converges to a static location and stop moving. \n",
    "\n",
    "The question of the number of clusters is a key decision in k-means, and it can be handled in different ways. We can run multiple models with different numbers of clusters and judge the results, but that can be somewhat inefficient. Another option are scree plots. Scree plots allow for the analyst to compare within-group sums of squares to the number of clusters, looking for the “elbow” in the graph where increasing clusters only marginally decreases the sum of squares. Of course, in selection of a final clustering solution, we need to consider more than the clusters’ statistical properties. The business utility of clusters will ultimately determine their value. \n"
   ]
  },
  {
   "cell_type": "markdown",
   "metadata": {
    "deletable": false,
    "editable": false,
    "id": "2mmaFdzfaXCP",
    "nbgrader": {
     "cell_type": "markdown",
     "checksum": "3905f9cad5418b1e9ad184d3dcaa95db",
     "grade": false,
     "grade_id": "cell-9fc469582ea34c36",
     "locked": true,
     "schema_version": 3,
     "solution": false,
     "task": false
    }
   },
   "source": [
    "## Review of Clustering Through K-Means\n",
    "\n",
    "In the following section, we will review the basics of clustering through k-means. We begin by loading a data set of sales data of customers of a mall in the United States. The dataset includes some basic customer attributes including age, income, gender, etc. We will use these attributes to identify clusters of customers."
   ]
  },
  {
   "cell_type": "code",
   "execution_count": 2,
   "metadata": {
    "id": "QZuLJem9ScFC"
   },
   "outputs": [],
   "source": [
    "# Load the necessary libraries\n",
    "import pandas as pd\n",
    "import numpy as np\n",
    "import matplotlib.pyplot as plt \n",
    "from sklearn import preprocessing\n",
    "from sklearn.cluster import KMeans"
   ]
  },
  {
   "cell_type": "code",
   "execution_count": 3,
   "metadata": {
    "id": "iLG2x5neEx7d"
   },
   "outputs": [],
   "source": [
    "#Load the Mall Data\n",
    "mall_df= pd.read_csv(\"assets/mall_customers.csv\")"
   ]
  },
  {
   "cell_type": "code",
   "execution_count": 4,
   "metadata": {
    "id": "XTFp-MUidB7n"
   },
   "outputs": [
    {
     "data": {
      "text/plain": [
       "Index(['CustomerID', 'Gender', 'Age', 'Annual_Income', 'Spending_Score'], dtype='object')"
      ]
     },
     "execution_count": 4,
     "metadata": {},
     "output_type": "execute_result"
    }
   ],
   "source": [
    "#View Columns\n",
    "mall_df.columns"
   ]
  },
  {
   "cell_type": "code",
   "execution_count": 5,
   "metadata": {
    "id": "sFLlGD7nOgrz"
   },
   "outputs": [],
   "source": [
    "#Create a copy of the original dataframe\n",
    "mall_df_cluster=mall_df"
   ]
  },
  {
   "cell_type": "code",
   "execution_count": 6,
   "metadata": {},
   "outputs": [
    {
     "data": {
      "text/html": [
       "<div>\n",
       "<style scoped>\n",
       "    .dataframe tbody tr th:only-of-type {\n",
       "        vertical-align: middle;\n",
       "    }\n",
       "\n",
       "    .dataframe tbody tr th {\n",
       "        vertical-align: top;\n",
       "    }\n",
       "\n",
       "    .dataframe thead th {\n",
       "        text-align: right;\n",
       "    }\n",
       "</style>\n",
       "<table border=\"1\" class=\"dataframe\">\n",
       "  <thead>\n",
       "    <tr style=\"text-align: right;\">\n",
       "      <th></th>\n",
       "      <th>CustomerID</th>\n",
       "      <th>Gender</th>\n",
       "      <th>Age</th>\n",
       "      <th>Annual_Income</th>\n",
       "      <th>Spending_Score</th>\n",
       "    </tr>\n",
       "  </thead>\n",
       "  <tbody>\n",
       "    <tr>\n",
       "      <th>0</th>\n",
       "      <td>1</td>\n",
       "      <td>Male</td>\n",
       "      <td>19</td>\n",
       "      <td>15</td>\n",
       "      <td>39</td>\n",
       "    </tr>\n",
       "    <tr>\n",
       "      <th>1</th>\n",
       "      <td>2</td>\n",
       "      <td>Male</td>\n",
       "      <td>21</td>\n",
       "      <td>15</td>\n",
       "      <td>81</td>\n",
       "    </tr>\n",
       "    <tr>\n",
       "      <th>2</th>\n",
       "      <td>3</td>\n",
       "      <td>Female</td>\n",
       "      <td>20</td>\n",
       "      <td>16</td>\n",
       "      <td>6</td>\n",
       "    </tr>\n",
       "    <tr>\n",
       "      <th>3</th>\n",
       "      <td>4</td>\n",
       "      <td>Female</td>\n",
       "      <td>23</td>\n",
       "      <td>16</td>\n",
       "      <td>77</td>\n",
       "    </tr>\n",
       "    <tr>\n",
       "      <th>4</th>\n",
       "      <td>5</td>\n",
       "      <td>Female</td>\n",
       "      <td>31</td>\n",
       "      <td>17</td>\n",
       "      <td>40</td>\n",
       "    </tr>\n",
       "    <tr>\n",
       "      <th>...</th>\n",
       "      <td>...</td>\n",
       "      <td>...</td>\n",
       "      <td>...</td>\n",
       "      <td>...</td>\n",
       "      <td>...</td>\n",
       "    </tr>\n",
       "    <tr>\n",
       "      <th>195</th>\n",
       "      <td>196</td>\n",
       "      <td>Female</td>\n",
       "      <td>35</td>\n",
       "      <td>120</td>\n",
       "      <td>79</td>\n",
       "    </tr>\n",
       "    <tr>\n",
       "      <th>196</th>\n",
       "      <td>197</td>\n",
       "      <td>Female</td>\n",
       "      <td>45</td>\n",
       "      <td>126</td>\n",
       "      <td>28</td>\n",
       "    </tr>\n",
       "    <tr>\n",
       "      <th>197</th>\n",
       "      <td>198</td>\n",
       "      <td>Male</td>\n",
       "      <td>32</td>\n",
       "      <td>126</td>\n",
       "      <td>74</td>\n",
       "    </tr>\n",
       "    <tr>\n",
       "      <th>198</th>\n",
       "      <td>199</td>\n",
       "      <td>Male</td>\n",
       "      <td>32</td>\n",
       "      <td>137</td>\n",
       "      <td>18</td>\n",
       "    </tr>\n",
       "    <tr>\n",
       "      <th>199</th>\n",
       "      <td>200</td>\n",
       "      <td>Male</td>\n",
       "      <td>30</td>\n",
       "      <td>137</td>\n",
       "      <td>83</td>\n",
       "    </tr>\n",
       "  </tbody>\n",
       "</table>\n",
       "<p>200 rows × 5 columns</p>\n",
       "</div>"
      ],
      "text/plain": [
       "     CustomerID  Gender  Age  Annual_Income  Spending_Score\n",
       "0             1    Male   19             15              39\n",
       "1             2    Male   21             15              81\n",
       "2             3  Female   20             16               6\n",
       "3             4  Female   23             16              77\n",
       "4             5  Female   31             17              40\n",
       "..          ...     ...  ...            ...             ...\n",
       "195         196  Female   35            120              79\n",
       "196         197  Female   45            126              28\n",
       "197         198    Male   32            126              74\n",
       "198         199    Male   32            137              18\n",
       "199         200    Male   30            137              83\n",
       "\n",
       "[200 rows x 5 columns]"
      ]
     },
     "execution_count": 6,
     "metadata": {},
     "output_type": "execute_result"
    }
   ],
   "source": [
    "mall_df_cluster"
   ]
  },
  {
   "cell_type": "code",
   "execution_count": 7,
   "metadata": {
    "id": "HQzFpmrmWbIl"
   },
   "outputs": [],
   "source": [
    "# Before we begin modeling the clusters we should (1) isolate the variables of interest, \n",
    "# and (2) standardize those variables. Because clusters are built on the relative 'distance' between points\n",
    "# in a multi-dimensional space, standardization helps equalize the influence of each variable by normalizing the \n",
    "# underlying units. \n",
    "\n",
    "# Select the variables that inform clustering and subset them as X1.\n",
    "X1 = mall_df_cluster.iloc[:,2:5]\n",
    "\n",
    "# Standardize the factors\n",
    "X1 = preprocessing.scale(X1)"
   ]
  },
  {
   "cell_type": "markdown",
   "metadata": {
    "deletable": false,
    "editable": false,
    "id": "wT6NP1F_c1KZ",
    "nbgrader": {
     "cell_type": "markdown",
     "checksum": "aa4a33ef406f47201f8e8036c9b15d82",
     "grade": false,
     "grade_id": "cell-76d07fefa8ec3322",
     "locked": true,
     "schema_version": 3,
     "solution": false,
     "task": false
    }
   },
   "source": [
    "Now that the data are prepared, we can begin the process of modeling k-means. We will use ```sklearn.cluster.KMeans``` to model the clusters (https://scikit-learn.org/stable/modules/generated/sklearn.cluster.KMeans.html). Sklearn's kmeans algorithim has relatively few parameters. Some of them deal with computational efficicency, but one of special interest is the number of clusters that we include. \n",
    "\n",
    "There are a few strategies one can use to identify the number of clusters in a k-means model: \n",
    "1. One might know, *a priori*, the number clusters that would be relevant to the need. For example, if the marketing team is looking to target customers and has the capacity to differentiate for 3 different clusters, we can use k-means to create 3 clusters of relative similarity. While this approach may meet the need of the business, it may not be optimal statistically (e.g. three clusters may not be optimally similar). \n",
    "2. Another approach is to use the average silhoutte, which is a metric that ranges from -1 to +1 and measures cohesion and separation (where +1 means that the clusters are well-formed). Cohesion measures how similar a data point is to its own cluster, while separation is how disimilar it is to other clusters. The optimal number of clusters is the number that maximizes the average silhoutte value. \n",
    "3. A third approach is using principal component analysis (PCA). PCA is a common dimension reduction technique for highly dimensional data, used in a variety of contexts including regression and clustering. Principal components are a transformation of the existing variables in a data set to a few composite features through applied linear algebra. These composite features captures a unique portion of the overall variance in the original independent variables, while each component is independent and uncorrelated with the others (orthogonal). In the clustering context, we can use PCA to identify approximately how many clusters capture 80% of the total variation in the original data by looking at how many principal components are needed to explain 80% of the data's variance.\n",
    "4. A final approach is called the elbow method. In the elbow method, we calcuate the overall inertia (the distance from data points and the center of their cluster, the centroid) in the k-means algorithm, and plot the inertia produced by k-mean models that vary by the number of clusters they include. The goal here is not to find the lowest inertia, as that will always correspond to the maximum number of clusters we plot. Rather, we want to find that point where adding addition clusters provides diminishing returns in the reduction of inertia. This can be identified visually through an elbow plot (which we will demonstrate) or by calcuating a distortion metric.\n",
    "\n",
    "One note: kmeans is an algorithm that will generally find a solution, but that does not always guarantee the solution will be optimal. This is because the algorithm may, in its search for a solution, get stuck in a local minima. In general, it is recommended you run your final configuration for kmeans multiple times and evaluate the quality of the clusters to find \n",
    "the best offered solution. However, for purposes of this exercise, we set the ```random_state``` to allow reproducibility as you experiment and learn with the code. If preferrable, you can always remove this parameter and let the results vary."
   ]
  },
  {
   "cell_type": "code",
   "execution_count": 8,
   "metadata": {
    "id": "jYys5A2eWAz8"
   },
   "outputs": [],
   "source": [
    "# Set up the code to calculate the inertia statistic for each k-means model for clusters 1 through 11. \n",
    "# This array of inertia values can be used for plotting our elbow graph.\n",
    "# random_state is set for reproducibility. \n",
    "\n",
    "inertia = []\n",
    "for n in range(1 , 11):\n",
    "    algorithm = (KMeans(n_clusters = n ,init='k-means++', n_init = 10 ,max_iter=300, \n",
    "                        tol=0.0001,  random_state= 111  , algorithm='full') )\n",
    "    algorithm.fit(X1)\n",
    "    inertia.append(algorithm.inertia_)"
   ]
  },
  {
   "cell_type": "code",
   "execution_count": 9,
   "metadata": {
    "id": "o3LzuwfmSXc0"
   },
   "outputs": [
    {
     "data": {
      "image/png": "[encoded data removed]",
      "text/plain": [
       "<Figure size 1080x432 with 1 Axes>"
      ]
     },
     "metadata": {
      "needs_background": "light"
     },
     "output_type": "display_data"
    }
   ],
   "source": [
    "#Plot the interia points to create the elbow plot\n",
    "\n",
    "plt.figure(1 , figsize = (15 ,6))\n",
    "plt.plot(np.arange(1 , 11) , inertia , 'o')\n",
    "plt.plot(np.arange(1 , 11) , inertia , '-' , alpha = 0.5)\n",
    "plt.xlabel('Number of Clusters') , plt.ylabel('Inertia')\n",
    "plt.show()"
   ]
  },
  {
   "cell_type": "markdown",
   "metadata": {
    "deletable": false,
    "editable": false,
    "id": "vwWzWbRdT1a4",
    "nbgrader": {
     "cell_type": "markdown",
     "checksum": "42f69e82d30c4e45a28f3cf869e8d06c",
     "grade": false,
     "grade_id": "cell-0c5a4399928985b0",
     "locked": true,
     "schema_version": 3,
     "solution": false,
     "task": false
    }
   },
   "source": [
    "Using elbow plot above, we can see an elbow around 4 clusters; we may use a secondary method or additional diagnostics to determine the number of clusters. In this case, we accept the visual presentation and select 4 clusters as the most viable solution for these data. \n",
    "\n",
    "Having identified the number of clusters, we can proceed with the modeling process."
   ]
  },
  {
   "cell_type": "code",
   "execution_count": 10,
   "metadata": {
    "id": "aMHB6-zze4eQ"
   },
   "outputs": [
    {
     "data": {
      "text/html": [
       "<style>#sk-container-id-1 {color: black;background-color: white;}#sk-container-id-1 pre{padding: 0;}#sk-container-id-1 div.sk-toggleable {background-color: white;}#sk-container-id-1 label.sk-toggleable__label {cursor: pointer;display: block;width: 100%;margin-bottom: 0;padding: 0.3em;box-sizing: border-box;text-align: center;}#sk-container-id-1 label.sk-toggleable__label-arrow:before {content: \"▸\";float: left;margin-right: 0.25em;color: #696969;}#sk-container-id-1 label.sk-toggleable__label-arrow:hover:before {color: black;}#sk-container-id-1 div.sk-estimator:hover label.sk-toggleable__label-arrow:before {color: black;}#sk-container-id-1 div.sk-toggleable__content {max-height: 0;max-width: 0;overflow: hidden;text-align: left;background-color: #f0f8ff;}#sk-container-id-1 div.sk-toggleable__content pre {margin: 0.2em;color: black;border-radius: 0.25em;background-color: #f0f8ff;}#sk-container-id-1 input.sk-toggleable__control:checked~div.sk-toggleable__content {max-height: 200px;max-width: 100%;overflow: auto;}#sk-container-id-1 input.sk-toggleable__control:checked~label.sk-toggleable__label-arrow:before {content: \"▾\";}#sk-container-id-1 div.sk-estimator input.sk-toggleable__control:checked~label.sk-toggleable__label {background-color: #d4ebff;}#sk-container-id-1 div.sk-label input.sk-toggleable__control:checked~label.sk-toggleable__label {background-color: #d4ebff;}#sk-container-id-1 input.sk-hidden--visually {border: 0;clip: rect(1px 1px 1px 1px);clip: rect(1px, 1px, 1px, 1px);height: 1px;margin: -1px;overflow: hidden;padding: 0;position: absolute;width: 1px;}#sk-container-id-1 div.sk-estimator {font-family: monospace;background-color: #f0f8ff;border: 1px dotted black;border-radius: 0.25em;box-sizing: border-box;margin-bottom: 0.5em;}#sk-container-id-1 div.sk-estimator:hover {background-color: #d4ebff;}#sk-container-id-1 div.sk-parallel-item::after {content: \"\";width: 100%;border-bottom: 1px solid gray;flex-grow: 1;}#sk-container-id-1 div.sk-label:hover label.sk-toggleable__label {background-color: #d4ebff;}#sk-container-id-1 div.sk-serial::before {content: \"\";position: absolute;border-left: 1px solid gray;box-sizing: border-box;top: 0;bottom: 0;left: 50%;z-index: 0;}#sk-container-id-1 div.sk-serial {display: flex;flex-direction: column;align-items: center;background-color: white;padding-right: 0.2em;padding-left: 0.2em;position: relative;}#sk-container-id-1 div.sk-item {position: relative;z-index: 1;}#sk-container-id-1 div.sk-parallel {display: flex;align-items: stretch;justify-content: center;background-color: white;position: relative;}#sk-container-id-1 div.sk-item::before, #sk-container-id-1 div.sk-parallel-item::before {content: \"\";position: absolute;border-left: 1px solid gray;box-sizing: border-box;top: 0;bottom: 0;left: 50%;z-index: -1;}#sk-container-id-1 div.sk-parallel-item {display: flex;flex-direction: column;z-index: 1;position: relative;background-color: white;}#sk-container-id-1 div.sk-parallel-item:first-child::after {align-self: flex-end;width: 50%;}#sk-container-id-1 div.sk-parallel-item:last-child::after {align-self: flex-start;width: 50%;}#sk-container-id-1 div.sk-parallel-item:only-child::after {width: 0;}#sk-container-id-1 div.sk-dashed-wrapped {border: 1px dashed gray;margin: 0 0.4em 0.5em 0.4em;box-sizing: border-box;padding-bottom: 0.4em;background-color: white;}#sk-container-id-1 div.sk-label label {font-family: monospace;font-weight: bold;display: inline-block;line-height: 1.2em;}#sk-container-id-1 div.sk-label-container {text-align: center;}#sk-container-id-1 div.sk-container {/* jupyter's `normalize.less` sets `[hidden] { display: none; }` but bootstrap.min.css set `[hidden] { display: none !important; }` so we also need the `!important` here to be able to override the default hidden behavior on the sphinx rendered scikit-learn.org. See: https://github.com/scikit-learn/scikit-learn/issues/21755 */display: inline-block !important;position: relative;}#sk-container-id-1 div.sk-text-repr-fallback {display: none;}</style><div id=\"sk-container-id-1\" class=\"sk-top-container\"><div class=\"sk-text-repr-fallback\"><pre>KMeans(n_clusters=4)</pre><b>In a Jupyter environment, please rerun this cell to show the HTML representation or trust the notebook. <br />On GitHub, the HTML representation is unable to render, please try loading this page with nbviewer.org.</b></div><div class=\"sk-container\" hidden><div class=\"sk-item\"><div class=\"sk-estimator sk-toggleable\"><input class=\"sk-toggleable__control sk-hidden--visually\" id=\"sk-estimator-id-1\" type=\"checkbox\" checked><label for=\"sk-estimator-id-1\" class=\"sk-toggleable__label sk-toggleable__label-arrow\">KMeans</label><div class=\"sk-toggleable__content\"><pre>KMeans(n_clusters=4)</pre></div></div></div></div></div>"
      ],
      "text/plain": [
       "KMeans(n_clusters=4)"
      ]
     },
     "execution_count": 10,
     "metadata": {},
     "output_type": "execute_result"
    }
   ],
   "source": [
    "# Run the clustering algorithm with n=4 clusters\n",
    "\n",
    "km= KMeans(n_clusters=4)\n",
    "km.fit(X1)"
   ]
  },
  {
   "cell_type": "markdown",
   "metadata": {
    "deletable": false,
    "editable": false,
    "id": "S7AaQvfHgWqX",
    "nbgrader": {
     "cell_type": "markdown",
     "checksum": "a7615e78c0d7549349640db9949e4818",
     "grade": false,
     "grade_id": "cell-83d30895b9021b6b",
     "locked": true,
     "schema_version": 3,
     "solution": false,
     "task": false
    }
   },
   "source": [
    "Having identified the clusters, we now should explore them. In order to fully leverage clusters, it is helpful describe the clusters. What is common about the customers in each cluster?"
   ]
  },
  {
   "cell_type": "code",
   "execution_count": 11,
   "metadata": {
    "id": "dGEe60syiI97"
   },
   "outputs": [],
   "source": [
    "# Use kmeans.predict() to generate the clusters for our data\n",
    "predict=km.predict(X1)"
   ]
  },
  {
   "cell_type": "code",
   "execution_count": 12,
   "metadata": {
    "id": "MATJ1t9Lkpps"
   },
   "outputs": [],
   "source": [
    "# Attach those clusters back to the original data frame\n",
    "mall_df_cluster['cluster'] = pd.Series(predict, index=mall_df_cluster.index)"
   ]
  },
  {
   "cell_type": "code",
   "execution_count": 13,
   "metadata": {},
   "outputs": [
    {
     "data": {
      "text/html": [
       "<div>\n",
       "<style scoped>\n",
       "    .dataframe tbody tr th:only-of-type {\n",
       "        vertical-align: middle;\n",
       "    }\n",
       "\n",
       "    .dataframe tbody tr th {\n",
       "        vertical-align: top;\n",
       "    }\n",
       "\n",
       "    .dataframe thead th {\n",
       "        text-align: right;\n",
       "    }\n",
       "</style>\n",
       "<table border=\"1\" class=\"dataframe\">\n",
       "  <thead>\n",
       "    <tr style=\"text-align: right;\">\n",
       "      <th></th>\n",
       "      <th>CustomerID</th>\n",
       "      <th>Gender</th>\n",
       "      <th>Age</th>\n",
       "      <th>Annual_Income</th>\n",
       "      <th>Spending_Score</th>\n",
       "      <th>cluster</th>\n",
       "    </tr>\n",
       "  </thead>\n",
       "  <tbody>\n",
       "    <tr>\n",
       "      <th>0</th>\n",
       "      <td>1</td>\n",
       "      <td>Male</td>\n",
       "      <td>19</td>\n",
       "      <td>15</td>\n",
       "      <td>39</td>\n",
       "      <td>3</td>\n",
       "    </tr>\n",
       "    <tr>\n",
       "      <th>1</th>\n",
       "      <td>2</td>\n",
       "      <td>Male</td>\n",
       "      <td>21</td>\n",
       "      <td>15</td>\n",
       "      <td>81</td>\n",
       "      <td>3</td>\n",
       "    </tr>\n",
       "    <tr>\n",
       "      <th>2</th>\n",
       "      <td>3</td>\n",
       "      <td>Female</td>\n",
       "      <td>20</td>\n",
       "      <td>16</td>\n",
       "      <td>6</td>\n",
       "      <td>3</td>\n",
       "    </tr>\n",
       "    <tr>\n",
       "      <th>3</th>\n",
       "      <td>4</td>\n",
       "      <td>Female</td>\n",
       "      <td>23</td>\n",
       "      <td>16</td>\n",
       "      <td>77</td>\n",
       "      <td>3</td>\n",
       "    </tr>\n",
       "    <tr>\n",
       "      <th>4</th>\n",
       "      <td>5</td>\n",
       "      <td>Female</td>\n",
       "      <td>31</td>\n",
       "      <td>17</td>\n",
       "      <td>40</td>\n",
       "      <td>3</td>\n",
       "    </tr>\n",
       "    <tr>\n",
       "      <th>...</th>\n",
       "      <td>...</td>\n",
       "      <td>...</td>\n",
       "      <td>...</td>\n",
       "      <td>...</td>\n",
       "      <td>...</td>\n",
       "      <td>...</td>\n",
       "    </tr>\n",
       "    <tr>\n",
       "      <th>195</th>\n",
       "      <td>196</td>\n",
       "      <td>Female</td>\n",
       "      <td>35</td>\n",
       "      <td>120</td>\n",
       "      <td>79</td>\n",
       "      <td>0</td>\n",
       "    </tr>\n",
       "    <tr>\n",
       "      <th>196</th>\n",
       "      <td>197</td>\n",
       "      <td>Female</td>\n",
       "      <td>45</td>\n",
       "      <td>126</td>\n",
       "      <td>28</td>\n",
       "      <td>2</td>\n",
       "    </tr>\n",
       "    <tr>\n",
       "      <th>197</th>\n",
       "      <td>198</td>\n",
       "      <td>Male</td>\n",
       "      <td>32</td>\n",
       "      <td>126</td>\n",
       "      <td>74</td>\n",
       "      <td>0</td>\n",
       "    </tr>\n",
       "    <tr>\n",
       "      <th>198</th>\n",
       "      <td>199</td>\n",
       "      <td>Male</td>\n",
       "      <td>32</td>\n",
       "      <td>137</td>\n",
       "      <td>18</td>\n",
       "      <td>2</td>\n",
       "    </tr>\n",
       "    <tr>\n",
       "      <th>199</th>\n",
       "      <td>200</td>\n",
       "      <td>Male</td>\n",
       "      <td>30</td>\n",
       "      <td>137</td>\n",
       "      <td>83</td>\n",
       "      <td>0</td>\n",
       "    </tr>\n",
       "  </tbody>\n",
       "</table>\n",
       "<p>200 rows × 6 columns</p>\n",
       "</div>"
      ],
      "text/plain": [
       "     CustomerID  Gender  Age  Annual_Income  Spending_Score  cluster\n",
       "0             1    Male   19             15              39        3\n",
       "1             2    Male   21             15              81        3\n",
       "2             3  Female   20             16               6        3\n",
       "3             4  Female   23             16              77        3\n",
       "4             5  Female   31             17              40        3\n",
       "..          ...     ...  ...            ...             ...      ...\n",
       "195         196  Female   35            120              79        0\n",
       "196         197  Female   45            126              28        2\n",
       "197         198    Male   32            126              74        0\n",
       "198         199    Male   32            137              18        2\n",
       "199         200    Male   30            137              83        0\n",
       "\n",
       "[200 rows x 6 columns]"
      ]
     },
     "execution_count": 13,
     "metadata": {},
     "output_type": "execute_result"
    }
   ],
   "source": [
    "# View new data frame\n",
    "mall_df_cluster"
   ]
  },
  {
   "cell_type": "code",
   "execution_count": 14,
   "metadata": {
    "id": "H6I8MZOFk3V8"
   },
   "outputs": [
    {
     "data": {
      "text/plain": [
       "cluster\n",
       "0    40\n",
       "1    65\n",
       "2    38\n",
       "3    57\n",
       "dtype: int64"
      ]
     },
     "execution_count": 14,
     "metadata": {},
     "output_type": "execute_result"
    }
   ],
   "source": [
    "# Descriptive Stat #1: Calculate the size of each cluster\n",
    "mall_df_cluster.groupby(['cluster']).size()"
   ]
  },
  {
   "cell_type": "code",
   "execution_count": 15,
   "metadata": {
    "id": "8O6g_JkklAd7"
   },
   "outputs": [
    {
     "data": {
      "text/html": [
       "<div>\n",
       "<style scoped>\n",
       "    .dataframe tbody tr th:only-of-type {\n",
       "        vertical-align: middle;\n",
       "    }\n",
       "\n",
       "    .dataframe tbody tr th {\n",
       "        vertical-align: top;\n",
       "    }\n",
       "\n",
       "    .dataframe thead tr th {\n",
       "        text-align: left;\n",
       "    }\n",
       "</style>\n",
       "<table border=\"1\" class=\"dataframe\">\n",
       "  <thead>\n",
       "    <tr>\n",
       "      <th></th>\n",
       "      <th>cluster</th>\n",
       "      <th>CustomerID</th>\n",
       "      <th>Age</th>\n",
       "      <th>Annual_Income</th>\n",
       "      <th>Spending_Score</th>\n",
       "    </tr>\n",
       "    <tr>\n",
       "      <th></th>\n",
       "      <th></th>\n",
       "      <th>mean</th>\n",
       "      <th>mean</th>\n",
       "      <th>mean</th>\n",
       "      <th>mean</th>\n",
       "    </tr>\n",
       "  </thead>\n",
       "  <tbody>\n",
       "    <tr>\n",
       "      <th>0</th>\n",
       "      <td>0</td>\n",
       "      <td>161.02</td>\n",
       "      <td>32.88</td>\n",
       "      <td>86.10</td>\n",
       "      <td>81.53</td>\n",
       "    </tr>\n",
       "    <tr>\n",
       "      <th>1</th>\n",
       "      <td>1</td>\n",
       "      <td>69.42</td>\n",
       "      <td>53.98</td>\n",
       "      <td>47.71</td>\n",
       "      <td>39.97</td>\n",
       "    </tr>\n",
       "    <tr>\n",
       "      <th>2</th>\n",
       "      <td>2</td>\n",
       "      <td>160.55</td>\n",
       "      <td>39.37</td>\n",
       "      <td>86.50</td>\n",
       "      <td>19.58</td>\n",
       "    </tr>\n",
       "    <tr>\n",
       "      <th>3</th>\n",
       "      <td>3</td>\n",
       "      <td>53.44</td>\n",
       "      <td>25.44</td>\n",
       "      <td>40.00</td>\n",
       "      <td>60.30</td>\n",
       "    </tr>\n",
       "  </tbody>\n",
       "</table>\n",
       "</div>"
      ],
      "text/plain": [
       "  cluster CustomerID    Age Annual_Income Spending_Score\n",
       "                mean   mean          mean           mean\n",
       "0       0     161.02  32.88         86.10          81.53\n",
       "1       1      69.42  53.98         47.71          39.97\n",
       "2       2     160.55  39.37         86.50          19.58\n",
       "3       3      53.44  25.44         40.00          60.30"
      ]
     },
     "execution_count": 15,
     "metadata": {},
     "output_type": "execute_result"
    }
   ],
   "source": [
    "#Descriptive Stat #2: Find the mean value for age, income, and spending score for each cluster\n",
    "mall_df_cluster.groupby(['cluster']).agg(['mean']).round(2).reset_index()"
   ]
  },
  {
   "cell_type": "code",
   "execution_count": 16,
   "metadata": {},
   "outputs": [
    {
     "data": {
      "text/plain": [
       "cluster  Gender\n",
       "0        Female    22\n",
       "         Male      18\n",
       "1        Female    37\n",
       "         Male      28\n",
       "2        Female    19\n",
       "         Male      19\n",
       "3        Female    34\n",
       "         Male      23\n",
       "dtype: int64"
      ]
     },
     "execution_count": 16,
     "metadata": {},
     "output_type": "execute_result"
    }
   ],
   "source": [
    "#Descriptive Stat #3: Find the count of cluster by gender\n",
    "mall_df_cluster.groupby(['cluster', 'Gender']).size()"
   ]
  },
  {
   "cell_type": "markdown",
   "metadata": {
    "deletable": false,
    "editable": false,
    "id": "_q_6hVKaFZya",
    "nbgrader": {
     "cell_type": "markdown",
     "checksum": "4b4400a861061da9b08790d34d8a8ab4",
     "grade": false,
     "grade_id": "cell-1ca96dde814019af",
     "locked": true,
     "schema_version": 3,
     "solution": false,
     "task": false
    }
   },
   "source": [
    "We can use the descriptives statistics above (and many others) to describe the clusters. This can be a very helpful way to inform how we use clusters in a variety of contexts: marketing (segmentation), medicine (treatment), or learning (academic interventions)."
   ]
  },
  {
   "cell_type": "markdown",
   "metadata": {
    "deletable": false,
    "editable": false,
    "id": "A-pwckRuX7rk",
    "nbgrader": {
     "cell_type": "markdown",
     "checksum": "b2c000083f64f0072e9ac8d19af965c4",
     "grade": false,
     "grade_id": "cell-b5dd849e7658412b",
     "locked": true,
     "schema_version": 3,
     "solution": false,
     "task": false
    }
   },
   "source": [
    "# Clustering Open University Data"
   ]
  },
  {
   "cell_type": "markdown",
   "metadata": {
    "deletable": false,
    "editable": false,
    "id": "Z73fmApxaLK4",
    "nbgrader": {
     "cell_type": "markdown",
     "checksum": "8e18d232e088b6109974121e3d446c0b",
     "grade": false,
     "grade_id": "cell-b41643739a36e107",
     "locked": true,
     "schema_version": 3,
     "solution": false,
     "task": false
    }
   },
   "source": [
    "\n",
    "# 1. **Data loading**"
   ]
  },
  {
   "cell_type": "code",
   "execution_count": 17,
   "metadata": {
    "id": "6l38NdOIZ7Dl"
   },
   "outputs": [],
   "source": [
    "# Use read_csv to read the three files into dataframes\n",
    "lr = pd.read_csv('assets/learning_resources.csv')\n",
    "qt = pd.read_csv('assets/quizzes_tests.csv')\n",
    "si = pd.read_csv('assets/student_info.csv')"
   ]
  },
  {
   "cell_type": "markdown",
   "metadata": {
    "deletable": false,
    "editable": false,
    "id": "w80vHMaMaVR-",
    "nbgrader": {
     "cell_type": "markdown",
     "checksum": "b5025b0d8d6c55eba706286342d2c4d9",
     "grade": false,
     "grade_id": "cell-7bea487ada3caae6",
     "locked": true,
     "schema_version": 3,
     "solution": false,
     "task": false
    }
   },
   "source": [
    "# 2. Data Wrangling and Feature Engineering (8 points)"
   ]
  },
  {
   "cell_type": "markdown",
   "metadata": {
    "deletable": false,
    "editable": false,
    "id": "n9QbD1Xw_ady",
    "nbgrader": {
     "cell_type": "markdown",
     "checksum": "86a999faad61a4a3c53caaf8744c5508",
     "grade": false,
     "grade_id": "cell-4ca8b1c0d4ee172a",
     "locked": true,
     "schema_version": 3,
     "solution": false,
     "task": false
    }
   },
   "source": [
    "As we observed in Week 1, `learning_resources.csv` and `quizzes_tests.csv` are structured as long-form files. For Week 2, we are going to wrangle these files into wide-format, cluster them individually, and clarify patterns in each. For `learning_resources.csv`, transforming into long-form will require summarization (the specific `agg` is up to you); for `quizzes_tests.csv`, it will largely require only rotating the `score` column. Thus, you will build your clusters, like in the above mall examples, on these data. After rotating each dataset, we will then identify optimal cluster numbers and apply a k-means algorithm. After generating cluster labels, we will join them onto each respective dataset and identify how clusters align with raw data to better understand students' assignment performances and resource use."
   ]
  },
  {
   "cell_type": "markdown",
   "metadata": {
    "deletable": false,
    "editable": false,
    "nbgrader": {
     "cell_type": "markdown",
     "checksum": "4df6eba75fd0512a478942b9bf165da8",
     "grade": false,
     "grade_id": "cell-e3b1db263b9a8469",
     "locked": true,
     "schema_version": 3,
     "solution": false,
     "task": false
    }
   },
   "source": [
    "## Grading\n",
    "\n",
    "2.1. (4 points) Create a dataframe for clustering from `quizzes_tests.csv`\n",
    "\n",
    "2.2. (4 points) Create a dataframe for clustering from `learning_resources.csv`"
   ]
  },
  {
   "cell_type": "markdown",
   "metadata": {
    "deletable": false,
    "editable": false,
    "nbgrader": {
     "cell_type": "markdown",
     "checksum": "d21c0c49bcbe53ec13a9f7a8dd98438d",
     "grade": false,
     "grade_id": "cell-c81862e646cb4a17",
     "locked": true,
     "schema_version": 3,
     "solution": false,
     "task": false
    }
   },
   "source": [
    "**Note:** You will need to do some data wrangling using pandas, e.g., `pd.pivot_table` and `pd.groupby`."
   ]
  },
  {
   "cell_type": "markdown",
   "metadata": {
    "deletable": false,
    "editable": false,
    "nbgrader": {
     "cell_type": "markdown",
     "checksum": "c3de50fca1a187a231aea2d6bf76779f",
     "grade": false,
     "grade_id": "cell-890751bafb516647",
     "locked": true,
     "schema_version": 3,
     "solution": false,
     "task": false
    }
   },
   "source": [
    "2.1. (4 points) Create a dataframe for clustering from `quizzes_tests.csv`"
   ]
  },
  {
   "cell_type": "code",
   "execution_count": 18,
   "metadata": {
    "deletable": false,
    "nbgrader": {
     "cell_type": "code",
     "checksum": "eb0340fe3622fffb9fb858895bb06e5d",
     "grade": true,
     "grade_id": "cell-bb3057c3516ca880",
     "locked": false,
     "points": 0,
     "schema_version": 3,
     "solution": true,
     "task": false
    }
   },
   "outputs": [
    {
     "data": {
      "text/html": [
       "<div>\n",
       "<style scoped>\n",
       "    .dataframe tbody tr th:only-of-type {\n",
       "        vertical-align: middle;\n",
       "    }\n",
       "\n",
       "    .dataframe tbody tr th {\n",
       "        vertical-align: top;\n",
       "    }\n",
       "\n",
       "    .dataframe thead th {\n",
       "        text-align: right;\n",
       "    }\n",
       "</style>\n",
       "<table border=\"1\" class=\"dataframe\">\n",
       "  <thead>\n",
       "    <tr style=\"text-align: right;\">\n",
       "      <th></th>\n",
       "      <th>id_student</th>\n",
       "      <th>assignment_name</th>\n",
       "      <th>due_date</th>\n",
       "      <th>weight</th>\n",
       "      <th>date_submitted</th>\n",
       "      <th>score</th>\n",
       "    </tr>\n",
       "  </thead>\n",
       "  <tbody>\n",
       "    <tr>\n",
       "      <th>0</th>\n",
       "      <td>41060</td>\n",
       "      <td>Quiz 1</td>\n",
       "      <td>23</td>\n",
       "      <td>2.0</td>\n",
       "      <td>25.0</td>\n",
       "      <td>77</td>\n",
       "    </tr>\n",
       "    <tr>\n",
       "      <th>1</th>\n",
       "      <td>41060</td>\n",
       "      <td>Test 1</td>\n",
       "      <td>25</td>\n",
       "      <td>7.5</td>\n",
       "      <td>24.0</td>\n",
       "      <td>85</td>\n",
       "    </tr>\n",
       "    <tr>\n",
       "      <th>2</th>\n",
       "      <td>41060</td>\n",
       "      <td>Quiz 2</td>\n",
       "      <td>51</td>\n",
       "      <td>3.0</td>\n",
       "      <td>54.0</td>\n",
       "      <td>94</td>\n",
       "    </tr>\n",
       "    <tr>\n",
       "      <th>3</th>\n",
       "      <td>41060</td>\n",
       "      <td>Test 2</td>\n",
       "      <td>53</td>\n",
       "      <td>10.0</td>\n",
       "      <td>53.0</td>\n",
       "      <td>86</td>\n",
       "    </tr>\n",
       "    <tr>\n",
       "      <th>4</th>\n",
       "      <td>41060</td>\n",
       "      <td>Quiz 3</td>\n",
       "      <td>79</td>\n",
       "      <td>3.0</td>\n",
       "      <td>81.0</td>\n",
       "      <td>94</td>\n",
       "    </tr>\n",
       "    <tr>\n",
       "      <th>...</th>\n",
       "      <td>...</td>\n",
       "      <td>...</td>\n",
       "      <td>...</td>\n",
       "      <td>...</td>\n",
       "      <td>...</td>\n",
       "      <td>...</td>\n",
       "    </tr>\n",
       "    <tr>\n",
       "      <th>11377</th>\n",
       "      <td>2694933</td>\n",
       "      <td>Test 5</td>\n",
       "      <td>151</td>\n",
       "      <td>15.0</td>\n",
       "      <td>158.0</td>\n",
       "      <td>69</td>\n",
       "    </tr>\n",
       "    <tr>\n",
       "      <th>11378</th>\n",
       "      <td>2694933</td>\n",
       "      <td>Quiz 6</td>\n",
       "      <td>170</td>\n",
       "      <td>3.0</td>\n",
       "      <td>173.0</td>\n",
       "      <td>75</td>\n",
       "    </tr>\n",
       "    <tr>\n",
       "      <th>11379</th>\n",
       "      <td>2694933</td>\n",
       "      <td>Test 6</td>\n",
       "      <td>200</td>\n",
       "      <td>15.0</td>\n",
       "      <td>200.0</td>\n",
       "      <td>72</td>\n",
       "    </tr>\n",
       "    <tr>\n",
       "      <th>11380</th>\n",
       "      <td>2694933</td>\n",
       "      <td>Quiz 7</td>\n",
       "      <td>206</td>\n",
       "      <td>6.0</td>\n",
       "      <td>209.0</td>\n",
       "      <td>63</td>\n",
       "    </tr>\n",
       "    <tr>\n",
       "      <th>11381</th>\n",
       "      <td>2694933</td>\n",
       "      <td>Final Exam</td>\n",
       "      <td>240</td>\n",
       "      <td>100.0</td>\n",
       "      <td>230.0</td>\n",
       "      <td>73</td>\n",
       "    </tr>\n",
       "  </tbody>\n",
       "</table>\n",
       "<p>11382 rows × 6 columns</p>\n",
       "</div>"
      ],
      "text/plain": [
       "       id_student assignment_name  due_date  weight  date_submitted  score\n",
       "0           41060          Quiz 1        23     2.0            25.0     77\n",
       "1           41060          Test 1        25     7.5            24.0     85\n",
       "2           41060          Quiz 2        51     3.0            54.0     94\n",
       "3           41060          Test 2        53    10.0            53.0     86\n",
       "4           41060          Quiz 3        79     3.0            81.0     94\n",
       "...           ...             ...       ...     ...             ...    ...\n",
       "11377     2694933          Test 5       151    15.0           158.0     69\n",
       "11378     2694933          Quiz 6       170     3.0           173.0     75\n",
       "11379     2694933          Test 6       200    15.0           200.0     72\n",
       "11380     2694933          Quiz 7       206     6.0           209.0     63\n",
       "11381     2694933      Final Exam       240   100.0           230.0     73\n",
       "\n",
       "[11382 rows x 6 columns]"
      ]
     },
     "execution_count": 18,
     "metadata": {},
     "output_type": "execute_result"
    }
   ],
   "source": [
    "## Your code with comments\n",
    "# YOUR CODE HERE\n",
    "qt=pd.read_csv(\"assets/quizzes_tests.csv\")\n",
    "qt[\"date_submitted\"]=qt[\"date_submitted\"].fillna(-100)\n",
    "qt\n",
    "#raise NotImplementedError()"
   ]
  },
  {
   "cell_type": "markdown",
   "metadata": {
    "deletable": false,
    "editable": false,
    "nbgrader": {
     "cell_type": "markdown",
     "checksum": "4ecdd4377e6eff05d51f58681f969336",
     "grade": false,
     "grade_id": "cell-69e90f5d704b395c",
     "locked": true,
     "schema_version": 3,
     "solution": false,
     "task": false
    }
   },
   "source": [
    "2.2. (4 points) Create a dataframe for clustering from `learning_resources.csv`"
   ]
  },
  {
   "cell_type": "code",
   "execution_count": 19,
   "metadata": {
    "deletable": false,
    "id": "hBqCcpvIZuSa",
    "nbgrader": {
     "cell_type": "code",
     "checksum": "9b18cf5ca3202631c19fb1119e190ae1",
     "grade": true,
     "grade_id": "cell-52d4b47041970837",
     "locked": false,
     "points": 0,
     "schema_version": 3,
     "solution": true,
     "task": false
    }
   },
   "outputs": [],
   "source": [
    "## Your code with comments\n",
    "# YOUR CODE HERE\n",
    "lr=pd.read_csv(\"assets/learning_resources.csv\")\n",
    "#raise NotImplementedError()"
   ]
  },
  {
   "cell_type": "markdown",
   "metadata": {
    "deletable": false,
    "editable": false,
    "id": "ekTmciB9eXsV",
    "nbgrader": {
     "cell_type": "markdown",
     "checksum": "24f5ab61d489afbd7dbefc03701abbb6",
     "grade": false,
     "grade_id": "cell-b019e74f27179a6d",
     "locked": true,
     "schema_version": 3,
     "solution": false,
     "task": false
    }
   },
   "source": [
    "# 3. Data Processing and Standardization (4 points)"
   ]
  },
  {
   "cell_type": "markdown",
   "metadata": {
    "deletable": false,
    "editable": false,
    "nbgrader": {
     "cell_type": "markdown",
     "checksum": "3843825257aebb9a752c175bb08b365f",
     "grade": false,
     "grade_id": "cell-95bea7696038c71d",
     "locked": true,
     "schema_version": 3,
     "solution": false,
     "task": false
    }
   },
   "source": [
    "## Grading\n",
    "\n",
    "3.1. (2 points) Standardize wide-form variables for data frame from 2.1 (i.e., `quizzes_tests.csv`)\n",
    "\n",
    "3.2. (2 points) Standardize wide-form variables for data frame from 2.2 (i.e., `learning_resources.csv`)"
   ]
  },
  {
   "cell_type": "markdown",
   "metadata": {
    "deletable": false,
    "editable": false,
    "id": "092kV-dnemE2",
    "nbgrader": {
     "cell_type": "markdown",
     "checksum": "a06b4fcd4768f7c23ec2ffb2ab4597ad",
     "grade": false,
     "grade_id": "cell-0fe317025690a67a",
     "locked": true,
     "schema_version": 3,
     "solution": false,
     "task": false
    }
   },
   "source": [
    "The next step is to process and standardize your data frames from above. Use `sklearn preprocessing` to standardize variables from wide-form data frames. Save the result, and store the key columns used to define your cluster predictors in “X1”. **Do not include** `id_student` **as a predictor.**"
   ]
  },
  {
   "cell_type": "markdown",
   "metadata": {
    "deletable": false,
    "editable": false,
    "nbgrader": {
     "cell_type": "markdown",
     "checksum": "87b660b237f422343c9eff7ac162495a",
     "grade": false,
     "grade_id": "cell-2ab3955ca170a075",
     "locked": true,
     "schema_version": 3,
     "solution": false,
     "task": false
    }
   },
   "source": [
    "3.1. (2 points) Standardize wide-form variables for data frame from 2.1 (i.e., `quizzes_tests.csv`)"
   ]
  },
  {
   "cell_type": "code",
   "execution_count": 20,
   "metadata": {
    "deletable": false,
    "id": "jXFAt-yTkQav",
    "nbgrader": {
     "cell_type": "code",
     "checksum": "2727d8eff9d0c2619c8707df2bb8fb82",
     "grade": true,
     "grade_id": "cell-8cc2d79dce778642",
     "locked": false,
     "points": 0,
     "schema_version": 3,
     "solution": true,
     "task": false
    }
   },
   "outputs": [
    {
     "data": {
      "text/plain": [
       "due_date          0\n",
       "weight            0\n",
       "date_submitted    0\n",
       "score             0\n",
       "dtype: int64"
      ]
     },
     "execution_count": 20,
     "metadata": {},
     "output_type": "execute_result"
    }
   ],
   "source": [
    "## Your code with comments\n",
    "# YOUR CODE HERE\n",
    "qt.loc[:, \"due_date\":].isna().sum()\n",
    "#raise NotImplementedError()"
   ]
  },
  {
   "cell_type": "code",
   "execution_count": 21,
   "metadata": {},
   "outputs": [
    {
     "data": {
      "text/plain": [
       "array([[-1.41805449, -0.50673567, -0.43573156,  0.59475566],\n",
       "       [-1.38833478, -0.27988307, -0.44555083,  0.83477512],\n",
       "       [-1.00197862, -0.46548974, -0.15097277,  1.10479702],\n",
       "       ...,\n",
       "       [ 1.21213939,  0.02946138,  1.28264047,  0.4447435 ],\n",
       "       [ 1.3012985 , -0.34175196,  1.37101389,  0.1747216 ],\n",
       "       [ 1.80653349,  3.53536512,  1.57721853,  0.47474593]])"
      ]
     },
     "execution_count": 21,
     "metadata": {},
     "output_type": "execute_result"
    }
   ],
   "source": [
    "X1qt=preprocessing.scale(qt.loc[:, \"due_date\":])\n",
    "X1qt"
   ]
  },
  {
   "cell_type": "markdown",
   "metadata": {
    "deletable": false,
    "editable": false,
    "id": "_-Nu9cBIkZ0v",
    "nbgrader": {
     "cell_type": "markdown",
     "checksum": "27876909fee98137cb0fd499a39e23aa",
     "grade": false,
     "grade_id": "cell-0d5af9b24221902a",
     "locked": true,
     "schema_version": 3,
     "solution": false,
     "task": false
    }
   },
   "source": [
    "3.2. (2 points) Standardize wide-form variables originating from `learning_resources.csv`"
   ]
  },
  {
   "cell_type": "code",
   "execution_count": 22,
   "metadata": {
    "deletable": false,
    "id": "1Wz1IFlEkb-P",
    "nbgrader": {
     "cell_type": "code",
     "checksum": "118a7ae20204661686461ee2c4a931d1",
     "grade": true,
     "grade_id": "cell-042bd4ab37cedea7",
     "locked": false,
     "points": 0,
     "schema_version": 3,
     "solution": true,
     "task": false
    }
   },
   "outputs": [
    {
     "data": {
      "text/plain": [
       "array([[ 2.28983643, -1.27316333, -0.4611039 ],\n",
       "       [-0.8124924 , -1.27316333,  0.10285538],\n",
       "       [ 0.41136209, -1.27316333, -0.4611039 ],\n",
       "       ...,\n",
       "       [-0.8124924 ,  2.17881239,  0.10285538],\n",
       "       [-0.8124924 ,  2.17881239, -0.4611039 ],\n",
       "       [-0.8124924 ,  2.17881239, -0.17912426]])"
      ]
     },
     "execution_count": 22,
     "metadata": {},
     "output_type": "execute_result"
    }
   ],
   "source": [
    "## Your code with comments\n",
    "# YOUR CODE HERE\n",
    "X1lr=preprocessing.scale(lr.loc[:, \"activity_id\":])\n",
    "X1lr\n",
    "#raise NotImplementedError()"
   ]
  },
  {
   "cell_type": "markdown",
   "metadata": {
    "deletable": false,
    "editable": false,
    "id": "LCB8ZFWSkgMQ",
    "nbgrader": {
     "cell_type": "markdown",
     "checksum": "97d5b521c45d88d8a1118695c0352203",
     "grade": false,
     "grade_id": "cell-9c2cc6c5b167abe8",
     "locked": true,
     "schema_version": 3,
     "solution": false,
     "task": false
    }
   },
   "source": [
    "# 4. **Identifying the optimal number of clusters for K-means** (4 points)"
   ]
  },
  {
   "cell_type": "markdown",
   "metadata": {
    "deletable": false,
    "editable": false,
    "nbgrader": {
     "cell_type": "markdown",
     "checksum": "1a942d7645c9ae3ee60d5c80708694d4",
     "grade": false,
     "grade_id": "cell-26a19a3ca148fd67",
     "locked": true,
     "schema_version": 3,
     "solution": false,
     "task": false
    }
   },
   "source": [
    "## Grading\n",
    "\n",
    "4.1. (2 points) Identify optimal clusters for data frame from 3.1 (i.e., `quizzes_tests.csv`)\n",
    "\n",
    "4.2. (2 points) Identify optimal clusters for data frame from 3.2 (i.e., `learning_resources.csv`)"
   ]
  },
  {
   "cell_type": "markdown",
   "metadata": {
    "deletable": false,
    "editable": false,
    "id": "jCQBPRPxnXuy",
    "nbgrader": {
     "cell_type": "markdown",
     "checksum": "16e3d812845719265363b0c57e8d86f8",
     "grade": false,
     "grade_id": "cell-6add4004cf585203",
     "locked": true,
     "schema_version": 3,
     "solution": false,
     "task": false
    }
   },
   "source": [
    "As noted in our mall customer example, we must first specify the number of clusters before running k-means. Using one of the techniques described above (inertia, silhouette, PCA) identify the number of optimal clusters for your data. Be sure to include a visualization of your approach."
   ]
  },
  {
   "cell_type": "markdown",
   "metadata": {
    "deletable": false,
    "editable": false,
    "id": "2UZwELGop0YM",
    "nbgrader": {
     "cell_type": "markdown",
     "checksum": "c9730c386540d178a880d8ffecfc4b5c",
     "grade": false,
     "grade_id": "cell-6a76ab9190079ca4",
     "locked": true,
     "schema_version": 3,
     "solution": false,
     "task": false
    }
   },
   "source": [
    "4.1. (2 points) Identify optimal clusters for data frame from 3.1 (i.e., `quizzes_tests.csv`)"
   ]
  },
  {
   "cell_type": "code",
   "execution_count": 23,
   "metadata": {
    "deletable": false,
    "id": "Dw66x5ilqJKE",
    "nbgrader": {
     "cell_type": "code",
     "checksum": "806e0a27dee48666b18fa93dd85f88cb",
     "grade": true,
     "grade_id": "cell-e24efd8c164ff416",
     "locked": false,
     "points": 0,
     "schema_version": 3,
     "solution": true,
     "task": false
    }
   },
   "outputs": [
    {
     "data": {
      "image/png": "[encoded data removed]",
      "text/plain": [
       "<Figure size 1080x432 with 1 Axes>"
      ]
     },
     "metadata": {
      "needs_background": "light"
     },
     "output_type": "display_data"
    }
   ],
   "source": [
    "## Your code with comments\n",
    "# YOUR CODE HERE\n",
    "inertia = []\n",
    "for n in range(1 , 11):\n",
    "    algorithm = (KMeans(n_clusters = n ,init='k-means++', n_init = 10 ,max_iter=300, \n",
    "                        tol=0.0001,  random_state= 111  , algorithm='full') )\n",
    "    algorithm.fit(X1qt)\n",
    "    inertia.append(algorithm.inertia_)\n",
    "    \n",
    "#Plot the interia points to create the elbow plot\n",
    "\n",
    "plt.figure(1 , figsize = (15 ,6))\n",
    "plt.plot(np.arange(1 , 11) , inertia , 'o')\n",
    "plt.plot(np.arange(1 , 11) , inertia , '-' , alpha = 0.5)\n",
    "plt.xlabel('Number of Clusters') , plt.ylabel('Inertia')\n",
    "plt.show()\n",
    "#raise NotImplementedError()"
   ]
  },
  {
   "cell_type": "markdown",
   "metadata": {
    "deletable": false,
    "editable": false,
    "nbgrader": {
     "cell_type": "markdown",
     "checksum": "9c88b78c9b2bf09f6c4a3f9830085ef6",
     "grade": false,
     "grade_id": "cell-115d7400dc16893c",
     "locked": true,
     "schema_version": 3,
     "solution": false,
     "task": false
    }
   },
   "source": [
    "4.2. (2 points) Identify optimal clusters for data frame from 3.2 (i.e., `learning_resources.csv`)"
   ]
  },
  {
   "cell_type": "code",
   "execution_count": 24,
   "metadata": {
    "deletable": false,
    "nbgrader": {
     "cell_type": "code",
     "checksum": "a79efc1786632551684a8b42e9af1671",
     "grade": true,
     "grade_id": "cell-4057901972a9d694",
     "locked": false,
     "points": 0,
     "schema_version": 3,
     "solution": true,
     "task": false
    }
   },
   "outputs": [
    {
     "data": {
      "image/png": "[encoded data removed]",
      "text/plain": [
       "<Figure size 1080x432 with 1 Axes>"
      ]
     },
     "metadata": {
      "needs_background": "light"
     },
     "output_type": "display_data"
    }
   ],
   "source": [
    "## Your code with comments\n",
    "# YOUR CODE HERE\n",
    "inertia = []\n",
    "for n in range(1 , 11):\n",
    "    algorithm = (KMeans(n_clusters = n ,init='k-means++', n_init = 10 ,max_iter=300, \n",
    "                        tol=0.0001,  random_state= 111  , algorithm='full') )\n",
    "    algorithm.fit(X1lr)\n",
    "    inertia.append(algorithm.inertia_)\n",
    "    \n",
    "#Plot the interia points to create the elbow plot\n",
    "\n",
    "plt.figure(1 , figsize = (15 ,6))\n",
    "plt.plot(np.arange(1 , 11) , inertia , 'o')\n",
    "plt.plot(np.arange(1 , 11) , inertia , '-' , alpha = 0.5)\n",
    "plt.xlabel('Number of Clusters') , plt.ylabel('Inertia')\n",
    "plt.show()\n",
    "#raise NotImplementedError()"
   ]
  },
  {
   "cell_type": "markdown",
   "metadata": {
    "deletable": false,
    "editable": false,
    "id": "sU4ls9ZAtCn1",
    "nbgrader": {
     "cell_type": "markdown",
     "checksum": "8ad37c2ffc0bbced371a38a08e4f16c4",
     "grade": false,
     "grade_id": "cell-211872d47823b7b4",
     "locked": true,
     "schema_version": 3,
     "solution": false,
     "task": false
    }
   },
   "source": [
    "## 5. Build the K-means model and explore the characteristics of the clusters (24 points)"
   ]
  },
  {
   "cell_type": "markdown",
   "metadata": {
    "deletable": false,
    "editable": false,
    "id": "OrylXrNste4Q",
    "nbgrader": {
     "cell_type": "markdown",
     "checksum": "b681db5453b9e0fef3dae85dc0ec513f",
     "grade": false,
     "grade_id": "cell-946ad03a386fe575",
     "locked": true,
     "schema_version": 3,
     "solution": false,
     "task": false
    }
   },
   "source": [
    "Now that you have identified the number of clusters, it is time to build the model and interrogate the results."
   ]
  },
  {
   "cell_type": "markdown",
   "metadata": {
    "deletable": false,
    "editable": false,
    "nbgrader": {
     "cell_type": "markdown",
     "checksum": "5040daab68470eb4842fc27fa578d07c",
     "grade": false,
     "grade_id": "cell-3b1f4c5cd6b8c697",
     "locked": true,
     "schema_version": 3,
     "solution": false,
     "task": false
    }
   },
   "source": [
    "## Grading\n",
    "\n",
    "5.1. (4 points) Using the optimal number of clusters you identified, build your k-means model on data frame from 4.1 (i.e., `quizzes_tests.csv`)\n",
    "\n",
    "5.2. (4 points) Using the optimal number of clusters you identified, build your k-means model on data frame from 4.2 (i.e., `learning_resources.csv`)\n",
    "\n",
    "5.3. (2 points) Join cluster labels onto data frame from 5.1\n",
    "\n",
    "5.4. (2 points) Join cluster labels onto data frame from 5.2\n",
    "\n",
    "5.5. (2 points) Create descriptive table of features using cluster labels for data frame from 5.3\n",
    "\n",
    "5.6. (2 points) Create descriptive table of features using cluster labels for data frame from 5.4\n",
    "\n",
    "5.7 (2 points) Join data frames from 5.3 and 5.4\n",
    "\n",
    "5.8 (2 points) Create a cross-tabulation of quiz- and resource-based cluster labels (i.e., counts of students in each cell)\n",
    "\n",
    "5.9 (2 points) Merge `final_result` from `student_info.csv` onto data frame from 5.7\n",
    "\n",
    "5.10 (2 points) Calculate the pass rate (i.e., `final_result`) for each combination of quiz- and resource-based clusters"
   ]
  },
  {
   "cell_type": "markdown",
   "metadata": {
    "deletable": false,
    "editable": false,
    "id": "g-IAlF1ItyEN",
    "nbgrader": {
     "cell_type": "markdown",
     "checksum": "ec0ee87ac0a412b135c03371c77bd23b",
     "grade": false,
     "grade_id": "cell-d734d3314d15f8fd",
     "locked": true,
     "schema_version": 3,
     "solution": false,
     "task": false
    }
   },
   "source": [
    "5.1. (4 points) Using the optimal number of clusters you identified, build your k-means model on data frame from 4.1 (i.e., `quizzes_tests.csv`)"
   ]
  },
  {
   "cell_type": "code",
   "execution_count": 25,
   "metadata": {
    "deletable": false,
    "id": "K0ZgjCw2HF0F",
    "nbgrader": {
     "cell_type": "code",
     "checksum": "45d684bd5443a33430e262c15b486b8b",
     "grade": true,
     "grade_id": "cell-6c3b7446408a12dd",
     "locked": false,
     "points": 0,
     "schema_version": 3,
     "solution": true,
     "task": false
    }
   },
   "outputs": [],
   "source": [
    "## Your code with comments\n",
    "# YOUR CODE HERE\n",
    "n = 4\n",
    "kmeansqt = KMeans(n_clusters = n ,init='k-means++', n_init = 10 ,max_iter=300, \n",
    "                        tol=0.0001,  random_state= 111  , algorithm='full').fit(X1qt)\n",
    "#raise NotImplementedError()"
   ]
  },
  {
   "cell_type": "markdown",
   "metadata": {
    "deletable": false,
    "editable": false,
    "nbgrader": {
     "cell_type": "markdown",
     "checksum": "fc6e29b04845d127ffa04b553b46c94a",
     "grade": false,
     "grade_id": "cell-50104b6114d97c4c",
     "locked": true,
     "schema_version": 3,
     "solution": false,
     "task": false
    }
   },
   "source": [
    "5.2. (4 points) Using the optimal number of clusters you identified, build your k-means model on data frame from 4.2 (i.e., `learning_resources.csv`)"
   ]
  },
  {
   "cell_type": "code",
   "execution_count": 26,
   "metadata": {
    "deletable": false,
    "nbgrader": {
     "cell_type": "code",
     "checksum": "0410f59c864930b1ed4b34839db8d461",
     "grade": true,
     "grade_id": "cell-1460997ff6018676",
     "locked": false,
     "points": 0,
     "schema_version": 3,
     "solution": true,
     "task": false
    }
   },
   "outputs": [],
   "source": [
    "## Your code with comments\n",
    "# YOUR CODE HERE\n",
    "n = 4\n",
    "kmeanslr = KMeans(n_clusters = n ,init='k-means++', n_init = 10 ,max_iter=300, \n",
    "                        tol=0.0001,  random_state= 111  , algorithm='full').fit(X1lr)\n",
    "#raise NotImplementedError()"
   ]
  },
  {
   "cell_type": "markdown",
   "metadata": {
    "deletable": false,
    "editable": false,
    "nbgrader": {
     "cell_type": "markdown",
     "checksum": "a52bf1f03ecc23e740bf9c75182933c3",
     "grade": false,
     "grade_id": "cell-56dc6a8700887ef2",
     "locked": true,
     "schema_version": 3,
     "solution": false,
     "task": false
    }
   },
   "source": [
    "5.3. (2 points) Join cluster labels onto data frame from 5.1"
   ]
  },
  {
   "cell_type": "code",
   "execution_count": 27,
   "metadata": {
    "deletable": false,
    "nbgrader": {
     "cell_type": "code",
     "checksum": "0623793f3e6db14ea9a8191f038ac0f0",
     "grade": true,
     "grade_id": "cell-328c6017baa870bb",
     "locked": false,
     "points": 0,
     "schema_version": 3,
     "solution": true,
     "task": false
    }
   },
   "outputs": [
    {
     "data": {
      "text/html": [
       "<div>\n",
       "<style scoped>\n",
       "    .dataframe tbody tr th:only-of-type {\n",
       "        vertical-align: middle;\n",
       "    }\n",
       "\n",
       "    .dataframe tbody tr th {\n",
       "        vertical-align: top;\n",
       "    }\n",
       "\n",
       "    .dataframe thead th {\n",
       "        text-align: right;\n",
       "    }\n",
       "</style>\n",
       "<table border=\"1\" class=\"dataframe\">\n",
       "  <thead>\n",
       "    <tr style=\"text-align: right;\">\n",
       "      <th></th>\n",
       "      <th>id_student</th>\n",
       "      <th>assignment_name</th>\n",
       "      <th>due_date</th>\n",
       "      <th>weight</th>\n",
       "      <th>date_submitted</th>\n",
       "      <th>score</th>\n",
       "      <th>cluster</th>\n",
       "    </tr>\n",
       "  </thead>\n",
       "  <tbody>\n",
       "    <tr>\n",
       "      <th>0</th>\n",
       "      <td>41060</td>\n",
       "      <td>Quiz 1</td>\n",
       "      <td>23</td>\n",
       "      <td>2.0</td>\n",
       "      <td>25.0</td>\n",
       "      <td>77</td>\n",
       "      <td>0</td>\n",
       "    </tr>\n",
       "    <tr>\n",
       "      <th>1</th>\n",
       "      <td>41060</td>\n",
       "      <td>Test 1</td>\n",
       "      <td>25</td>\n",
       "      <td>7.5</td>\n",
       "      <td>24.0</td>\n",
       "      <td>85</td>\n",
       "      <td>0</td>\n",
       "    </tr>\n",
       "    <tr>\n",
       "      <th>2</th>\n",
       "      <td>41060</td>\n",
       "      <td>Quiz 2</td>\n",
       "      <td>51</td>\n",
       "      <td>3.0</td>\n",
       "      <td>54.0</td>\n",
       "      <td>94</td>\n",
       "      <td>0</td>\n",
       "    </tr>\n",
       "    <tr>\n",
       "      <th>3</th>\n",
       "      <td>41060</td>\n",
       "      <td>Test 2</td>\n",
       "      <td>53</td>\n",
       "      <td>10.0</td>\n",
       "      <td>53.0</td>\n",
       "      <td>86</td>\n",
       "      <td>0</td>\n",
       "    </tr>\n",
       "    <tr>\n",
       "      <th>4</th>\n",
       "      <td>41060</td>\n",
       "      <td>Quiz 3</td>\n",
       "      <td>79</td>\n",
       "      <td>3.0</td>\n",
       "      <td>81.0</td>\n",
       "      <td>94</td>\n",
       "      <td>0</td>\n",
       "    </tr>\n",
       "    <tr>\n",
       "      <th>...</th>\n",
       "      <td>...</td>\n",
       "      <td>...</td>\n",
       "      <td>...</td>\n",
       "      <td>...</td>\n",
       "      <td>...</td>\n",
       "      <td>...</td>\n",
       "      <td>...</td>\n",
       "    </tr>\n",
       "    <tr>\n",
       "      <th>11377</th>\n",
       "      <td>2694933</td>\n",
       "      <td>Test 5</td>\n",
       "      <td>151</td>\n",
       "      <td>15.0</td>\n",
       "      <td>158.0</td>\n",
       "      <td>69</td>\n",
       "      <td>2</td>\n",
       "    </tr>\n",
       "    <tr>\n",
       "      <th>11378</th>\n",
       "      <td>2694933</td>\n",
       "      <td>Quiz 6</td>\n",
       "      <td>170</td>\n",
       "      <td>3.0</td>\n",
       "      <td>173.0</td>\n",
       "      <td>75</td>\n",
       "      <td>2</td>\n",
       "    </tr>\n",
       "    <tr>\n",
       "      <th>11379</th>\n",
       "      <td>2694933</td>\n",
       "      <td>Test 6</td>\n",
       "      <td>200</td>\n",
       "      <td>15.0</td>\n",
       "      <td>200.0</td>\n",
       "      <td>72</td>\n",
       "      <td>2</td>\n",
       "    </tr>\n",
       "    <tr>\n",
       "      <th>11380</th>\n",
       "      <td>2694933</td>\n",
       "      <td>Quiz 7</td>\n",
       "      <td>206</td>\n",
       "      <td>6.0</td>\n",
       "      <td>209.0</td>\n",
       "      <td>63</td>\n",
       "      <td>2</td>\n",
       "    </tr>\n",
       "    <tr>\n",
       "      <th>11381</th>\n",
       "      <td>2694933</td>\n",
       "      <td>Final Exam</td>\n",
       "      <td>240</td>\n",
       "      <td>100.0</td>\n",
       "      <td>230.0</td>\n",
       "      <td>73</td>\n",
       "      <td>1</td>\n",
       "    </tr>\n",
       "  </tbody>\n",
       "</table>\n",
       "<p>11382 rows × 7 columns</p>\n",
       "</div>"
      ],
      "text/plain": [
       "       id_student assignment_name  due_date  weight  date_submitted  score  \\\n",
       "0           41060          Quiz 1        23     2.0            25.0     77   \n",
       "1           41060          Test 1        25     7.5            24.0     85   \n",
       "2           41060          Quiz 2        51     3.0            54.0     94   \n",
       "3           41060          Test 2        53    10.0            53.0     86   \n",
       "4           41060          Quiz 3        79     3.0            81.0     94   \n",
       "...           ...             ...       ...     ...             ...    ...   \n",
       "11377     2694933          Test 5       151    15.0           158.0     69   \n",
       "11378     2694933          Quiz 6       170     3.0           173.0     75   \n",
       "11379     2694933          Test 6       200    15.0           200.0     72   \n",
       "11380     2694933          Quiz 7       206     6.0           209.0     63   \n",
       "11381     2694933      Final Exam       240   100.0           230.0     73   \n",
       "\n",
       "       cluster  \n",
       "0            0  \n",
       "1            0  \n",
       "2            0  \n",
       "3            0  \n",
       "4            0  \n",
       "...        ...  \n",
       "11377        2  \n",
       "11378        2  \n",
       "11379        2  \n",
       "11380        2  \n",
       "11381        1  \n",
       "\n",
       "[11382 rows x 7 columns]"
      ]
     },
     "execution_count": 27,
     "metadata": {},
     "output_type": "execute_result"
    }
   ],
   "source": [
    "## Your code with comments\n",
    "# YOUR CODE HERE\n",
    "qt[\"cluster\"]=kmeansqt.labels_\n",
    "qt\n",
    "#raise NotImplementedError()"
   ]
  },
  {
   "cell_type": "markdown",
   "metadata": {
    "deletable": false,
    "editable": false,
    "nbgrader": {
     "cell_type": "markdown",
     "checksum": "998d459fcf4b8e32f67052d383763523",
     "grade": false,
     "grade_id": "cell-6717659403e02f7a",
     "locked": true,
     "schema_version": 3,
     "solution": false,
     "task": false
    }
   },
   "source": [
    "5.4. (2 points) Join cluster labels onto data frame from 5.2"
   ]
  },
  {
   "cell_type": "code",
   "execution_count": 28,
   "metadata": {
    "deletable": false,
    "nbgrader": {
     "cell_type": "code",
     "checksum": "54c881f3894d7c83dac20e0ce76e7268",
     "grade": true,
     "grade_id": "cell-1c667a62f955dcf6",
     "locked": false,
     "points": 0,
     "schema_version": 3,
     "solution": true,
     "task": false
    }
   },
   "outputs": [
    {
     "data": {
      "text/html": [
       "<div>\n",
       "<style scoped>\n",
       "    .dataframe tbody tr th:only-of-type {\n",
       "        vertical-align: middle;\n",
       "    }\n",
       "\n",
       "    .dataframe tbody tr th {\n",
       "        vertical-align: top;\n",
       "    }\n",
       "\n",
       "    .dataframe thead th {\n",
       "        text-align: right;\n",
       "    }\n",
       "</style>\n",
       "<table border=\"1\" class=\"dataframe\">\n",
       "  <thead>\n",
       "    <tr style=\"text-align: right;\">\n",
       "      <th></th>\n",
       "      <th>id_student</th>\n",
       "      <th>activity_type</th>\n",
       "      <th>activity_id</th>\n",
       "      <th>date</th>\n",
       "      <th>sum_click</th>\n",
       "      <th>cluster</th>\n",
       "    </tr>\n",
       "  </thead>\n",
       "  <tbody>\n",
       "    <tr>\n",
       "      <th>0</th>\n",
       "      <td>420388</td>\n",
       "      <td>resource</td>\n",
       "      <td>219</td>\n",
       "      <td>0</td>\n",
       "      <td>1</td>\n",
       "      <td>2</td>\n",
       "    </tr>\n",
       "    <tr>\n",
       "      <th>1</th>\n",
       "      <td>420388</td>\n",
       "      <td>course_homepage</td>\n",
       "      <td>1</td>\n",
       "      <td>0</td>\n",
       "      <td>3</td>\n",
       "      <td>0</td>\n",
       "    </tr>\n",
       "    <tr>\n",
       "      <th>2</th>\n",
       "      <td>420388</td>\n",
       "      <td>course_page</td>\n",
       "      <td>87</td>\n",
       "      <td>0</td>\n",
       "      <td>1</td>\n",
       "      <td>2</td>\n",
       "    </tr>\n",
       "    <tr>\n",
       "      <th>3</th>\n",
       "      <td>420388</td>\n",
       "      <td>resource</td>\n",
       "      <td>229</td>\n",
       "      <td>0</td>\n",
       "      <td>2</td>\n",
       "      <td>2</td>\n",
       "    </tr>\n",
       "    <tr>\n",
       "      <th>4</th>\n",
       "      <td>420388</td>\n",
       "      <td>course_page</td>\n",
       "      <td>1</td>\n",
       "      <td>0</td>\n",
       "      <td>2</td>\n",
       "      <td>0</td>\n",
       "    </tr>\n",
       "    <tr>\n",
       "      <th>...</th>\n",
       "      <td>...</td>\n",
       "      <td>...</td>\n",
       "      <td>...</td>\n",
       "      <td>...</td>\n",
       "      <td>...</td>\n",
       "      <td>...</td>\n",
       "    </tr>\n",
       "    <tr>\n",
       "      <th>443331</th>\n",
       "      <td>536170</td>\n",
       "      <td>resource</td>\n",
       "      <td>135</td>\n",
       "      <td>240</td>\n",
       "      <td>2</td>\n",
       "      <td>1</td>\n",
       "    </tr>\n",
       "    <tr>\n",
       "      <th>443332</th>\n",
       "      <td>536926</td>\n",
       "      <td>course_homepage</td>\n",
       "      <td>1</td>\n",
       "      <td>240</td>\n",
       "      <td>1</td>\n",
       "      <td>1</td>\n",
       "    </tr>\n",
       "    <tr>\n",
       "      <th>443333</th>\n",
       "      <td>556295</td>\n",
       "      <td>course_homepage</td>\n",
       "      <td>1</td>\n",
       "      <td>240</td>\n",
       "      <td>3</td>\n",
       "      <td>1</td>\n",
       "    </tr>\n",
       "    <tr>\n",
       "      <th>443334</th>\n",
       "      <td>556780</td>\n",
       "      <td>course_homepage</td>\n",
       "      <td>1</td>\n",
       "      <td>240</td>\n",
       "      <td>1</td>\n",
       "      <td>1</td>\n",
       "    </tr>\n",
       "    <tr>\n",
       "      <th>443335</th>\n",
       "      <td>556918</td>\n",
       "      <td>course_homepage</td>\n",
       "      <td>1</td>\n",
       "      <td>240</td>\n",
       "      <td>2</td>\n",
       "      <td>1</td>\n",
       "    </tr>\n",
       "  </tbody>\n",
       "</table>\n",
       "<p>443336 rows × 6 columns</p>\n",
       "</div>"
      ],
      "text/plain": [
       "        id_student    activity_type  activity_id  date  sum_click  cluster\n",
       "0           420388         resource          219     0          1        2\n",
       "1           420388  course_homepage            1     0          3        0\n",
       "2           420388      course_page           87     0          1        2\n",
       "3           420388         resource          229     0          2        2\n",
       "4           420388      course_page            1     0          2        0\n",
       "...            ...              ...          ...   ...        ...      ...\n",
       "443331      536170         resource          135   240          2        1\n",
       "443332      536926  course_homepage            1   240          1        1\n",
       "443333      556295  course_homepage            1   240          3        1\n",
       "443334      556780  course_homepage            1   240          1        1\n",
       "443335      556918  course_homepage            1   240          2        1\n",
       "\n",
       "[443336 rows x 6 columns]"
      ]
     },
     "execution_count": 28,
     "metadata": {},
     "output_type": "execute_result"
    }
   ],
   "source": [
    "## Your code with comments\n",
    "# YOUR CODE HERE\n",
    "lr[\"cluster\"]=kmeanslr.labels_\n",
    "lr\n",
    "#raise NotImplementedError()"
   ]
  },
  {
   "cell_type": "markdown",
   "metadata": {
    "deletable": false,
    "editable": false,
    "nbgrader": {
     "cell_type": "markdown",
     "checksum": "d2fd6708c7f3461070115128e8cfe0cc",
     "grade": false,
     "grade_id": "cell-217b03ff8395769b",
     "locked": true,
     "schema_version": 3,
     "solution": false,
     "task": false
    }
   },
   "source": [
    "5.5. (2 points) Create descriptive table of features using cluster labels for data frame from 5.3"
   ]
  },
  {
   "cell_type": "code",
   "execution_count": 29,
   "metadata": {
    "deletable": false,
    "nbgrader": {
     "cell_type": "code",
     "checksum": "e54f786f0ff03e0986e86132b88371b4",
     "grade": true,
     "grade_id": "cell-130c6b55485136c3",
     "locked": false,
     "points": 0,
     "schema_version": 3,
     "solution": true,
     "task": false
    }
   },
   "outputs": [
    {
     "data": {
      "text/html": [
       "<div>\n",
       "<style scoped>\n",
       "    .dataframe tbody tr th:only-of-type {\n",
       "        vertical-align: middle;\n",
       "    }\n",
       "\n",
       "    .dataframe tbody tr th {\n",
       "        vertical-align: top;\n",
       "    }\n",
       "\n",
       "    .dataframe thead tr th {\n",
       "        text-align: left;\n",
       "    }\n",
       "</style>\n",
       "<table border=\"1\" class=\"dataframe\">\n",
       "  <thead>\n",
       "    <tr>\n",
       "      <th></th>\n",
       "      <th>cluster</th>\n",
       "      <th>id_student</th>\n",
       "      <th>due_date</th>\n",
       "      <th>weight</th>\n",
       "      <th>date_submitted</th>\n",
       "      <th>score</th>\n",
       "    </tr>\n",
       "    <tr>\n",
       "      <th></th>\n",
       "      <th></th>\n",
       "      <th>mean</th>\n",
       "      <th>mean</th>\n",
       "      <th>mean</th>\n",
       "      <th>mean</th>\n",
       "      <th>mean</th>\n",
       "    </tr>\n",
       "  </thead>\n",
       "  <tbody>\n",
       "    <tr>\n",
       "      <th>0</th>\n",
       "      <td>0</td>\n",
       "      <td>732091.98</td>\n",
       "      <td>51.00</td>\n",
       "      <td>6.27</td>\n",
       "      <td>51.54</td>\n",
       "      <td>74.99</td>\n",
       "    </tr>\n",
       "    <tr>\n",
       "      <th>1</th>\n",
       "      <td>1</td>\n",
       "      <td>731142.46</td>\n",
       "      <td>240.00</td>\n",
       "      <td>100.00</td>\n",
       "      <td>144.49</td>\n",
       "      <td>41.73</td>\n",
       "    </tr>\n",
       "    <tr>\n",
       "      <th>2</th>\n",
       "      <td>2</td>\n",
       "      <td>732071.81</td>\n",
       "      <td>154.19</td>\n",
       "      <td>8.79</td>\n",
       "      <td>155.88</td>\n",
       "      <td>68.78</td>\n",
       "    </tr>\n",
       "    <tr>\n",
       "      <th>3</th>\n",
       "      <td>3</td>\n",
       "      <td>727123.13</td>\n",
       "      <td>145.65</td>\n",
       "      <td>8.60</td>\n",
       "      <td>-98.99</td>\n",
       "      <td>0.01</td>\n",
       "    </tr>\n",
       "  </tbody>\n",
       "</table>\n",
       "</div>"
      ],
      "text/plain": [
       "  cluster id_student due_date  weight date_submitted  score\n",
       "                mean     mean    mean           mean   mean\n",
       "0       0  732091.98    51.00    6.27          51.54  74.99\n",
       "1       1  731142.46   240.00  100.00         144.49  41.73\n",
       "2       2  732071.81   154.19    8.79         155.88  68.78\n",
       "3       3  727123.13   145.65    8.60         -98.99   0.01"
      ]
     },
     "execution_count": 29,
     "metadata": {},
     "output_type": "execute_result"
    }
   ],
   "source": [
    "## Your code with comments\n",
    "# YOUR CODE HERE\n",
    "qt.groupby(['cluster']).agg(['mean']).round(2).reset_index()\n",
    "#raise NotImplementedError()"
   ]
  },
  {
   "cell_type": "markdown",
   "metadata": {
    "deletable": false,
    "editable": false,
    "nbgrader": {
     "cell_type": "markdown",
     "checksum": "f5f8705464daf524bbdac1d356ab8bdd",
     "grade": false,
     "grade_id": "cell-7eeaf9f491a1cd4e",
     "locked": true,
     "schema_version": 3,
     "solution": false,
     "task": false
    }
   },
   "source": [
    "5.6. (2 points) Create descriptive table of features using cluster labels for data frame from 5.4"
   ]
  },
  {
   "cell_type": "code",
   "execution_count": 30,
   "metadata": {
    "deletable": false,
    "nbgrader": {
     "cell_type": "code",
     "checksum": "d3eb2f84ba69b6dee4c3c68bb25b9861",
     "grade": true,
     "grade_id": "cell-6efde6740b1adf96",
     "locked": false,
     "points": 0,
     "schema_version": 3,
     "solution": true,
     "task": false
    }
   },
   "outputs": [
    {
     "data": {
      "text/html": [
       "<div>\n",
       "<style scoped>\n",
       "    .dataframe tbody tr th:only-of-type {\n",
       "        vertical-align: middle;\n",
       "    }\n",
       "\n",
       "    .dataframe tbody tr th {\n",
       "        vertical-align: top;\n",
       "    }\n",
       "\n",
       "    .dataframe thead tr th {\n",
       "        text-align: left;\n",
       "    }\n",
       "</style>\n",
       "<table border=\"1\" class=\"dataframe\">\n",
       "  <thead>\n",
       "    <tr>\n",
       "      <th></th>\n",
       "      <th>cluster</th>\n",
       "      <th>id_student</th>\n",
       "      <th>activity_id</th>\n",
       "      <th>date</th>\n",
       "      <th>sum_click</th>\n",
       "    </tr>\n",
       "    <tr>\n",
       "      <th></th>\n",
       "      <th></th>\n",
       "      <th>mean</th>\n",
       "      <th>mean</th>\n",
       "      <th>mean</th>\n",
       "      <th>mean</th>\n",
       "    </tr>\n",
       "  </thead>\n",
       "  <tbody>\n",
       "    <tr>\n",
       "      <th>0</th>\n",
       "      <td>0</td>\n",
       "      <td>744601.08</td>\n",
       "      <td>13.74</td>\n",
       "      <td>39.17</td>\n",
       "      <td>2.45</td>\n",
       "    </tr>\n",
       "    <tr>\n",
       "      <th>1</th>\n",
       "      <td>1</td>\n",
       "      <td>727690.76</td>\n",
       "      <td>42.96</td>\n",
       "      <td>164.46</td>\n",
       "      <td>2.11</td>\n",
       "    </tr>\n",
       "    <tr>\n",
       "      <th>2</th>\n",
       "      <td>2</td>\n",
       "      <td>762597.01</td>\n",
       "      <td>149.56</td>\n",
       "      <td>53.59</td>\n",
       "      <td>1.42</td>\n",
       "    </tr>\n",
       "    <tr>\n",
       "      <th>3</th>\n",
       "      <td>3</td>\n",
       "      <td>745880.52</td>\n",
       "      <td>6.71</td>\n",
       "      <td>81.38</td>\n",
       "      <td>14.05</td>\n",
       "    </tr>\n",
       "  </tbody>\n",
       "</table>\n",
       "</div>"
      ],
      "text/plain": [
       "  cluster id_student activity_id    date sum_click\n",
       "                mean        mean    mean      mean\n",
       "0       0  744601.08       13.74   39.17      2.45\n",
       "1       1  727690.76       42.96  164.46      2.11\n",
       "2       2  762597.01      149.56   53.59      1.42\n",
       "3       3  745880.52        6.71   81.38     14.05"
      ]
     },
     "execution_count": 30,
     "metadata": {},
     "output_type": "execute_result"
    }
   ],
   "source": [
    "## Your code with comments\n",
    "# YOUR CODE HERE\n",
    "lr.groupby(['cluster']).agg(['mean']).round(2).reset_index()\n",
    "#raise NotImplementedError()"
   ]
  },
  {
   "cell_type": "markdown",
   "metadata": {
    "deletable": false,
    "editable": false,
    "nbgrader": {
     "cell_type": "markdown",
     "checksum": "904feee552a3c469b29ec2287cce0b66",
     "grade": false,
     "grade_id": "cell-53ce542d1a6bc79a",
     "locked": true,
     "schema_version": 3,
     "solution": false,
     "task": false
    }
   },
   "source": [
    "5.7 (2 points) Join data frames from 5.3 and 5.4"
   ]
  },
  {
   "cell_type": "code",
   "execution_count": 31,
   "metadata": {
    "deletable": false,
    "nbgrader": {
     "cell_type": "code",
     "checksum": "abffdde754fb33b083488693044ca5f4",
     "grade": true,
     "grade_id": "cell-a6a5b641f7d25f28",
     "locked": false,
     "points": 0,
     "schema_version": 3,
     "solution": true,
     "task": false
    }
   },
   "outputs": [],
   "source": [
    "## Your code with comments\n",
    "# YOUR CODE HERE\n",
    "qt_lr = qt.merge(lr, on=\"id_student\").rename(columns = {\"cluster_x\":\"cluster_qt\", \"cluster_y\":\"cluster_lr\"})\n",
    "#raise NotImplementedError()"
   ]
  },
  {
   "cell_type": "code",
   "execution_count": 32,
   "metadata": {},
   "outputs": [
    {
     "data": {
      "text/plain": [
       "(6206704, 12)"
      ]
     },
     "execution_count": 32,
     "metadata": {},
     "output_type": "execute_result"
    }
   ],
   "source": [
    "qt_lr.shape"
   ]
  },
  {
   "cell_type": "code",
   "execution_count": 33,
   "metadata": {},
   "outputs": [
    {
     "data": {
      "text/html": [
       "<div>\n",
       "<style scoped>\n",
       "    .dataframe tbody tr th:only-of-type {\n",
       "        vertical-align: middle;\n",
       "    }\n",
       "\n",
       "    .dataframe tbody tr th {\n",
       "        vertical-align: top;\n",
       "    }\n",
       "\n",
       "    .dataframe thead th {\n",
       "        text-align: right;\n",
       "    }\n",
       "</style>\n",
       "<table border=\"1\" class=\"dataframe\">\n",
       "  <thead>\n",
       "    <tr style=\"text-align: right;\">\n",
       "      <th></th>\n",
       "      <th>id_student</th>\n",
       "      <th>assignment_name</th>\n",
       "      <th>due_date</th>\n",
       "      <th>weight</th>\n",
       "      <th>date_submitted</th>\n",
       "      <th>score</th>\n",
       "      <th>cluster_qt</th>\n",
       "      <th>activity_type</th>\n",
       "      <th>activity_id</th>\n",
       "      <th>date</th>\n",
       "      <th>sum_click</th>\n",
       "      <th>cluster_lr</th>\n",
       "    </tr>\n",
       "  </thead>\n",
       "  <tbody>\n",
       "    <tr>\n",
       "      <th>0</th>\n",
       "      <td>41060</td>\n",
       "      <td>Quiz 1</td>\n",
       "      <td>23</td>\n",
       "      <td>2.0</td>\n",
       "      <td>25.0</td>\n",
       "      <td>77</td>\n",
       "      <td>0</td>\n",
       "      <td>course_homepage</td>\n",
       "      <td>1</td>\n",
       "      <td>0</td>\n",
       "      <td>1</td>\n",
       "      <td>0</td>\n",
       "    </tr>\n",
       "    <tr>\n",
       "      <th>1</th>\n",
       "      <td>41060</td>\n",
       "      <td>Quiz 1</td>\n",
       "      <td>23</td>\n",
       "      <td>2.0</td>\n",
       "      <td>25.0</td>\n",
       "      <td>77</td>\n",
       "      <td>0</td>\n",
       "      <td>course_page</td>\n",
       "      <td>7</td>\n",
       "      <td>0</td>\n",
       "      <td>1</td>\n",
       "      <td>0</td>\n",
       "    </tr>\n",
       "    <tr>\n",
       "      <th>2</th>\n",
       "      <td>41060</td>\n",
       "      <td>Quiz 1</td>\n",
       "      <td>23</td>\n",
       "      <td>2.0</td>\n",
       "      <td>25.0</td>\n",
       "      <td>77</td>\n",
       "      <td>0</td>\n",
       "      <td>course_homepage</td>\n",
       "      <td>1</td>\n",
       "      <td>0</td>\n",
       "      <td>1</td>\n",
       "      <td>0</td>\n",
       "    </tr>\n",
       "    <tr>\n",
       "      <th>3</th>\n",
       "      <td>41060</td>\n",
       "      <td>Quiz 1</td>\n",
       "      <td>23</td>\n",
       "      <td>2.0</td>\n",
       "      <td>25.0</td>\n",
       "      <td>77</td>\n",
       "      <td>0</td>\n",
       "      <td>resource</td>\n",
       "      <td>229</td>\n",
       "      <td>0</td>\n",
       "      <td>1</td>\n",
       "      <td>2</td>\n",
       "    </tr>\n",
       "    <tr>\n",
       "      <th>4</th>\n",
       "      <td>41060</td>\n",
       "      <td>Quiz 1</td>\n",
       "      <td>23</td>\n",
       "      <td>2.0</td>\n",
       "      <td>25.0</td>\n",
       "      <td>77</td>\n",
       "      <td>0</td>\n",
       "      <td>resource</td>\n",
       "      <td>104</td>\n",
       "      <td>0</td>\n",
       "      <td>1</td>\n",
       "      <td>2</td>\n",
       "    </tr>\n",
       "    <tr>\n",
       "      <th>...</th>\n",
       "      <td>...</td>\n",
       "      <td>...</td>\n",
       "      <td>...</td>\n",
       "      <td>...</td>\n",
       "      <td>...</td>\n",
       "      <td>...</td>\n",
       "      <td>...</td>\n",
       "      <td>...</td>\n",
       "      <td>...</td>\n",
       "      <td>...</td>\n",
       "      <td>...</td>\n",
       "      <td>...</td>\n",
       "    </tr>\n",
       "    <tr>\n",
       "      <th>6206699</th>\n",
       "      <td>2694933</td>\n",
       "      <td>Final Exam</td>\n",
       "      <td>240</td>\n",
       "      <td>100.0</td>\n",
       "      <td>230.0</td>\n",
       "      <td>73</td>\n",
       "      <td>1</td>\n",
       "      <td>course_page</td>\n",
       "      <td>103</td>\n",
       "      <td>227</td>\n",
       "      <td>1</td>\n",
       "      <td>1</td>\n",
       "    </tr>\n",
       "    <tr>\n",
       "      <th>6206700</th>\n",
       "      <td>2694933</td>\n",
       "      <td>Final Exam</td>\n",
       "      <td>240</td>\n",
       "      <td>100.0</td>\n",
       "      <td>230.0</td>\n",
       "      <td>73</td>\n",
       "      <td>1</td>\n",
       "      <td>resource</td>\n",
       "      <td>137</td>\n",
       "      <td>227</td>\n",
       "      <td>1</td>\n",
       "      <td>1</td>\n",
       "    </tr>\n",
       "    <tr>\n",
       "      <th>6206701</th>\n",
       "      <td>2694933</td>\n",
       "      <td>Final Exam</td>\n",
       "      <td>240</td>\n",
       "      <td>100.0</td>\n",
       "      <td>230.0</td>\n",
       "      <td>73</td>\n",
       "      <td>1</td>\n",
       "      <td>course_page</td>\n",
       "      <td>115</td>\n",
       "      <td>227</td>\n",
       "      <td>2</td>\n",
       "      <td>1</td>\n",
       "    </tr>\n",
       "    <tr>\n",
       "      <th>6206702</th>\n",
       "      <td>2694933</td>\n",
       "      <td>Final Exam</td>\n",
       "      <td>240</td>\n",
       "      <td>100.0</td>\n",
       "      <td>230.0</td>\n",
       "      <td>73</td>\n",
       "      <td>1</td>\n",
       "      <td>resource</td>\n",
       "      <td>146</td>\n",
       "      <td>227</td>\n",
       "      <td>1</td>\n",
       "      <td>1</td>\n",
       "    </tr>\n",
       "    <tr>\n",
       "      <th>6206703</th>\n",
       "      <td>2694933</td>\n",
       "      <td>Final Exam</td>\n",
       "      <td>240</td>\n",
       "      <td>100.0</td>\n",
       "      <td>230.0</td>\n",
       "      <td>73</td>\n",
       "      <td>1</td>\n",
       "      <td>course_homepage</td>\n",
       "      <td>1</td>\n",
       "      <td>237</td>\n",
       "      <td>1</td>\n",
       "      <td>1</td>\n",
       "    </tr>\n",
       "  </tbody>\n",
       "</table>\n",
       "<p>6206704 rows × 12 columns</p>\n",
       "</div>"
      ],
      "text/plain": [
       "         id_student assignment_name  due_date  weight  date_submitted  score  \\\n",
       "0             41060          Quiz 1        23     2.0            25.0     77   \n",
       "1             41060          Quiz 1        23     2.0            25.0     77   \n",
       "2             41060          Quiz 1        23     2.0            25.0     77   \n",
       "3             41060          Quiz 1        23     2.0            25.0     77   \n",
       "4             41060          Quiz 1        23     2.0            25.0     77   \n",
       "...             ...             ...       ...     ...             ...    ...   \n",
       "6206699     2694933      Final Exam       240   100.0           230.0     73   \n",
       "6206700     2694933      Final Exam       240   100.0           230.0     73   \n",
       "6206701     2694933      Final Exam       240   100.0           230.0     73   \n",
       "6206702     2694933      Final Exam       240   100.0           230.0     73   \n",
       "6206703     2694933      Final Exam       240   100.0           230.0     73   \n",
       "\n",
       "         cluster_qt    activity_type  activity_id  date  sum_click  cluster_lr  \n",
       "0                 0  course_homepage            1     0          1           0  \n",
       "1                 0      course_page            7     0          1           0  \n",
       "2                 0  course_homepage            1     0          1           0  \n",
       "3                 0         resource          229     0          1           2  \n",
       "4                 0         resource          104     0          1           2  \n",
       "...             ...              ...          ...   ...        ...         ...  \n",
       "6206699           1      course_page          103   227          1           1  \n",
       "6206700           1         resource          137   227          1           1  \n",
       "6206701           1      course_page          115   227          2           1  \n",
       "6206702           1         resource          146   227          1           1  \n",
       "6206703           1  course_homepage            1   237          1           1  \n",
       "\n",
       "[6206704 rows x 12 columns]"
      ]
     },
     "execution_count": 33,
     "metadata": {},
     "output_type": "execute_result"
    }
   ],
   "source": [
    "qt_lr"
   ]
  },
  {
   "cell_type": "markdown",
   "metadata": {
    "deletable": false,
    "editable": false,
    "nbgrader": {
     "cell_type": "markdown",
     "checksum": "875d9b6e03fab14b931e494a44fbb335",
     "grade": false,
     "grade_id": "cell-398b344a7b4f3cc5",
     "locked": true,
     "schema_version": 3,
     "solution": false,
     "task": false
    }
   },
   "source": [
    "5.8 (2 points) Create a cross-tabulation of quiz- and resource-based cluster labels (i.e., counts of students in each cell)"
   ]
  },
  {
   "cell_type": "code",
   "execution_count": 34,
   "metadata": {
    "deletable": false,
    "nbgrader": {
     "cell_type": "code",
     "checksum": "5a2029832d5f2494edcf4e2e54e948f9",
     "grade": true,
     "grade_id": "cell-f2ebe7912f43ea1e",
     "locked": false,
     "points": 0,
     "schema_version": 3,
     "solution": true,
     "task": false
    }
   },
   "outputs": [
    {
     "data": {
      "text/plain": [
       "813"
      ]
     },
     "execution_count": 34,
     "metadata": {},
     "output_type": "execute_result"
    }
   ],
   "source": [
    "## Your code with comments\n",
    "# YOUR CODE HERE\n",
    "qt[\"id_student\"].nunique()\n",
    "#raise NotImplementedError()"
   ]
  },
  {
   "cell_type": "code",
   "execution_count": 35,
   "metadata": {},
   "outputs": [
    {
     "data": {
      "text/html": [
       "<div>\n",
       "<style scoped>\n",
       "    .dataframe tbody tr th:only-of-type {\n",
       "        vertical-align: middle;\n",
       "    }\n",
       "\n",
       "    .dataframe tbody tr th {\n",
       "        vertical-align: top;\n",
       "    }\n",
       "\n",
       "    .dataframe thead th {\n",
       "        text-align: right;\n",
       "    }\n",
       "</style>\n",
       "<table border=\"1\" class=\"dataframe\">\n",
       "  <thead>\n",
       "    <tr style=\"text-align: right;\">\n",
       "      <th>cluster_lr</th>\n",
       "      <th>0</th>\n",
       "      <th>1</th>\n",
       "      <th>2</th>\n",
       "      <th>3</th>\n",
       "    </tr>\n",
       "    <tr>\n",
       "      <th>cluster_qt</th>\n",
       "      <th></th>\n",
       "      <th></th>\n",
       "      <th></th>\n",
       "      <th></th>\n",
       "    </tr>\n",
       "  </thead>\n",
       "  <tbody>\n",
       "    <tr>\n",
       "      <th>0</th>\n",
       "      <td>811</td>\n",
       "      <td>738</td>\n",
       "      <td>812</td>\n",
       "      <td>787</td>\n",
       "    </tr>\n",
       "    <tr>\n",
       "      <th>1</th>\n",
       "      <td>811</td>\n",
       "      <td>738</td>\n",
       "      <td>812</td>\n",
       "      <td>787</td>\n",
       "    </tr>\n",
       "    <tr>\n",
       "      <th>2</th>\n",
       "      <td>702</td>\n",
       "      <td>703</td>\n",
       "      <td>703</td>\n",
       "      <td>697</td>\n",
       "    </tr>\n",
       "    <tr>\n",
       "      <th>3</th>\n",
       "      <td>441</td>\n",
       "      <td>368</td>\n",
       "      <td>442</td>\n",
       "      <td>417</td>\n",
       "    </tr>\n",
       "  </tbody>\n",
       "</table>\n",
       "</div>"
      ],
      "text/plain": [
       "cluster_lr    0    1    2    3\n",
       "cluster_qt                    \n",
       "0           811  738  812  787\n",
       "1           811  738  812  787\n",
       "2           702  703  703  697\n",
       "3           441  368  442  417"
      ]
     },
     "execution_count": 35,
     "metadata": {},
     "output_type": "execute_result"
    }
   ],
   "source": [
    "ct = qt_lr.groupby([\"cluster_qt\", \"cluster_lr\"], as_index=False)[\"id_student\"].nunique()\n",
    "ct.pivot(index=\"cluster_qt\", columns=\"cluster_lr\", values=\"id_student\")"
   ]
  },
  {
   "cell_type": "markdown",
   "metadata": {
    "deletable": false,
    "editable": false,
    "nbgrader": {
     "cell_type": "markdown",
     "checksum": "85da7851f86b24fe74497445b0269c38",
     "grade": false,
     "grade_id": "cell-1f57a13f14b0bb9c",
     "locked": true,
     "schema_version": 3,
     "solution": false,
     "task": false
    }
   },
   "source": [
    "5.9 (2 points) Merge `final_result` from `student_info.csv` onto data frame from 5.7"
   ]
  },
  {
   "cell_type": "code",
   "execution_count": 36,
   "metadata": {
    "deletable": false,
    "nbgrader": {
     "cell_type": "code",
     "checksum": "6de3ea76c41a2ce927233ad156e7ecd1",
     "grade": true,
     "grade_id": "cell-91f7aa45b11a1304",
     "locked": false,
     "points": 0,
     "schema_version": 3,
     "solution": true,
     "task": false
    }
   },
   "outputs": [
    {
     "data": {
      "text/html": [
       "<div>\n",
       "<style scoped>\n",
       "    .dataframe tbody tr th:only-of-type {\n",
       "        vertical-align: middle;\n",
       "    }\n",
       "\n",
       "    .dataframe tbody tr th {\n",
       "        vertical-align: top;\n",
       "    }\n",
       "\n",
       "    .dataframe thead th {\n",
       "        text-align: right;\n",
       "    }\n",
       "</style>\n",
       "<table border=\"1\" class=\"dataframe\">\n",
       "  <thead>\n",
       "    <tr style=\"text-align: right;\">\n",
       "      <th></th>\n",
       "      <th>id_student</th>\n",
       "      <th>assignment_name</th>\n",
       "      <th>due_date</th>\n",
       "      <th>weight</th>\n",
       "      <th>date_submitted</th>\n",
       "      <th>score</th>\n",
       "      <th>cluster_qt</th>\n",
       "      <th>activity_type</th>\n",
       "      <th>activity_id</th>\n",
       "      <th>date</th>\n",
       "      <th>sum_click</th>\n",
       "      <th>cluster_lr</th>\n",
       "      <th>final_result</th>\n",
       "    </tr>\n",
       "  </thead>\n",
       "  <tbody>\n",
       "    <tr>\n",
       "      <th>0</th>\n",
       "      <td>41060</td>\n",
       "      <td>Quiz 1</td>\n",
       "      <td>23</td>\n",
       "      <td>2.0</td>\n",
       "      <td>25.0</td>\n",
       "      <td>77</td>\n",
       "      <td>0</td>\n",
       "      <td>course_homepage</td>\n",
       "      <td>1</td>\n",
       "      <td>0</td>\n",
       "      <td>1</td>\n",
       "      <td>0</td>\n",
       "      <td>Fail</td>\n",
       "    </tr>\n",
       "    <tr>\n",
       "      <th>1</th>\n",
       "      <td>41060</td>\n",
       "      <td>Quiz 1</td>\n",
       "      <td>23</td>\n",
       "      <td>2.0</td>\n",
       "      <td>25.0</td>\n",
       "      <td>77</td>\n",
       "      <td>0</td>\n",
       "      <td>course_page</td>\n",
       "      <td>7</td>\n",
       "      <td>0</td>\n",
       "      <td>1</td>\n",
       "      <td>0</td>\n",
       "      <td>Fail</td>\n",
       "    </tr>\n",
       "    <tr>\n",
       "      <th>2</th>\n",
       "      <td>41060</td>\n",
       "      <td>Quiz 1</td>\n",
       "      <td>23</td>\n",
       "      <td>2.0</td>\n",
       "      <td>25.0</td>\n",
       "      <td>77</td>\n",
       "      <td>0</td>\n",
       "      <td>course_homepage</td>\n",
       "      <td>1</td>\n",
       "      <td>0</td>\n",
       "      <td>1</td>\n",
       "      <td>0</td>\n",
       "      <td>Fail</td>\n",
       "    </tr>\n",
       "    <tr>\n",
       "      <th>3</th>\n",
       "      <td>41060</td>\n",
       "      <td>Quiz 1</td>\n",
       "      <td>23</td>\n",
       "      <td>2.0</td>\n",
       "      <td>25.0</td>\n",
       "      <td>77</td>\n",
       "      <td>0</td>\n",
       "      <td>resource</td>\n",
       "      <td>229</td>\n",
       "      <td>0</td>\n",
       "      <td>1</td>\n",
       "      <td>2</td>\n",
       "      <td>Fail</td>\n",
       "    </tr>\n",
       "    <tr>\n",
       "      <th>4</th>\n",
       "      <td>41060</td>\n",
       "      <td>Quiz 1</td>\n",
       "      <td>23</td>\n",
       "      <td>2.0</td>\n",
       "      <td>25.0</td>\n",
       "      <td>77</td>\n",
       "      <td>0</td>\n",
       "      <td>resource</td>\n",
       "      <td>104</td>\n",
       "      <td>0</td>\n",
       "      <td>1</td>\n",
       "      <td>2</td>\n",
       "      <td>Fail</td>\n",
       "    </tr>\n",
       "    <tr>\n",
       "      <th>...</th>\n",
       "      <td>...</td>\n",
       "      <td>...</td>\n",
       "      <td>...</td>\n",
       "      <td>...</td>\n",
       "      <td>...</td>\n",
       "      <td>...</td>\n",
       "      <td>...</td>\n",
       "      <td>...</td>\n",
       "      <td>...</td>\n",
       "      <td>...</td>\n",
       "      <td>...</td>\n",
       "      <td>...</td>\n",
       "      <td>...</td>\n",
       "    </tr>\n",
       "    <tr>\n",
       "      <th>6206699</th>\n",
       "      <td>2694933</td>\n",
       "      <td>Final Exam</td>\n",
       "      <td>240</td>\n",
       "      <td>100.0</td>\n",
       "      <td>230.0</td>\n",
       "      <td>73</td>\n",
       "      <td>1</td>\n",
       "      <td>course_page</td>\n",
       "      <td>103</td>\n",
       "      <td>227</td>\n",
       "      <td>1</td>\n",
       "      <td>1</td>\n",
       "      <td>Pass</td>\n",
       "    </tr>\n",
       "    <tr>\n",
       "      <th>6206700</th>\n",
       "      <td>2694933</td>\n",
       "      <td>Final Exam</td>\n",
       "      <td>240</td>\n",
       "      <td>100.0</td>\n",
       "      <td>230.0</td>\n",
       "      <td>73</td>\n",
       "      <td>1</td>\n",
       "      <td>resource</td>\n",
       "      <td>137</td>\n",
       "      <td>227</td>\n",
       "      <td>1</td>\n",
       "      <td>1</td>\n",
       "      <td>Pass</td>\n",
       "    </tr>\n",
       "    <tr>\n",
       "      <th>6206701</th>\n",
       "      <td>2694933</td>\n",
       "      <td>Final Exam</td>\n",
       "      <td>240</td>\n",
       "      <td>100.0</td>\n",
       "      <td>230.0</td>\n",
       "      <td>73</td>\n",
       "      <td>1</td>\n",
       "      <td>course_page</td>\n",
       "      <td>115</td>\n",
       "      <td>227</td>\n",
       "      <td>2</td>\n",
       "      <td>1</td>\n",
       "      <td>Pass</td>\n",
       "    </tr>\n",
       "    <tr>\n",
       "      <th>6206702</th>\n",
       "      <td>2694933</td>\n",
       "      <td>Final Exam</td>\n",
       "      <td>240</td>\n",
       "      <td>100.0</td>\n",
       "      <td>230.0</td>\n",
       "      <td>73</td>\n",
       "      <td>1</td>\n",
       "      <td>resource</td>\n",
       "      <td>146</td>\n",
       "      <td>227</td>\n",
       "      <td>1</td>\n",
       "      <td>1</td>\n",
       "      <td>Pass</td>\n",
       "    </tr>\n",
       "    <tr>\n",
       "      <th>6206703</th>\n",
       "      <td>2694933</td>\n",
       "      <td>Final Exam</td>\n",
       "      <td>240</td>\n",
       "      <td>100.0</td>\n",
       "      <td>230.0</td>\n",
       "      <td>73</td>\n",
       "      <td>1</td>\n",
       "      <td>course_homepage</td>\n",
       "      <td>1</td>\n",
       "      <td>237</td>\n",
       "      <td>1</td>\n",
       "      <td>1</td>\n",
       "      <td>Pass</td>\n",
       "    </tr>\n",
       "  </tbody>\n",
       "</table>\n",
       "<p>6206704 rows × 13 columns</p>\n",
       "</div>"
      ],
      "text/plain": [
       "         id_student assignment_name  due_date  weight  date_submitted  score  \\\n",
       "0             41060          Quiz 1        23     2.0            25.0     77   \n",
       "1             41060          Quiz 1        23     2.0            25.0     77   \n",
       "2             41060          Quiz 1        23     2.0            25.0     77   \n",
       "3             41060          Quiz 1        23     2.0            25.0     77   \n",
       "4             41060          Quiz 1        23     2.0            25.0     77   \n",
       "...             ...             ...       ...     ...             ...    ...   \n",
       "6206699     2694933      Final Exam       240   100.0           230.0     73   \n",
       "6206700     2694933      Final Exam       240   100.0           230.0     73   \n",
       "6206701     2694933      Final Exam       240   100.0           230.0     73   \n",
       "6206702     2694933      Final Exam       240   100.0           230.0     73   \n",
       "6206703     2694933      Final Exam       240   100.0           230.0     73   \n",
       "\n",
       "         cluster_qt    activity_type  activity_id  date  sum_click  \\\n",
       "0                 0  course_homepage            1     0          1   \n",
       "1                 0      course_page            7     0          1   \n",
       "2                 0  course_homepage            1     0          1   \n",
       "3                 0         resource          229     0          1   \n",
       "4                 0         resource          104     0          1   \n",
       "...             ...              ...          ...   ...        ...   \n",
       "6206699           1      course_page          103   227          1   \n",
       "6206700           1         resource          137   227          1   \n",
       "6206701           1      course_page          115   227          2   \n",
       "6206702           1         resource          146   227          1   \n",
       "6206703           1  course_homepage            1   237          1   \n",
       "\n",
       "         cluster_lr final_result  \n",
       "0                 0         Fail  \n",
       "1                 0         Fail  \n",
       "2                 0         Fail  \n",
       "3                 2         Fail  \n",
       "4                 2         Fail  \n",
       "...             ...          ...  \n",
       "6206699           1         Pass  \n",
       "6206700           1         Pass  \n",
       "6206701           1         Pass  \n",
       "6206702           1         Pass  \n",
       "6206703           1         Pass  \n",
       "\n",
       "[6206704 rows x 13 columns]"
      ]
     },
     "execution_count": 36,
     "metadata": {},
     "output_type": "execute_result"
    }
   ],
   "source": [
    "## Your code with comments\n",
    "# YOUR CODE HERE\n",
    "final = qt_lr.merge(si[[\"id_student\", \"final_result\"]])\n",
    "final\n",
    "#raise NotImplementedError()"
   ]
  },
  {
   "cell_type": "markdown",
   "metadata": {
    "deletable": false,
    "editable": false,
    "nbgrader": {
     "cell_type": "markdown",
     "checksum": "1b3a379fc79c3bb12eebd317bc162bf0",
     "grade": false,
     "grade_id": "cell-6292b5d287f4c950",
     "locked": true,
     "schema_version": 3,
     "solution": false,
     "task": false
    }
   },
   "source": [
    "5.10 (2 points). Calculate the pass rate (i.e., `final_result`) for each combination of quiz- and resource-based clusters"
   ]
  },
  {
   "cell_type": "code",
   "execution_count": 37,
   "metadata": {
    "deletable": false,
    "nbgrader": {
     "cell_type": "code",
     "checksum": "ae568d1cef28ce63399b829907c973f7",
     "grade": true,
     "grade_id": "cell-3765795c9080c9b9",
     "locked": false,
     "points": 0,
     "schema_version": 3,
     "solution": true,
     "task": false
    }
   },
   "outputs": [
    {
     "data": {
      "text/plain": [
       "cluster_qt  cluster_lr\n",
       "0           0             0.761250\n",
       "            1             0.839845\n",
       "            2             0.770569\n",
       "            3             0.765585\n",
       "1           0             0.741017\n",
       "            1             0.836247\n",
       "            2             0.752025\n",
       "            3             0.753516\n",
       "2           0             0.822559\n",
       "            1             0.854854\n",
       "            2             0.824982\n",
       "            3             0.807627\n",
       "3           0             0.310376\n",
       "            1             0.633528\n",
       "            2             0.335350\n",
       "            3             0.374076\n",
       "Name: final_result, dtype: float64"
      ]
     },
     "execution_count": 37,
     "metadata": {},
     "output_type": "execute_result"
    }
   ],
   "source": [
    "## Your code with comments\n",
    "# YOUR CODE HERE\n",
    "final.replace({\"Fail\":False, \"Pass\":True}).groupby([\"cluster_qt\", \"cluster_lr\"])[\"final_result\"].mean()\n",
    "#raise NotImplementedError()"
   ]
  },
  {
   "cell_type": "markdown",
   "metadata": {
    "deletable": false,
    "editable": false,
    "id": "6oMJoLxPMUeL",
    "nbgrader": {
     "cell_type": "markdown",
     "checksum": "2b214fbe95bc910aefb35ee8497e93c7",
     "grade": false,
     "grade_id": "cell-fcea7bbfcbce4df0",
     "locked": true,
     "schema_version": 3,
     "solution": false,
     "task": false
    }
   },
   "source": [
    "# 6. Interpret (10 points)"
   ]
  },
  {
   "cell_type": "markdown",
   "metadata": {
    "deletable": false,
    "editable": false,
    "id": "D-XjyfWfMj98",
    "nbgrader": {
     "cell_type": "markdown",
     "checksum": "6182df92295a63660b59b1bed657cc3f",
     "grade": false,
     "grade_id": "cell-a648100dd962d7c4",
     "locked": true,
     "schema_version": 3,
     "solution": false,
     "task": false
    }
   },
   "source": [
    "In this final section, reflect on how the clusters you developed might be helpful to understanding factors contributing to student success in the course."
   ]
  },
  {
   "cell_type": "markdown",
   "metadata": {
    "deletable": false,
    "editable": false,
    "nbgrader": {
     "cell_type": "markdown",
     "checksum": "e1b62b5c5b7c660e5dd3cfa362c27a4f",
     "grade": false,
     "grade_id": "cell-d115e63b8d897e37",
     "locked": true,
     "schema_version": 3,
     "solution": false,
     "task": false
    }
   },
   "source": [
    "6.1. For each dataset, (`quizzes_tests.csv` and `learning_resources.csv`) provide a high-level summary of the clusters you created. Using the descriptive statistics you developed for each cluster, provide a label or name that describe the membership for each cluster (in some circles, this process is called segmentation). (5 points)"
   ]
  },
  {
   "cell_type": "markdown",
   "metadata": {},
   "source": [
    "Your written response"
   ]
  },
  {
   "cell_type": "markdown",
   "metadata": {
    "deletable": false,
    "editable": false,
    "nbgrader": {
     "cell_type": "markdown",
     "checksum": "b6143d754a8945d1611195ec47fe97d9",
     "grade": false,
     "grade_id": "cell-8192e26ef706bf20",
     "locked": true,
     "schema_version": 3,
     "solution": false,
     "task": false
    }
   },
   "source": [
    "6.2. How might clusters like these be useful for instructors? course designers? administrators? What are the limitations to the clusters you made? (5 points)"
   ]
  },
  {
   "cell_type": "markdown",
   "metadata": {},
   "source": [
    "Your written response"
   ]
  }
 ],
 "metadata": {
  "colab": {
   "collapsed_sections": [],
   "name": "Assignment2_source.ipynb",
   "provenance": []
  },
  "coursera": {
   "schema_names": [
    "mads_learning_analytics_v2_assignment2"
   ]
  },
  "kernelspec": {
   "display_name": "Python 3 (ipykernel)",
   "language": "python",
   "name": "python3"
  },
  "language_info": {
   "codemirror_mode": {
    "name": "ipython",
    "version": 3
   },
   "file_extension": ".py",
   "mimetype": "text/x-python",
   "name": "python",
   "nbconvert_exporter": "python",
   "pygments_lexer": "ipython3",
   "version": "3.8.10"
  }
 },
 "nbformat": 4,
 "nbformat_minor": 1
}
