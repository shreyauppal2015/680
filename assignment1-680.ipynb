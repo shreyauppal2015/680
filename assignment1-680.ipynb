{
 "cells": [
  {
   "cell_type": "markdown",
   "metadata": {
    "deletable": false,
    "editable": false,
    "nbgrader": {
     "cell_type": "markdown",
     "checksum": "adda19f5041360664358af94ab788655",
     "grade": false,
     "grade_id": "cell-57879a1e86b2abe5",
     "locked": true,
     "schema_version": 3,
     "solution": false,
     "task": false
    }
   },
   "source": [
    "<img src=\"https://brand.umich.edu/assets/brand/style-guide/logo-guidelines/U-M_Logo-Horizontal-Hex.png\" alt=\"Drawing\" style=\"width: 300px;\" align=\"left\"/><br>\n",
    "\n",
    "# Week 1: Exploratory Data Analysis"
   ]
  },
  {
   "cell_type": "markdown",
   "metadata": {
    "deletable": false,
    "editable": false,
    "nbgrader": {
     "cell_type": "markdown",
     "checksum": "8b2ea6990fb358344418d5f8014c2def",
     "grade": false,
     "grade_id": "cell-5563682189e0eb2f",
     "locked": true,
     "schema_version": 3,
     "solution": false,
     "task": false
    }
   },
   "source": [
    "A key idea behind data exploration is what John Behrens, who you will read in Week 3, refers to as building a “mental model” of the phenomenon of interest. The phenomenon of interest for the eventual model that you will start building in Week 3 is students' likelihood of not passing an online, self-directed course. In developing a mental model, we want you to think about what might be predictive of eventual course success. Oftentimes, what is predictive is commonsensical: students’ completion and performance on assessments, for example.\n",
    "\n",
    "If you want additional examples, the optional reading by Kuzilek, Hlosta, Herrmannova, Zdrahal, Vaclavek,  & Wolf (2015) illustrates their efforts to build a classification model using Open University data, which is the same source as the data we will be exploring in this notebook.\n",
    "\n",
    "Below are some starter ideas for features to explore. In looking at the list, think about how different actions that students take are translated into data that are collected and stored by the OU online system.\n",
    "- Order of events\n",
    "- Differences from class average / median\n",
    "- % of learning resources accessed from a defined set\n",
    "- Ratios of activities by \"session\" or day\n",
    "- Time between events (i.e., gaps)\n",
    "- Activity in \"first 5 or 10 events\" \n",
    "- Activity that \"starts\" a session or precedes / follows an assessment\n",
    "- Differences from due dates (i.e., early / late)\n",
    "- Scores on assignments\n",
    "- Whether or not an assignment was turned in, regardless of score\n",
    "\n",
    "The data work that we engage in for the purpose of “developing a mental model” in this first notebook will be much simpler as compared to the Notebooks 2 and 3, which are structured around unsupervised and supervised machine learning tasks, respectively. In many ways, this first notebook is intended to get you familiar with a typical “learning analytics” datasets that includes demographic, assessment, and log data."
   ]
  },
  {
   "cell_type": "markdown",
   "metadata": {
    "deletable": false,
    "editable": false,
    "id": "Jt3cNQYJOqvd",
    "nbgrader": {
     "cell_type": "markdown",
     "checksum": "dff855584061644993cd3d34d0ed7de4",
     "grade": false,
     "grade_id": "cell-13c70bd72eb96718",
     "locked": true,
     "schema_version": 3,
     "solution": false,
     "task": false
    }
   },
   "source": [
    "### Dictionary\n",
    "- **student_info.csv**\n",
    "    - **id_student** = numeric; unique identifier for each student in the course\n",
    "    - **gender** = character; M = \"male\", F = \"female\"\n",
    "    - **highest_education** = character; “Some Graduate”, “Some Higher Education”, “High School + Advanced Placement”, “High School”, “No Formal Quals” (Categories ordered from highest documented education level attained to lowest documented education level attained)\n",
    "    - **disability** = character; Y = \"yes\", N = \"no\"\n",
    "    - **final_result** = character; \"Fail\", \"Pass\"\n",
    "\n",
    "\n",
    "- **quizzes_tests.csv**\n",
    "    - **id_student** = numeric; unique identifier for each student in the course\n",
    "    - **assignment_name** = character; name of graded assignment (Quiz 1-7, Test 1-6, Final Exam)\n",
    "    - **due_date** = numeric; date assignment was due (indexed as count in days from start of course, i.e., day 0)\n",
    "    - **weight** = numeric; weight multiplied by score when generating final grade (weight * score / 100)\n",
    "    - **date_submitted** = numeric; date student submitted assigned (indexed as count in days from start of course, i.e., day 0, NaN means students did not submit assignment)\n",
    "    - **score** = numeric; score student earned on assignment (0 means students did not submit assignment)\n",
    "\n",
    "\n",
    "- **learning_resources.csv**\n",
    "    - **id_student** = numeric; unique identifier for each student in the course\n",
    "    - **activity_type** = character; overarching label for learning activity students can access (“course_homepage”, “course_page”, “forum”, ‘resource”, “wiki”)\n",
    "    - **activity_id** = numeric; unique identifier for specific learning activity student accessed within overacting `activity_type`\n",
    "    - **date** = numeric; date student accessed specific `acitivity_id`  (indexed as count in days from start of course, i.e., day 0)\n",
    "    - **sum_click** = numeric; count of clicks for `activity_id` on date"
   ]
  },
  {
   "cell_type": "code",
   "execution_count": 1,
   "metadata": {
    "id": "Kbja8_tNOI_R"
   },
   "outputs": [],
   "source": [
    "import pandas as pd"
   ]
  },
  {
   "cell_type": "code",
   "execution_count": 2,
   "metadata": {},
   "outputs": [],
   "source": [
    "si = pd.read_csv(\"assets/student_info.csv\")\n",
    "qt = pd.read_csv(\"assets/quizzes_tests.csv\")\n",
    "lr = pd.read_csv(\"assets/learning_resources.csv\")"
   ]
  },
  {
   "cell_type": "markdown",
   "metadata": {
    "deletable": false,
    "editable": false,
    "id": "Z73fmApxaLK4",
    "nbgrader": {
     "cell_type": "markdown",
     "checksum": "a281750a381be0d03a3fae0772233302",
     "grade": false,
     "grade_id": "cell-70b22f84f4a826b7",
     "locked": true,
     "schema_version": 3,
     "solution": false,
     "task": false
    }
   },
   "source": [
    "# 1. Explorations (20 points)"
   ]
  },
  {
   "cell_type": "markdown",
   "metadata": {
    "deletable": false,
    "editable": false,
    "id": "REtTvYvz-mUc",
    "nbgrader": {
     "cell_type": "markdown",
     "checksum": "d2d649ebe3291c11bc16463da9b116a1",
     "grade": false,
     "grade_id": "cell-d2ca0dbdc0e665a9",
     "locked": true,
     "schema_version": 3,
     "solution": false,
     "task": false
    }
   },
   "source": [
    "For our initial explorations, we will load each dataset and get a feel for the variables and the data type for each variable.\n",
    "\n",
    "We have modified Open University data, focusing on a single course as well as simplifying `learning_resources.csv` and `quizzes_tests.csv` to make them easier to work with. Refer to the data dictionary, above, to learn about what is contained in each dataset. \n",
    "\n",
    "For the `quizzes_tests.csv` file, every student should have the same number of rows because each student had the opportunity to take the same quizzes and tests.\n",
    "\n",
    "The `learning_resources.csv` file logs the number of times that a student accessed a specific file (i.e., a webpage, PDF file, or section of the course like Wiki or Forum). Students will have different numbers of rows based on the files they accessed. Under `activity_type`, example files include \"course_homepage\" (i.e., the main landing page for the course), \"course_page\" (i.e., a page with course-related content), “resource” (i.e., a PDF file that blends text, tables, and figures), and interactive sections of the course (i.e., Wiki or Forum).\n",
    "\n",
    "**Note:** For these first tasks, you will be using a lot of `groupby`."
   ]
  },
  {
   "cell_type": "markdown",
   "metadata": {
    "deletable": false,
    "editable": false,
    "nbgrader": {
     "cell_type": "markdown",
     "checksum": "de6a972d828898c95302e2f6a5dc973c",
     "grade": false,
     "grade_id": "cell-be0f0855890dc5e7",
     "locked": true,
     "schema_version": 3,
     "solution": false,
     "task": false
    }
   },
   "source": [
    "### Grading\n",
    "\n",
    "1.1. (2 points) Identify how many students failed and passed the course\n",
    "\n",
    "1.2. (2 points) Calculate course **pass rate** using `final_result` by `disability`\n",
    "\n",
    "1.3. (2 points) Calculate course **pass rate** using `final_result` by `highest_education`\n",
    "\n",
    "1.4. (2 points) Calculate course **pass rate** using `final_result` by `gender`\n",
    "\n",
    "1.5. (2 points) Calculate **completion rate** for each `assignment_name`\n",
    "\n",
    "1.6. (2 points) Identify the median, mean, and standard deviation for each `assignment_name` for all students\n",
    "\n",
    "1.7. (2 points) Identify the median, mean, and standard deviation for each `assignment_name` for **only submitted** assignments\n",
    "\n",
    "1.8. (2 points) Identify the top 10 most accessed learning resources by summing `sum_clicks`, grouped by `activity_type` and `activity_id`\n",
    "\n",
    "1.9. (2 points) Create a data frame that represents the **number of unique students** who accessed any resource for each date\n",
    "\n",
    "1.10. (2 points) Visualize the data frame from 1.9 as a line plot"
   ]
  },
  {
   "cell_type": "markdown",
   "metadata": {
    "deletable": false,
    "editable": false,
    "nbgrader": {
     "cell_type": "markdown",
     "checksum": "770a972b863f572fb255da4c3c0971fa",
     "grade": false,
     "grade_id": "cell-b0ebd33e8e2b1ef9",
     "locked": true,
     "schema_version": 3,
     "solution": false,
     "task": false
    }
   },
   "source": [
    "## Student information"
   ]
  },
  {
   "cell_type": "markdown",
   "metadata": {
    "deletable": false,
    "editable": false,
    "nbgrader": {
     "cell_type": "markdown",
     "checksum": "8ebf126e54dd7bc6ce6dea28e8f2eb4e",
     "grade": false,
     "grade_id": "cell-4348e492b65c73c1",
     "locked": true,
     "schema_version": 3,
     "solution": false,
     "task": false
    }
   },
   "source": [
    "Let's start with the student information data. Each row is a unique student. First, identify the number of students who failed or passed the course."
   ]
  },
  {
   "cell_type": "markdown",
   "metadata": {
    "deletable": false,
    "editable": false,
    "nbgrader": {
     "cell_type": "markdown",
     "checksum": "73c63ee03585b0bdbcb8d72fa0357e36",
     "grade": false,
     "grade_id": "cell-a8d27cf485cf8e01",
     "locked": true,
     "schema_version": 3,
     "solution": false,
     "task": false
    }
   },
   "source": [
    "1.1. (1 point) Identify how many students failed and passed the course"
   ]
  },
  {
   "cell_type": "code",
   "execution_count": 3,
   "metadata": {
    "deletable": false,
    "nbgrader": {
     "cell_type": "code",
     "checksum": "0dc555fd22a4a8235187ef5e75c3b20f",
     "grade": true,
     "grade_id": "cell-b8cc91c5410db6a6",
     "locked": false,
     "points": 0,
     "schema_version": 3,
     "solution": true,
     "task": false
    }
   },
   "outputs": [
    {
     "data": {
      "text/plain": [
       "final_result\n",
       "Fail    303\n",
       "Pass    510\n",
       "Name: id_student, dtype: int64"
      ]
     },
     "execution_count": 3,
     "metadata": {},
     "output_type": "execute_result"
    }
   ],
   "source": [
    "## Your code with comments\n",
    "si.groupby(\"final_result\")[\"id_student\"].nunique()\n",
    "# YOUR CODE HERE\n",
    "#raise NotImplementedError()"
   ]
  },
  {
   "cell_type": "markdown",
   "metadata": {
    "deletable": false,
    "editable": false,
    "nbgrader": {
     "cell_type": "markdown",
     "checksum": "9ce99b2ac6cfcd0d91871775df7b45e9",
     "grade": false,
     "grade_id": "cell-c3b36bbf56610cbc",
     "locked": true,
     "schema_version": 3,
     "solution": false,
     "task": false
    }
   },
   "source": [
    "Next, we want to see if there are differences by `disability`, `highest_education`, and `gender` based on `final_result`. Because these groups have different overall counts, calculate percentages."
   ]
  },
  {
   "cell_type": "markdown",
   "metadata": {
    "deletable": false,
    "editable": false,
    "nbgrader": {
     "cell_type": "markdown",
     "checksum": "664d82bfee1ed582d96ae8dcfa8ca2b0",
     "grade": false,
     "grade_id": "cell-47972dc498748ac6",
     "locked": true,
     "schema_version": 3,
     "solution": false,
     "task": false
    }
   },
   "source": [
    "1.2. (2 points) Calculate pass rate using `final_result` by `disability`"
   ]
  },
  {
   "cell_type": "code",
   "execution_count": 4,
   "metadata": {
    "deletable": false,
    "nbgrader": {
     "cell_type": "code",
     "checksum": "15c738128d7ad3e9cf9e519eee17b688",
     "grade": true,
     "grade_id": "cell-b6fecd3ed65c5405",
     "locked": false,
     "points": 0,
     "schema_version": 3,
     "solution": true,
     "task": false
    }
   },
   "outputs": [
    {
     "data": {
      "text/plain": [
       "disability\n",
       "N    0.625683\n",
       "Y    0.641975\n",
       "Name: final_result, dtype: float64"
      ]
     },
     "execution_count": 4,
     "metadata": {},
     "output_type": "execute_result"
    }
   ],
   "source": [
    "## Your code with comments\n",
    "si.groupby(\"disability\")[\"final_result\"].agg(lambda s: (s==\"Pass\").mean())\n",
    "# YOUR CODE HERE\n",
    "#raise NotImplementedError()"
   ]
  },
  {
   "cell_type": "markdown",
   "metadata": {
    "deletable": false,
    "editable": false,
    "nbgrader": {
     "cell_type": "markdown",
     "checksum": "6e1c1dff473f0548fa73faaf5b6e3479",
     "grade": false,
     "grade_id": "cell-a0050444fe1d1d56",
     "locked": true,
     "schema_version": 3,
     "solution": false,
     "task": false
    }
   },
   "source": [
    "1.3. (2 points) Calculate pass rate using `final_result` by `highest_education`"
   ]
  },
  {
   "cell_type": "code",
   "execution_count": 5,
   "metadata": {
    "deletable": false,
    "nbgrader": {
     "cell_type": "code",
     "checksum": "4617ced759eddfc78dddbf4de6218ea6",
     "grade": true,
     "grade_id": "cell-c4cd576cc8de6307",
     "locked": false,
     "points": 0,
     "schema_version": 3,
     "solution": true,
     "task": false
    }
   },
   "outputs": [
    {
     "data": {
      "text/plain": [
       "highest_education\n",
       "High School                         0.479705\n",
       "High School + Advanced Placement    0.690608\n",
       "No Formal Quals                     0.666667\n",
       "Some Graduate                       0.916667\n",
       "Some Higher Education               0.709877\n",
       "Name: final_result, dtype: float64"
      ]
     },
     "execution_count": 5,
     "metadata": {},
     "output_type": "execute_result"
    }
   ],
   "source": [
    "## Your code with comments\n",
    "si.groupby(\"highest_education\")[\"final_result\"].agg(lambda s: (s==\"Pass\").mean())\n",
    "# YOUR CODE HERE\n",
    "#raise NotImplementedError()"
   ]
  },
  {
   "cell_type": "markdown",
   "metadata": {
    "deletable": false,
    "editable": false,
    "nbgrader": {
     "cell_type": "markdown",
     "checksum": "8c96888e3f3d6814e6bd73c578dbc849",
     "grade": false,
     "grade_id": "cell-42352e76a36ce07c",
     "locked": true,
     "schema_version": 3,
     "solution": false,
     "task": false
    }
   },
   "source": [
    "1.4. (2 points) Calculate pass rate using `final_result` by `gender`"
   ]
  },
  {
   "cell_type": "code",
   "execution_count": 6,
   "metadata": {
    "deletable": false,
    "nbgrader": {
     "cell_type": "code",
     "checksum": "93abbdd0629321520f6412ec86e3ff41",
     "grade": true,
     "grade_id": "cell-b9427c04ddc993cb",
     "locked": false,
     "points": 0,
     "schema_version": 3,
     "solution": true,
     "task": false
    }
   },
   "outputs": [
    {
     "data": {
      "text/plain": [
       "gender\n",
       "F    0.640379\n",
       "M    0.618952\n",
       "Name: final_result, dtype: float64"
      ]
     },
     "execution_count": 6,
     "metadata": {},
     "output_type": "execute_result"
    }
   ],
   "source": [
    "## Your cod\"e with comments\n",
    "si.groupby(\"gender\")[\"final_result\"].agg(lambda s: (s==\"Pass\").mean())\n",
    "# YOUR CODE HERE\n",
    "#raise NotImplementedError()"
   ]
  },
  {
   "cell_type": "markdown",
   "metadata": {
    "deletable": false,
    "editable": false,
    "nbgrader": {
     "cell_type": "markdown",
     "checksum": "eb49f4b321578206aae751285db7ee11",
     "grade": false,
     "grade_id": "cell-3e060b094c5f1f76",
     "locked": true,
     "schema_version": 3,
     "solution": false,
     "task": false
    }
   },
   "source": [
    "## Quizzes and tests"
   ]
  },
  {
   "cell_type": "markdown",
   "metadata": {
    "deletable": false,
    "editable": false,
    "nbgrader": {
     "cell_type": "markdown",
     "checksum": "6c8b6b7b413e7e6e1e41fbee771cba9a",
     "grade": false,
     "grade_id": "cell-b34061bfee7c51d1",
     "locked": true,
     "schema_version": 3,
     "solution": false,
     "task": false
    }
   },
   "source": [
    "For `quizzes_tests.csv`, we want to examine which assignments had high incompletes as well as the average scores for each assignment. To calculate incompletes, you will need to work with the `date_submitted` column. If a student did not submit an assignment, they will have an \"NaN\" under the `date_submitted`."
   ]
  },
  {
   "cell_type": "markdown",
   "metadata": {
    "deletable": false,
    "editable": false,
    "nbgrader": {
     "cell_type": "markdown",
     "checksum": "7086c8920b14c930452e419e0cc544c3",
     "grade": false,
     "grade_id": "cell-ba95bd43e6dac8e9",
     "locked": true,
     "schema_version": 3,
     "solution": false,
     "task": false
    }
   },
   "source": [
    "1.5. (2 points) Calculate **completion rate** for each `assignment_name`"
   ]
  },
  {
   "cell_type": "markdown",
   "metadata": {
    "deletable": false,
    "editable": false,
    "nbgrader": {
     "cell_type": "markdown",
     "checksum": "a8607a237e1f61b49685a2ccefde3bb0",
     "grade": false,
     "grade_id": "cell-e5ff9278aec1a0c8",
     "locked": true,
     "schema_version": 3,
     "solution": false,
     "task": false
    }
   },
   "source": [
    "The final table should be organized with 1 row per `assignment_name` and another column that calculates the percent of students who **submitted** the assignment."
   ]
  },
  {
   "cell_type": "code",
   "execution_count": 7,
   "metadata": {
    "deletable": false,
    "nbgrader": {
     "cell_type": "code",
     "checksum": "7792026b8bb6c8ab8d17ff93bdcc3f17",
     "grade": true,
     "grade_id": "cell-917b0dac067b0d0e",
     "locked": false,
     "points": 0,
     "schema_version": 3,
     "solution": true,
     "task": false
    }
   },
   "outputs": [
    {
     "data": {
      "text/plain": [
       "assignment_name\n",
       "Final Exam    0.740467\n",
       "Quiz 1        0.961870\n",
       "Quiz 2        0.911439\n",
       "Quiz 3        0.876999\n",
       "Quiz 4        0.836408\n",
       "Quiz 5        0.760148\n",
       "Quiz 6        0.683887\n",
       "Quiz 7        0.626076\n",
       "Test 1        0.969250\n",
       "Test 2        0.908979\n",
       "Test 3        0.865929\n",
       "Test 4        0.816728\n",
       "Test 5        0.725707\n",
       "Test 6        0.607626\n",
       "Name: date_submitted, dtype: float64"
      ]
     },
     "execution_count": 7,
     "metadata": {},
     "output_type": "execute_result"
    }
   ],
   "source": [
    "## Your code with comments\n",
    "qt.groupby(\"assignment_name\")[\"date_submitted\"].agg(lambda s: (~s.isna()).mean())\n",
    "# YOUR CODE HERE\n",
    "#raise NotImplementedError()"
   ]
  },
  {
   "cell_type": "markdown",
   "metadata": {
    "deletable": false,
    "editable": false,
    "nbgrader": {
     "cell_type": "markdown",
     "checksum": "39900bbba2124903d5c6f5abf09bf672",
     "grade": false,
     "grade_id": "cell-503425d98a29e8f5",
     "locked": true,
     "schema_version": 3,
     "solution": false,
     "task": false
    }
   },
   "source": [
    "Using a similar organization as the table above, i.e., 1 row per assignment, calculate the median, mean, and standard deviation for each assignment `score`. We will do this twice. Once for all students and another for **only students who submitted an assignment**. The `score` column is \"0\" for students who did not turn in an assignment, i.e., `date_submitted` equals \"NaN\". Thus, for the first table, you will include students with “NaN in `date_submitted`, and for the second table, you will remove students with \"NaN\" before calculating median, mean, and standard deviation."
   ]
  },
  {
   "cell_type": "markdown",
   "metadata": {
    "deletable": false,
    "editable": false,
    "nbgrader": {
     "cell_type": "markdown",
     "checksum": "5097738c5a56549f1f032c4aaae724a0",
     "grade": false,
     "grade_id": "cell-1175830f481a4618",
     "locked": true,
     "schema_version": 3,
     "solution": false,
     "task": false
    }
   },
   "source": [
    "1.6. (2 points) Identify the median, mean, and standard deviation for each `assignment_name` for all students"
   ]
  },
  {
   "cell_type": "code",
   "execution_count": 8,
   "metadata": {
    "deletable": false,
    "nbgrader": {
     "cell_type": "code",
     "checksum": "257eccd7f20dc1fa6093e0c64f164a26",
     "grade": true,
     "grade_id": "cell-9972fd368ad738ac",
     "locked": false,
     "points": 0,
     "schema_version": 3,
     "solution": true,
     "task": false
    }
   },
   "outputs": [
    {
     "data": {
      "text/html": [
       "<div>\n",
       "<style scoped>\n",
       "    .dataframe tbody tr th:only-of-type {\n",
       "        vertical-align: middle;\n",
       "    }\n",
       "\n",
       "    .dataframe tbody tr th {\n",
       "        vertical-align: top;\n",
       "    }\n",
       "\n",
       "    .dataframe thead th {\n",
       "        text-align: right;\n",
       "    }\n",
       "</style>\n",
       "<table border=\"1\" class=\"dataframe\">\n",
       "  <thead>\n",
       "    <tr style=\"text-align: right;\">\n",
       "      <th></th>\n",
       "      <th>median</th>\n",
       "      <th>mean</th>\n",
       "      <th>std</th>\n",
       "    </tr>\n",
       "    <tr>\n",
       "      <th>assignment_name</th>\n",
       "      <th></th>\n",
       "      <th></th>\n",
       "      <th></th>\n",
       "    </tr>\n",
       "  </thead>\n",
       "  <tbody>\n",
       "    <tr>\n",
       "      <th>Final Exam</th>\n",
       "      <td>47.0</td>\n",
       "      <td>41.728167</td>\n",
       "      <td>28.804439</td>\n",
       "    </tr>\n",
       "    <tr>\n",
       "      <th>Quiz 1</th>\n",
       "      <td>70.0</td>\n",
       "      <td>66.568266</td>\n",
       "      <td>22.864709</td>\n",
       "    </tr>\n",
       "    <tr>\n",
       "      <th>Quiz 2</th>\n",
       "      <td>83.0</td>\n",
       "      <td>75.221402</td>\n",
       "      <td>27.877683</td>\n",
       "    </tr>\n",
       "    <tr>\n",
       "      <th>Quiz 3</th>\n",
       "      <td>72.0</td>\n",
       "      <td>63.538745</td>\n",
       "      <td>30.384604</td>\n",
       "    </tr>\n",
       "    <tr>\n",
       "      <th>Quiz 4</th>\n",
       "      <td>72.0</td>\n",
       "      <td>61.413284</td>\n",
       "      <td>32.361511</td>\n",
       "    </tr>\n",
       "    <tr>\n",
       "      <th>Quiz 5</th>\n",
       "      <td>74.0</td>\n",
       "      <td>57.749077</td>\n",
       "      <td>36.359907</td>\n",
       "    </tr>\n",
       "    <tr>\n",
       "      <th>Quiz 6</th>\n",
       "      <td>61.0</td>\n",
       "      <td>48.212792</td>\n",
       "      <td>36.633355</td>\n",
       "    </tr>\n",
       "    <tr>\n",
       "      <th>Quiz 7</th>\n",
       "      <td>45.0</td>\n",
       "      <td>40.097171</td>\n",
       "      <td>35.397415</td>\n",
       "    </tr>\n",
       "    <tr>\n",
       "      <th>Test 1</th>\n",
       "      <td>76.0</td>\n",
       "      <td>71.084871</td>\n",
       "      <td>20.015546</td>\n",
       "    </tr>\n",
       "    <tr>\n",
       "      <th>Test 2</th>\n",
       "      <td>75.0</td>\n",
       "      <td>66.991390</td>\n",
       "      <td>26.689211</td>\n",
       "    </tr>\n",
       "    <tr>\n",
       "      <th>Test 3</th>\n",
       "      <td>80.0</td>\n",
       "      <td>67.551046</td>\n",
       "      <td>31.507469</td>\n",
       "    </tr>\n",
       "    <tr>\n",
       "      <th>Test 4</th>\n",
       "      <td>67.0</td>\n",
       "      <td>56.227552</td>\n",
       "      <td>33.238482</td>\n",
       "    </tr>\n",
       "    <tr>\n",
       "      <th>Test 5</th>\n",
       "      <td>58.0</td>\n",
       "      <td>47.734317</td>\n",
       "      <td>34.166295</td>\n",
       "    </tr>\n",
       "    <tr>\n",
       "      <th>Test 6</th>\n",
       "      <td>35.0</td>\n",
       "      <td>36.351784</td>\n",
       "      <td>34.210328</td>\n",
       "    </tr>\n",
       "  </tbody>\n",
       "</table>\n",
       "</div>"
      ],
      "text/plain": [
       "                 median       mean        std\n",
       "assignment_name                              \n",
       "Final Exam         47.0  41.728167  28.804439\n",
       "Quiz 1             70.0  66.568266  22.864709\n",
       "Quiz 2             83.0  75.221402  27.877683\n",
       "Quiz 3             72.0  63.538745  30.384604\n",
       "Quiz 4             72.0  61.413284  32.361511\n",
       "Quiz 5             74.0  57.749077  36.359907\n",
       "Quiz 6             61.0  48.212792  36.633355\n",
       "Quiz 7             45.0  40.097171  35.397415\n",
       "Test 1             76.0  71.084871  20.015546\n",
       "Test 2             75.0  66.991390  26.689211\n",
       "Test 3             80.0  67.551046  31.507469\n",
       "Test 4             67.0  56.227552  33.238482\n",
       "Test 5             58.0  47.734317  34.166295\n",
       "Test 6             35.0  36.351784  34.210328"
      ]
     },
     "execution_count": 8,
     "metadata": {},
     "output_type": "execute_result"
    }
   ],
   "source": [
    "## Your code with comments\n",
    "qt.groupby(\"assignment_name\")[\"score\"].agg([\"median\", \"mean\", \"std\"])\n",
    "# YOUR CODE HERE\n",
    "#raise NotImplementedError()"
   ]
  },
  {
   "cell_type": "markdown",
   "metadata": {
    "deletable": false,
    "editable": false,
    "nbgrader": {
     "cell_type": "markdown",
     "checksum": "265c51fce137efe53df90c54103c6d33",
     "grade": false,
     "grade_id": "cell-e97a943c954141c8",
     "locked": true,
     "schema_version": 3,
     "solution": false,
     "task": false
    }
   },
   "source": [
    "1.7. (2 points) Identify the median, mean, and standard deviation for each `assignment_name` for **only submitted** assignments"
   ]
  },
  {
   "cell_type": "code",
   "execution_count": 9,
   "metadata": {
    "deletable": false,
    "nbgrader": {
     "cell_type": "code",
     "checksum": "add54e852b00fc4cb7935a4f9605492a",
     "grade": true,
     "grade_id": "cell-7e3c6827eee08b7b",
     "locked": false,
     "points": 0,
     "schema_version": 3,
     "solution": true,
     "task": false
    }
   },
   "outputs": [
    {
     "data": {
      "text/html": [
       "<div>\n",
       "<style scoped>\n",
       "    .dataframe tbody tr th:only-of-type {\n",
       "        vertical-align: middle;\n",
       "    }\n",
       "\n",
       "    .dataframe tbody tr th {\n",
       "        vertical-align: top;\n",
       "    }\n",
       "\n",
       "    .dataframe thead th {\n",
       "        text-align: right;\n",
       "    }\n",
       "</style>\n",
       "<table border=\"1\" class=\"dataframe\">\n",
       "  <thead>\n",
       "    <tr style=\"text-align: right;\">\n",
       "      <th></th>\n",
       "      <th>median</th>\n",
       "      <th>mean</th>\n",
       "      <th>std</th>\n",
       "    </tr>\n",
       "    <tr>\n",
       "      <th>assignment_name</th>\n",
       "      <th></th>\n",
       "      <th></th>\n",
       "      <th></th>\n",
       "    </tr>\n",
       "  </thead>\n",
       "  <tbody>\n",
       "    <tr>\n",
       "      <th>Final Exam</th>\n",
       "      <td>56.0</td>\n",
       "      <td>56.353821</td>\n",
       "      <td>17.187313</td>\n",
       "    </tr>\n",
       "    <tr>\n",
       "      <th>Quiz 1</th>\n",
       "      <td>70.0</td>\n",
       "      <td>69.207161</td>\n",
       "      <td>18.991623</td>\n",
       "    </tr>\n",
       "    <tr>\n",
       "      <th>Quiz 2</th>\n",
       "      <td>86.0</td>\n",
       "      <td>82.530364</td>\n",
       "      <td>15.771963</td>\n",
       "    </tr>\n",
       "    <tr>\n",
       "      <th>Quiz 3</th>\n",
       "      <td>75.0</td>\n",
       "      <td>72.450210</td>\n",
       "      <td>20.158030</td>\n",
       "    </tr>\n",
       "    <tr>\n",
       "      <th>Quiz 4</th>\n",
       "      <td>78.0</td>\n",
       "      <td>73.425000</td>\n",
       "      <td>19.213097</td>\n",
       "    </tr>\n",
       "    <tr>\n",
       "      <th>Quiz 5</th>\n",
       "      <td>81.0</td>\n",
       "      <td>75.970874</td>\n",
       "      <td>18.796249</td>\n",
       "    </tr>\n",
       "    <tr>\n",
       "      <th>Quiz 6</th>\n",
       "      <td>73.5</td>\n",
       "      <td>70.498201</td>\n",
       "      <td>19.736325</td>\n",
       "    </tr>\n",
       "    <tr>\n",
       "      <th>Quiz 7</th>\n",
       "      <td>68.0</td>\n",
       "      <td>64.045187</td>\n",
       "      <td>21.587396</td>\n",
       "    </tr>\n",
       "    <tr>\n",
       "      <th>Test 1</th>\n",
       "      <td>77.0</td>\n",
       "      <td>73.340102</td>\n",
       "      <td>15.739737</td>\n",
       "    </tr>\n",
       "    <tr>\n",
       "      <th>Test 2</th>\n",
       "      <td>77.0</td>\n",
       "      <td>73.699594</td>\n",
       "      <td>16.990485</td>\n",
       "    </tr>\n",
       "    <tr>\n",
       "      <th>Test 3</th>\n",
       "      <td>84.0</td>\n",
       "      <td>78.009943</td>\n",
       "      <td>18.154424</td>\n",
       "    </tr>\n",
       "    <tr>\n",
       "      <th>Test 4</th>\n",
       "      <td>74.0</td>\n",
       "      <td>68.844880</td>\n",
       "      <td>21.980350</td>\n",
       "    </tr>\n",
       "    <tr>\n",
       "      <th>Test 5</th>\n",
       "      <td>69.0</td>\n",
       "      <td>65.776271</td>\n",
       "      <td>20.507337</td>\n",
       "    </tr>\n",
       "    <tr>\n",
       "      <th>Test 6</th>\n",
       "      <td>65.0</td>\n",
       "      <td>59.825911</td>\n",
       "      <td>22.812714</td>\n",
       "    </tr>\n",
       "  </tbody>\n",
       "</table>\n",
       "</div>"
      ],
      "text/plain": [
       "                 median       mean        std\n",
       "assignment_name                              \n",
       "Final Exam         56.0  56.353821  17.187313\n",
       "Quiz 1             70.0  69.207161  18.991623\n",
       "Quiz 2             86.0  82.530364  15.771963\n",
       "Quiz 3             75.0  72.450210  20.158030\n",
       "Quiz 4             78.0  73.425000  19.213097\n",
       "Quiz 5             81.0  75.970874  18.796249\n",
       "Quiz 6             73.5  70.498201  19.736325\n",
       "Quiz 7             68.0  64.045187  21.587396\n",
       "Test 1             77.0  73.340102  15.739737\n",
       "Test 2             77.0  73.699594  16.990485\n",
       "Test 3             84.0  78.009943  18.154424\n",
       "Test 4             74.0  68.844880  21.980350\n",
       "Test 5             69.0  65.776271  20.507337\n",
       "Test 6             65.0  59.825911  22.812714"
      ]
     },
     "execution_count": 9,
     "metadata": {},
     "output_type": "execute_result"
    }
   ],
   "source": [
    "## Your code with comments\n",
    "qt.dropna(subset=[\"date_submitted\"]).groupby(\"assignment_name\")[\"score\"].agg([\"median\", \"mean\", \"std\"])\n",
    "# YOUR CODE HERE\n",
    "#raise NotImplementedError()"
   ]
  },
  {
   "cell_type": "markdown",
   "metadata": {
    "deletable": false,
    "editable": false,
    "id": "AQVZ6EMcaf4n",
    "nbgrader": {
     "cell_type": "markdown",
     "checksum": "8dcad812433deff43428b25c2166f944",
     "grade": false,
     "grade_id": "cell-6b974e7669ec6793",
     "locked": true,
     "schema_version": 3,
     "solution": false,
     "task": false
    }
   },
   "source": [
    "## Learning resources"
   ]
  },
  {
   "cell_type": "markdown",
   "metadata": {
    "deletable": false,
    "editable": false,
    "nbgrader": {
     "cell_type": "markdown",
     "checksum": "e3f45c68bef3b2fe12478ef7764aa892",
     "grade": false,
     "grade_id": "cell-a4cb062e1620787c",
     "locked": true,
     "schema_version": 3,
     "solution": false,
     "task": false
    }
   },
   "source": [
    "The `learning_resources.csv` file is the largest yet perhaps most equivocal dataset that we will work with. For these first manipulations, we will look at the top 10 most accessed resources and then students' total activity by `date`."
   ]
  },
  {
   "cell_type": "markdown",
   "metadata": {
    "deletable": false,
    "editable": false,
    "nbgrader": {
     "cell_type": "markdown",
     "checksum": "c5fc8f6f61b6fbff7c029e875ddef229",
     "grade": false,
     "grade_id": "cell-6a6a0b7b1059420d",
     "locked": true,
     "schema_version": 3,
     "solution": false,
     "task": false
    }
   },
   "source": [
    "To generate the top 10 list, we will use `groupby` across the entire dataset by `activity_type` and `activity_id`. The reason we need to use both columns in our `groupby` is that `activity_id` names the specific learning resource within an `activity_type`. For top 10 most accessed list, we will sum the `sum_click` column."
   ]
  },
  {
   "cell_type": "markdown",
   "metadata": {
    "deletable": false,
    "editable": false,
    "nbgrader": {
     "cell_type": "markdown",
     "checksum": "7506b7bb6140168e8862e38a6fbdfce3",
     "grade": false,
     "grade_id": "cell-89889b58f1777d90",
     "locked": true,
     "schema_version": 3,
     "solution": false,
     "task": false
    }
   },
   "source": [
    "1.8. (2 points) Identify the top 10 most accessed learning resources by summing `sum_clicks`, grouped by `activity_type` and `activity_id`"
   ]
  },
  {
   "cell_type": "code",
   "execution_count": 10,
   "metadata": {
    "deletable": false,
    "nbgrader": {
     "cell_type": "code",
     "checksum": "46ba8766e6e2e468dd8a9710ad3b48f9",
     "grade": true,
     "grade_id": "cell-0cdd24148acefb12",
     "locked": false,
     "points": 0,
     "schema_version": 3,
     "solution": true,
     "task": false
    }
   },
   "outputs": [
    {
     "data": {
      "text/plain": [
       "activity_type    activity_id\n",
       "course_homepage  1              328573\n",
       "forum            4              211088\n",
       "wiki             7               45076\n",
       "course_page      5               30820\n",
       "wiki             6               27679\n",
       "forum            7               25740\n",
       "course_page      103             25285\n",
       "                 2               23695\n",
       "                 6               22991\n",
       "                 7               22297\n",
       "Name: sum_click, dtype: int64"
      ]
     },
     "execution_count": 10,
     "metadata": {},
     "output_type": "execute_result"
    }
   ],
   "source": [
    "## Your code with comments\n",
    "lr.groupby([\"activity_type\", \"activity_id\"])[\"sum_click\"].sum().sort_values(ascending=False).head(10)\n",
    "# YOUR CODE HERE\n",
    "#raise NotImplementedError()"
   ]
  },
  {
   "cell_type": "markdown",
   "metadata": {
    "deletable": false,
    "editable": false,
    "nbgrader": {
     "cell_type": "markdown",
     "checksum": "8961dc96e0efb16423ae8bff917464fd",
     "grade": false,
     "grade_id": "cell-3add057f4580b2ba",
     "locked": true,
     "schema_version": 3,
     "solution": false,
     "task": false
    }
   },
   "source": [
    "Next, we want to see how many students are active each day. Using `learning_resources` create a data frame that represents the number of unique students who accessed any resource for each date and visualize it at as a line plot."
   ]
  },
  {
   "cell_type": "markdown",
   "metadata": {
    "deletable": false,
    "editable": false,
    "nbgrader": {
     "cell_type": "markdown",
     "checksum": "0239f6bd577d919c4ea5668cabfc35ff",
     "grade": false,
     "grade_id": "cell-39c246bd64c6e4ac",
     "locked": true,
     "schema_version": 3,
     "solution": false,
     "task": false
    }
   },
   "source": [
    "1.9. (2 points) Create a data frame that represents the **number of unique students** who accessed any resource for each date"
   ]
  },
  {
   "cell_type": "code",
   "execution_count": 12,
   "metadata": {
    "deletable": false,
    "nbgrader": {
     "cell_type": "code",
     "checksum": "5652e9510e2653f1e187009deb8ad05c",
     "grade": true,
     "grade_id": "cell-258466801528a439",
     "locked": false,
     "points": 0,
     "schema_version": 3,
     "solution": true,
     "task": false
    }
   },
   "outputs": [
    {
     "data": {
      "text/html": [
       "<div>\n",
       "<style scoped>\n",
       "    .dataframe tbody tr th:only-of-type {\n",
       "        vertical-align: middle;\n",
       "    }\n",
       "\n",
       "    .dataframe tbody tr th {\n",
       "        vertical-align: top;\n",
       "    }\n",
       "\n",
       "    .dataframe thead th {\n",
       "        text-align: right;\n",
       "    }\n",
       "</style>\n",
       "<table border=\"1\" class=\"dataframe\">\n",
       "  <thead>\n",
       "    <tr style=\"text-align: right;\">\n",
       "      <th></th>\n",
       "      <th>date</th>\n",
       "      <th>id_student</th>\n",
       "    </tr>\n",
       "  </thead>\n",
       "  <tbody>\n",
       "    <tr>\n",
       "      <th>0</th>\n",
       "      <td>0</td>\n",
       "      <td>752</td>\n",
       "    </tr>\n",
       "    <tr>\n",
       "      <th>1</th>\n",
       "      <td>1</td>\n",
       "      <td>360</td>\n",
       "    </tr>\n",
       "    <tr>\n",
       "      <th>2</th>\n",
       "      <td>2</td>\n",
       "      <td>434</td>\n",
       "    </tr>\n",
       "    <tr>\n",
       "      <th>3</th>\n",
       "      <td>3</td>\n",
       "      <td>445</td>\n",
       "    </tr>\n",
       "    <tr>\n",
       "      <th>4</th>\n",
       "      <td>4</td>\n",
       "      <td>394</td>\n",
       "    </tr>\n",
       "    <tr>\n",
       "      <th>...</th>\n",
       "      <td>...</td>\n",
       "      <td>...</td>\n",
       "    </tr>\n",
       "    <tr>\n",
       "      <th>236</th>\n",
       "      <td>236</td>\n",
       "      <td>129</td>\n",
       "    </tr>\n",
       "    <tr>\n",
       "      <th>237</th>\n",
       "      <td>237</td>\n",
       "      <td>93</td>\n",
       "    </tr>\n",
       "    <tr>\n",
       "      <th>238</th>\n",
       "      <td>238</td>\n",
       "      <td>60</td>\n",
       "    </tr>\n",
       "    <tr>\n",
       "      <th>239</th>\n",
       "      <td>239</td>\n",
       "      <td>80</td>\n",
       "    </tr>\n",
       "    <tr>\n",
       "      <th>240</th>\n",
       "      <td>240</td>\n",
       "      <td>109</td>\n",
       "    </tr>\n",
       "  </tbody>\n",
       "</table>\n",
       "<p>241 rows × 2 columns</p>\n",
       "</div>"
      ],
      "text/plain": [
       "     date  id_student\n",
       "0       0         752\n",
       "1       1         360\n",
       "2       2         434\n",
       "3       3         445\n",
       "4       4         394\n",
       "..    ...         ...\n",
       "236   236         129\n",
       "237   237          93\n",
       "238   238          60\n",
       "239   239          80\n",
       "240   240         109\n",
       "\n",
       "[241 rows x 2 columns]"
      ]
     },
     "execution_count": 12,
     "metadata": {},
     "output_type": "execute_result"
    }
   ],
   "source": [
    "## Your code with comments\n",
    "lr.groupby(\"date\", as_index=False)[\"id_student\"].nunique()\n",
    "# YOUR CODE HERE\n",
    "#raise NotImplementedError()"
   ]
  },
  {
   "cell_type": "markdown",
   "metadata": {
    "deletable": false,
    "editable": false,
    "nbgrader": {
     "cell_type": "markdown",
     "checksum": "5ab7c2c09e1f148ac3232798726ac849",
     "grade": false,
     "grade_id": "cell-5e1368a3882bcb35",
     "locked": true,
     "schema_version": 3,
     "solution": false,
     "task": false
    }
   },
   "source": [
    "1.10. (2 points) Visualize the data frame from 1.9 as a line plot"
   ]
  },
  {
   "cell_type": "code",
   "execution_count": 13,
   "metadata": {
    "deletable": false,
    "nbgrader": {
     "cell_type": "code",
     "checksum": "99bcaf3d402cf01ba3a41697d2feaf8d",
     "grade": true,
     "grade_id": "cell-a18265568bd11dff",
     "locked": false,
     "points": 0,
     "schema_version": 3,
     "solution": true,
     "task": false
    }
   },
   "outputs": [
    {
     "data": {
      "text/plain": [
       "<AxesSubplot:xlabel='date'>"
      ]
     },
     "execution_count": 13,
     "metadata": {},
     "output_type": "execute_result"
    },
    {
     "data": {
      "image/png": "[encoded data removed]",
      "text/plain": [
       "<Figure size 432x288 with 1 Axes>"
      ]
     },
     "metadata": {
      "needs_background": "light"
     },
     "output_type": "display_data"
    }
   ],
   "source": [
    "## Your code with comments\n",
    "lr.groupby(\"date\", as_index=False)[\"id_student\"].nunique().plot(x=\"date\", y=\"id_student\")\n",
    "# YOUR CODE HERE\n",
    "#raise NotImplementedError()"
   ]
  },
  {
   "cell_type": "markdown",
   "metadata": {
    "deletable": false,
    "editable": false,
    "nbgrader": {
     "cell_type": "markdown",
     "checksum": "6af916751638b42a2fda5f0dfedf47e2",
     "grade": false,
     "grade_id": "cell-505caf08ff16ecab",
     "locked": true,
     "schema_version": 3,
     "solution": false,
     "task": false
    }
   },
   "source": [
    "# 2. Joins (20 points)"
   ]
  },
  {
   "cell_type": "markdown",
   "metadata": {
    "deletable": false,
    "editable": false,
    "nbgrader": {
     "cell_type": "markdown",
     "checksum": "cd9c7a4cc4c4649b54232b22c9006134",
     "grade": false,
     "grade_id": "cell-cb6dc0ce2e8af062",
     "locked": true,
     "schema_version": 3,
     "solution": false,
     "task": false
    }
   },
   "source": [
    "After examining each file and carrying out a few manipulations, you should have a good idea of what is represented in each dataset. Now, you will join these files together.\n",
    "\n",
    "In joining files together, you will largely leave `student_info.csv` as is. `quizzes_tests.csv` and `learning_resources.csv`, however, are long-form, which means that you will need to be strategic in combining `student_info.csv`, which is wide-form."
   ]
  },
  {
   "cell_type": "markdown",
   "metadata": {
    "deletable": false,
    "editable": false,
    "nbgrader": {
     "cell_type": "markdown",
     "checksum": "65b140285aedc446111ecb8e8ff7abd1",
     "grade": false,
     "grade_id": "cell-c2557c1c78161517",
     "locked": true,
     "schema_version": 3,
     "solution": false,
     "task": false
    }
   },
   "source": [
    "## Grading\n",
    "\n",
    "2.1. (2 points) Filter `quizzes_tests.csv` to include only “Quiz 1”, “Quiz 2”, “Test 1”, and “Test 2”\n",
    "\n",
    "2.2. (2 points) Join data frame from 2.1 onto `student_info.csv` by `id_student`\n",
    "\n",
    "2.3. (5 points) Create a grouped box plot with weighted score (`weight` * `score`/100) on the y-axis and \"Quiz 1”, “Quiz 2”, “Test 1”, and “Test 2” on the x-axis; use `final_result` to color each box plot, one for \"fail\" and one for \"pass\"\n",
    "\n",
    "2.4. (2 points) Filter `learning_resources.csv` to include only \"Resource\" `activity_type`\n",
    "\n",
    "2.5. (2 points) Sum `sum_clicks` by `activity_type` per student \n",
    "\n",
    "2.6. (2 points) Join data frame from 2.5 onto `student_info.csv` by `id_student`\n",
    "\n",
    "2.7. (5 points) Using data frame from 2.6, create a box plot with `sum_clicks` on the y-axis and `activity_type` (i.e., “course_homepage”, “course_page”, “forum”, \"resource”, and “wiki”) on the x-axis; use `final_result` to color each box plot, one for \"fail\" and one for \"pass\""
   ]
  },
  {
   "cell_type": "markdown",
   "metadata": {
    "deletable": false,
    "editable": false,
    "nbgrader": {
     "cell_type": "markdown",
     "checksum": "1ea635c513dfb130800fd4d0b48b3e3c",
     "grade": false,
     "grade_id": "cell-b35ad35257b1cc8f",
     "locked": true,
     "schema_version": 3,
     "solution": false,
     "task": false
    }
   },
   "source": [
    "For `quizzes_tests.csv`, we are going to select \"Quiz 1\" and \"Quiz 2\" and \"Test 1\" and \"Test 2\" for each student. Then, we are going to join on `student_info`."
   ]
  },
  {
   "cell_type": "markdown",
   "metadata": {
    "deletable": false,
    "editable": false,
    "nbgrader": {
     "cell_type": "markdown",
     "checksum": "9cf5c9b39f0ed829b56e980fbfc3c1e8",
     "grade": false,
     "grade_id": "cell-e11ba77102e89ff5",
     "locked": true,
     "schema_version": 3,
     "solution": false,
     "task": false
    }
   },
   "source": [
    "2.1. (2 points) Filter `quizzes_tests.csv` to include only “Quiz 1”, “Quiz 2”, “Test 1”, and “Test 2”"
   ]
  },
  {
   "cell_type": "code",
   "execution_count": 14,
   "metadata": {
    "deletable": false,
    "nbgrader": {
     "cell_type": "code",
     "checksum": "15de6df85fece0dda776885906b1a23f",
     "grade": true,
     "grade_id": "cell-4dff34db60721a67",
     "locked": false,
     "points": 0,
     "schema_version": 3,
     "solution": true,
     "task": false
    }
   },
   "outputs": [
    {
     "data": {
      "text/html": [
       "<div>\n",
       "<style scoped>\n",
       "    .dataframe tbody tr th:only-of-type {\n",
       "        vertical-align: middle;\n",
       "    }\n",
       "\n",
       "    .dataframe tbody tr th {\n",
       "        vertical-align: top;\n",
       "    }\n",
       "\n",
       "    .dataframe thead th {\n",
       "        text-align: right;\n",
       "    }\n",
       "</style>\n",
       "<table border=\"1\" class=\"dataframe\">\n",
       "  <thead>\n",
       "    <tr style=\"text-align: right;\">\n",
       "      <th></th>\n",
       "      <th>id_student</th>\n",
       "      <th>assignment_name</th>\n",
       "      <th>due_date</th>\n",
       "      <th>weight</th>\n",
       "      <th>date_submitted</th>\n",
       "      <th>score</th>\n",
       "    </tr>\n",
       "  </thead>\n",
       "  <tbody>\n",
       "    <tr>\n",
       "      <th>0</th>\n",
       "      <td>41060</td>\n",
       "      <td>Quiz 1</td>\n",
       "      <td>23</td>\n",
       "      <td>2.0</td>\n",
       "      <td>25.0</td>\n",
       "      <td>77</td>\n",
       "    </tr>\n",
       "    <tr>\n",
       "      <th>1</th>\n",
       "      <td>41060</td>\n",
       "      <td>Test 1</td>\n",
       "      <td>25</td>\n",
       "      <td>7.5</td>\n",
       "      <td>24.0</td>\n",
       "      <td>85</td>\n",
       "    </tr>\n",
       "    <tr>\n",
       "      <th>2</th>\n",
       "      <td>41060</td>\n",
       "      <td>Quiz 2</td>\n",
       "      <td>51</td>\n",
       "      <td>3.0</td>\n",
       "      <td>54.0</td>\n",
       "      <td>94</td>\n",
       "    </tr>\n",
       "    <tr>\n",
       "      <th>14</th>\n",
       "      <td>45664</td>\n",
       "      <td>Quiz 1</td>\n",
       "      <td>23</td>\n",
       "      <td>2.0</td>\n",
       "      <td>25.0</td>\n",
       "      <td>47</td>\n",
       "    </tr>\n",
       "    <tr>\n",
       "      <th>15</th>\n",
       "      <td>45664</td>\n",
       "      <td>Test 1</td>\n",
       "      <td>25</td>\n",
       "      <td>7.5</td>\n",
       "      <td>25.0</td>\n",
       "      <td>66</td>\n",
       "    </tr>\n",
       "  </tbody>\n",
       "</table>\n",
       "</div>"
      ],
      "text/plain": [
       "    id_student assignment_name  due_date  weight  date_submitted  score\n",
       "0        41060          Quiz 1        23     2.0            25.0     77\n",
       "1        41060          Test 1        25     7.5            24.0     85\n",
       "2        41060          Quiz 2        51     3.0            54.0     94\n",
       "14       45664          Quiz 1        23     2.0            25.0     47\n",
       "15       45664          Test 1        25     7.5            25.0     66"
      ]
     },
     "execution_count": 14,
     "metadata": {},
     "output_type": "execute_result"
    }
   ],
   "source": [
    "## Your code with comments\n",
    "qt_filter=qt[qt[\"assignment_name\"].isin([\"Quiz 1\", \"Quiz 2\", \"Test 1\", \" Test 2\"])]\n",
    "qt_filter.head()\n",
    "# YOUR CODE HERE\n",
    "#raise NotImplementedError()"
   ]
  },
  {
   "cell_type": "markdown",
   "metadata": {
    "deletable": false,
    "editable": false,
    "nbgrader": {
     "cell_type": "markdown",
     "checksum": "2857fc4e1d38341bba845b2f16f55d28",
     "grade": false,
     "grade_id": "cell-8a3a63fa709ca9f1",
     "locked": true,
     "schema_version": 3,
     "solution": false,
     "task": false
    }
   },
   "source": [
    "2.2. (2 points) Join data frame from 2.1 onto `student_info.csv` by `id_student`"
   ]
  },
  {
   "cell_type": "code",
   "execution_count": 15,
   "metadata": {
    "deletable": false,
    "nbgrader": {
     "cell_type": "code",
     "checksum": "f887475e415e120ef1a8a7a290116219",
     "grade": true,
     "grade_id": "cell-e23fa77833c25f31",
     "locked": false,
     "points": 0,
     "schema_version": 3,
     "solution": true,
     "task": false
    }
   },
   "outputs": [
    {
     "data": {
      "text/html": [
       "<div>\n",
       "<style scoped>\n",
       "    .dataframe tbody tr th:only-of-type {\n",
       "        vertical-align: middle;\n",
       "    }\n",
       "\n",
       "    .dataframe tbody tr th {\n",
       "        vertical-align: top;\n",
       "    }\n",
       "\n",
       "    .dataframe thead th {\n",
       "        text-align: right;\n",
       "    }\n",
       "</style>\n",
       "<table border=\"1\" class=\"dataframe\">\n",
       "  <thead>\n",
       "    <tr style=\"text-align: right;\">\n",
       "      <th></th>\n",
       "      <th>id_student</th>\n",
       "      <th>gender</th>\n",
       "      <th>highest_education</th>\n",
       "      <th>disability</th>\n",
       "      <th>final_result</th>\n",
       "      <th>assignment_name</th>\n",
       "      <th>due_date</th>\n",
       "      <th>weight</th>\n",
       "      <th>date_submitted</th>\n",
       "      <th>score</th>\n",
       "    </tr>\n",
       "  </thead>\n",
       "  <tbody>\n",
       "    <tr>\n",
       "      <th>0</th>\n",
       "      <td>41060</td>\n",
       "      <td>M</td>\n",
       "      <td>Some Higher Education</td>\n",
       "      <td>N</td>\n",
       "      <td>Fail</td>\n",
       "      <td>Quiz 1</td>\n",
       "      <td>23</td>\n",
       "      <td>2.0</td>\n",
       "      <td>25.0</td>\n",
       "      <td>77</td>\n",
       "    </tr>\n",
       "    <tr>\n",
       "      <th>1</th>\n",
       "      <td>41060</td>\n",
       "      <td>M</td>\n",
       "      <td>Some Higher Education</td>\n",
       "      <td>N</td>\n",
       "      <td>Fail</td>\n",
       "      <td>Test 1</td>\n",
       "      <td>25</td>\n",
       "      <td>7.5</td>\n",
       "      <td>24.0</td>\n",
       "      <td>85</td>\n",
       "    </tr>\n",
       "    <tr>\n",
       "      <th>2</th>\n",
       "      <td>41060</td>\n",
       "      <td>M</td>\n",
       "      <td>Some Higher Education</td>\n",
       "      <td>N</td>\n",
       "      <td>Fail</td>\n",
       "      <td>Quiz 2</td>\n",
       "      <td>51</td>\n",
       "      <td>3.0</td>\n",
       "      <td>54.0</td>\n",
       "      <td>94</td>\n",
       "    </tr>\n",
       "    <tr>\n",
       "      <th>3</th>\n",
       "      <td>45664</td>\n",
       "      <td>M</td>\n",
       "      <td>Some Higher Education</td>\n",
       "      <td>N</td>\n",
       "      <td>Pass</td>\n",
       "      <td>Quiz 1</td>\n",
       "      <td>23</td>\n",
       "      <td>2.0</td>\n",
       "      <td>25.0</td>\n",
       "      <td>47</td>\n",
       "    </tr>\n",
       "    <tr>\n",
       "      <th>4</th>\n",
       "      <td>45664</td>\n",
       "      <td>M</td>\n",
       "      <td>Some Higher Education</td>\n",
       "      <td>N</td>\n",
       "      <td>Pass</td>\n",
       "      <td>Test 1</td>\n",
       "      <td>25</td>\n",
       "      <td>7.5</td>\n",
       "      <td>25.0</td>\n",
       "      <td>66</td>\n",
       "    </tr>\n",
       "  </tbody>\n",
       "</table>\n",
       "</div>"
      ],
      "text/plain": [
       "   id_student gender      highest_education disability final_result  \\\n",
       "0       41060      M  Some Higher Education          N         Fail   \n",
       "1       41060      M  Some Higher Education          N         Fail   \n",
       "2       41060      M  Some Higher Education          N         Fail   \n",
       "3       45664      M  Some Higher Education          N         Pass   \n",
       "4       45664      M  Some Higher Education          N         Pass   \n",
       "\n",
       "  assignment_name  due_date  weight  date_submitted  score  \n",
       "0          Quiz 1        23     2.0            25.0     77  \n",
       "1          Test 1        25     7.5            24.0     85  \n",
       "2          Quiz 2        51     3.0            54.0     94  \n",
       "3          Quiz 1        23     2.0            25.0     47  \n",
       "4          Test 1        25     7.5            25.0     66  "
      ]
     },
     "execution_count": 15,
     "metadata": {},
     "output_type": "execute_result"
    }
   ],
   "source": [
    "## Your code with comments\n",
    "si_merge=si.merge(qt_filter, on=\"id_student\")\n",
    "si_merge.head()\n",
    "# YOUR CODE HERE\n",
    "#raise NotImplementedError()"
   ]
  },
  {
   "cell_type": "markdown",
   "metadata": {
    "deletable": false,
    "editable": false,
    "nbgrader": {
     "cell_type": "markdown",
     "checksum": "7a352ebe376b841f860031514cc1c0b6",
     "grade": false,
     "grade_id": "cell-8f8482536df2dbc2",
     "locked": true,
     "schema_version": 3,
     "solution": false,
     "task": false
    }
   },
   "source": [
    "2.3. (5 points) Create a grouped box plot with weighted score (`weight` * `score`/100) on the y-axis and \"Quiz 1”, “Quiz 2”, “Test 1”, and “Test 2” on the x-axis; use `final_result` to color each box plot, one for \"fail\" and one for \"pass\""
   ]
  },
  {
   "cell_type": "code",
   "execution_count": 16,
   "metadata": {},
   "outputs": [],
   "source": [
    "import matplotlib.pyplot as plt\n",
    "import seaborn as sns"
   ]
  },
  {
   "cell_type": "code",
   "execution_count": 17,
   "metadata": {
    "deletable": false,
    "nbgrader": {
     "cell_type": "code",
     "checksum": "01ebee897886f5d0cfb57f25ed479bf2",
     "grade": true,
     "grade_id": "cell-47a1fb469a119ed0",
     "locked": false,
     "points": 0,
     "schema_version": 3,
     "solution": true,
     "task": false
    }
   },
   "outputs": [
    {
     "data": {
      "text/plain": [
       "<AxesSubplot:xlabel='assignment_name', ylabel='weighted_score'>"
      ]
     },
     "execution_count": 17,
     "metadata": {},
     "output_type": "execute_result"
    },
    {
     "data": {
      "image/png": "[encoded data removed]",
      "text/plain": [
       "<Figure size 432x288 with 1 Axes>"
      ]
     },
     "metadata": {
      "needs_background": "light"
     },
     "output_type": "display_data"
    }
   ],
   "source": [
    "## Your code with comments\n",
    "si_merge[\"weighted_score\"]=si_merge[\"weight\"]*si_merge[\"score\"]/100\n",
    "sns.boxplot(data=si_merge, x=\"assignment_name\", y=\"weighted_score\", hue=\"final_result\")\n",
    "# YOUR CODE HERE\n",
    "#raise NotImplementedError()"
   ]
  },
  {
   "cell_type": "markdown",
   "metadata": {
    "deletable": false,
    "editable": false,
    "nbgrader": {
     "cell_type": "markdown",
     "checksum": "da15dc7cce690b1b4d5eb71c1319c9fe",
     "grade": false,
     "grade_id": "cell-31a683420f10a1b3",
     "locked": true,
     "schema_version": 3,
     "solution": false,
     "task": false
    }
   },
   "source": [
    "2.4. (2 points) Filter `learning_resources.csv` to include only \"Resource\" `activity_type`"
   ]
  },
  {
   "cell_type": "code",
   "execution_count": 18,
   "metadata": {
    "deletable": false,
    "nbgrader": {
     "cell_type": "code",
     "checksum": "7764d151994c30481231c73a5bbb24d0",
     "grade": true,
     "grade_id": "cell-2e4d0cf7037ae410",
     "locked": false,
     "points": 0,
     "schema_version": 3,
     "solution": true,
     "task": false
    }
   },
   "outputs": [
    {
     "data": {
      "text/html": [
       "<div>\n",
       "<style scoped>\n",
       "    .dataframe tbody tr th:only-of-type {\n",
       "        vertical-align: middle;\n",
       "    }\n",
       "\n",
       "    .dataframe tbody tr th {\n",
       "        vertical-align: top;\n",
       "    }\n",
       "\n",
       "    .dataframe thead th {\n",
       "        text-align: right;\n",
       "    }\n",
       "</style>\n",
       "<table border=\"1\" class=\"dataframe\">\n",
       "  <thead>\n",
       "    <tr style=\"text-align: right;\">\n",
       "      <th></th>\n",
       "      <th>id_student</th>\n",
       "      <th>activity_type</th>\n",
       "      <th>activity_id</th>\n",
       "      <th>date</th>\n",
       "      <th>sum_click</th>\n",
       "    </tr>\n",
       "  </thead>\n",
       "  <tbody>\n",
       "    <tr>\n",
       "      <th>0</th>\n",
       "      <td>420388</td>\n",
       "      <td>resource</td>\n",
       "      <td>219</td>\n",
       "      <td>0</td>\n",
       "      <td>1</td>\n",
       "    </tr>\n",
       "    <tr>\n",
       "      <th>3</th>\n",
       "      <td>420388</td>\n",
       "      <td>resource</td>\n",
       "      <td>229</td>\n",
       "      <td>0</td>\n",
       "      <td>2</td>\n",
       "    </tr>\n",
       "    <tr>\n",
       "      <th>8</th>\n",
       "      <td>409109</td>\n",
       "      <td>resource</td>\n",
       "      <td>219</td>\n",
       "      <td>0</td>\n",
       "      <td>1</td>\n",
       "    </tr>\n",
       "    <tr>\n",
       "      <th>9</th>\n",
       "      <td>409109</td>\n",
       "      <td>resource</td>\n",
       "      <td>229</td>\n",
       "      <td>0</td>\n",
       "      <td>2</td>\n",
       "    </tr>\n",
       "    <tr>\n",
       "      <th>11</th>\n",
       "      <td>409109</td>\n",
       "      <td>resource</td>\n",
       "      <td>246</td>\n",
       "      <td>0</td>\n",
       "      <td>1</td>\n",
       "    </tr>\n",
       "    <tr>\n",
       "      <th>...</th>\n",
       "      <td>...</td>\n",
       "      <td>...</td>\n",
       "      <td>...</td>\n",
       "      <td>...</td>\n",
       "      <td>...</td>\n",
       "    </tr>\n",
       "    <tr>\n",
       "      <th>443308</th>\n",
       "      <td>544839</td>\n",
       "      <td>resource</td>\n",
       "      <td>246</td>\n",
       "      <td>240</td>\n",
       "      <td>3</td>\n",
       "    </tr>\n",
       "    <tr>\n",
       "      <th>443311</th>\n",
       "      <td>557742</td>\n",
       "      <td>resource</td>\n",
       "      <td>246</td>\n",
       "      <td>240</td>\n",
       "      <td>1</td>\n",
       "    </tr>\n",
       "    <tr>\n",
       "      <th>443314</th>\n",
       "      <td>560444</td>\n",
       "      <td>resource</td>\n",
       "      <td>246</td>\n",
       "      <td>240</td>\n",
       "      <td>3</td>\n",
       "    </tr>\n",
       "    <tr>\n",
       "      <th>443321</th>\n",
       "      <td>535831</td>\n",
       "      <td>resource</td>\n",
       "      <td>246</td>\n",
       "      <td>240</td>\n",
       "      <td>1</td>\n",
       "    </tr>\n",
       "    <tr>\n",
       "      <th>443331</th>\n",
       "      <td>536170</td>\n",
       "      <td>resource</td>\n",
       "      <td>135</td>\n",
       "      <td>240</td>\n",
       "      <td>2</td>\n",
       "    </tr>\n",
       "  </tbody>\n",
       "</table>\n",
       "<p>90735 rows × 5 columns</p>\n",
       "</div>"
      ],
      "text/plain": [
       "        id_student activity_type  activity_id  date  sum_click\n",
       "0           420388      resource          219     0          1\n",
       "3           420388      resource          229     0          2\n",
       "8           409109      resource          219     0          1\n",
       "9           409109      resource          229     0          2\n",
       "11          409109      resource          246     0          1\n",
       "...            ...           ...          ...   ...        ...\n",
       "443308      544839      resource          246   240          3\n",
       "443311      557742      resource          246   240          1\n",
       "443314      560444      resource          246   240          3\n",
       "443321      535831      resource          246   240          1\n",
       "443331      536170      resource          135   240          2\n",
       "\n",
       "[90735 rows x 5 columns]"
      ]
     },
     "execution_count": 18,
     "metadata": {},
     "output_type": "execute_result"
    }
   ],
   "source": [
    "## Your code with comments\n",
    "# YOUR CODE HERE\n",
    "lr[lr[\"activity_type\"]==\"resource\"]\n",
    "#raise NotImplementedError()"
   ]
  },
  {
   "cell_type": "markdown",
   "metadata": {},
   "source": [
    "2.5. (2 points) Sum `sum_clicks` by `activity_type` per student "
   ]
  },
  {
   "cell_type": "code",
   "execution_count": 19,
   "metadata": {
    "deletable": false,
    "nbgrader": {
     "cell_type": "code",
     "checksum": "8fa1d7112ec1d3d9edbd61fa933ce2d2",
     "grade": true,
     "grade_id": "cell-6465de9e50a07512",
     "locked": false,
     "points": 0,
     "schema_version": 3,
     "solution": true,
     "task": false
    }
   },
   "outputs": [
    {
     "data": {
      "text/html": [
       "<div>\n",
       "<style scoped>\n",
       "    .dataframe tbody tr th:only-of-type {\n",
       "        vertical-align: middle;\n",
       "    }\n",
       "\n",
       "    .dataframe tbody tr th {\n",
       "        vertical-align: top;\n",
       "    }\n",
       "\n",
       "    .dataframe thead th {\n",
       "        text-align: right;\n",
       "    }\n",
       "</style>\n",
       "<table border=\"1\" class=\"dataframe\">\n",
       "  <thead>\n",
       "    <tr style=\"text-align: right;\">\n",
       "      <th></th>\n",
       "      <th>activity_type</th>\n",
       "      <th>activity_id</th>\n",
       "      <th>id_student</th>\n",
       "      <th>sum_click</th>\n",
       "    </tr>\n",
       "  </thead>\n",
       "  <tbody>\n",
       "    <tr>\n",
       "      <th>0</th>\n",
       "      <td>course_homepage</td>\n",
       "      <td>1</td>\n",
       "      <td>41060</td>\n",
       "      <td>80</td>\n",
       "    </tr>\n",
       "    <tr>\n",
       "      <th>1</th>\n",
       "      <td>course_homepage</td>\n",
       "      <td>1</td>\n",
       "      <td>45664</td>\n",
       "      <td>287</td>\n",
       "    </tr>\n",
       "    <tr>\n",
       "      <th>2</th>\n",
       "      <td>course_homepage</td>\n",
       "      <td>1</td>\n",
       "      <td>52014</td>\n",
       "      <td>98</td>\n",
       "    </tr>\n",
       "    <tr>\n",
       "      <th>3</th>\n",
       "      <td>course_homepage</td>\n",
       "      <td>1</td>\n",
       "      <td>53488</td>\n",
       "      <td>311</td>\n",
       "    </tr>\n",
       "    <tr>\n",
       "      <th>4</th>\n",
       "      <td>course_homepage</td>\n",
       "      <td>1</td>\n",
       "      <td>60135</td>\n",
       "      <td>822</td>\n",
       "    </tr>\n",
       "    <tr>\n",
       "      <th>...</th>\n",
       "      <td>...</td>\n",
       "      <td>...</td>\n",
       "      <td>...</td>\n",
       "      <td>...</td>\n",
       "    </tr>\n",
       "    <tr>\n",
       "      <th>97581</th>\n",
       "      <td>wiki</td>\n",
       "      <td>9</td>\n",
       "      <td>2377623</td>\n",
       "      <td>14</td>\n",
       "    </tr>\n",
       "    <tr>\n",
       "      <th>97582</th>\n",
       "      <td>wiki</td>\n",
       "      <td>9</td>\n",
       "      <td>2459878</td>\n",
       "      <td>4</td>\n",
       "    </tr>\n",
       "    <tr>\n",
       "      <th>97583</th>\n",
       "      <td>wiki</td>\n",
       "      <td>9</td>\n",
       "      <td>2501768</td>\n",
       "      <td>10</td>\n",
       "    </tr>\n",
       "    <tr>\n",
       "      <th>97584</th>\n",
       "      <td>wiki</td>\n",
       "      <td>9</td>\n",
       "      <td>2677955</td>\n",
       "      <td>2</td>\n",
       "    </tr>\n",
       "    <tr>\n",
       "      <th>97585</th>\n",
       "      <td>wiki</td>\n",
       "      <td>9</td>\n",
       "      <td>2694933</td>\n",
       "      <td>3</td>\n",
       "    </tr>\n",
       "  </tbody>\n",
       "</table>\n",
       "<p>97586 rows × 4 columns</p>\n",
       "</div>"
      ],
      "text/plain": [
       "         activity_type  activity_id  id_student  sum_click\n",
       "0      course_homepage            1       41060         80\n",
       "1      course_homepage            1       45664        287\n",
       "2      course_homepage            1       52014         98\n",
       "3      course_homepage            1       53488        311\n",
       "4      course_homepage            1       60135        822\n",
       "...                ...          ...         ...        ...\n",
       "97581             wiki            9     2377623         14\n",
       "97582             wiki            9     2459878          4\n",
       "97583             wiki            9     2501768         10\n",
       "97584             wiki            9     2677955          2\n",
       "97585             wiki            9     2694933          3\n",
       "\n",
       "[97586 rows x 4 columns]"
      ]
     },
     "execution_count": 19,
     "metadata": {},
     "output_type": "execute_result"
    }
   ],
   "source": [
    "## Your code with comments\n",
    "# YOUR CODE HERE\n",
    "lr_filter=lr.groupby([\"activity_type\", \"activity_id\", \"id_student\"], as_index=False)[\"sum_click\"].sum()\n",
    "lr_filter\n",
    "#raise NotImplementedError()"
   ]
  },
  {
   "cell_type": "markdown",
   "metadata": {
    "deletable": false,
    "editable": false,
    "nbgrader": {
     "cell_type": "markdown",
     "checksum": "8e772cbb00915a158832dc7d87fcae4c",
     "grade": false,
     "grade_id": "cell-9de6823f826511a6",
     "locked": true,
     "schema_version": 3,
     "solution": false,
     "task": false
    }
   },
   "source": [
    "2.6. (2 points) Join data frame from 2.5 onto `student_info.csv` by `id_student`"
   ]
  },
  {
   "cell_type": "code",
   "execution_count": 20,
   "metadata": {
    "deletable": false,
    "nbgrader": {
     "cell_type": "code",
     "checksum": "955b38f0ef5a957c44783b955cd5ba08",
     "grade": true,
     "grade_id": "cell-986c222b177b6811",
     "locked": false,
     "points": 0,
     "schema_version": 3,
     "solution": true,
     "task": false
    }
   },
   "outputs": [],
   "source": [
    "## Your code with comments\n",
    "# YOUR CODE HERE\n",
    "si_lr=si.merge(lr_filter, on=\"id_student\")\n",
    "#raise NotImplementedError()"
   ]
  },
  {
   "cell_type": "markdown",
   "metadata": {
    "deletable": false,
    "editable": false,
    "nbgrader": {
     "cell_type": "markdown",
     "checksum": "1c1b08b89fd4f2662e73498c87f50108",
     "grade": false,
     "grade_id": "cell-8d3cec47ea34f4fa",
     "locked": true,
     "schema_version": 3,
     "solution": false,
     "task": false
    }
   },
   "source": [
    "2.7. (5 points) Using data frame from 2.6, create a box plot with `sum_clicks` on the y-axis and `activity_type` (i.e., “course_homepage”, “course_page”, “forum”, \"resource”, and “wiki”) on the x-axis; use `final_result` to color each box plot, one for \"fail\" and one for \"pass\""
   ]
  },
  {
   "cell_type": "code",
   "execution_count": 21,
   "metadata": {
    "deletable": false,
    "nbgrader": {
     "cell_type": "code",
     "checksum": "2707a42e32cf5e031c1383b4bd04d2b6",
     "grade": true,
     "grade_id": "cell-8596077fab825fce",
     "locked": false,
     "points": 0,
     "schema_version": 3,
     "solution": true,
     "task": false
    }
   },
   "outputs": [
    {
     "data": {
      "text/plain": [
       "<AxesSubplot:xlabel='activity_type', ylabel='sum_click'>"
      ]
     },
     "execution_count": 21,
     "metadata": {},
     "output_type": "execute_result"
    },
    {
     "data": {
      "image/png": "[encoded data removed]",
      "text/plain": [
       "<Figure size 432x288 with 1 Axes>"
      ]
     },
     "metadata": {
      "needs_background": "light"
     },
     "output_type": "display_data"
    }
   ],
   "source": [
    "## Your code with comments\n",
    "# YOUR CODE HERE\n",
    "sns.boxplot(data=si_lr, x=\"activity_type\", y=\"sum_click\", hue=\"final_result\")\n",
    "#raise NotImplementedError()"
   ]
  },
  {
   "cell_type": "markdown",
   "metadata": {
    "deletable": false,
    "editable": false,
    "nbgrader": {
     "cell_type": "markdown",
     "checksum": "b26c76594235259865f35d15f1fdeecd",
     "grade": false,
     "grade_id": "cell-4506f745da7c8c3c",
     "locked": true,
     "schema_version": 3,
     "solution": false,
     "task": false
    }
   },
   "source": [
    "# 3. Interpret (10 points)"
   ]
  },
  {
   "cell_type": "markdown",
   "metadata": {
    "deletable": false,
    "editable": false,
    "nbgrader": {
     "cell_type": "markdown",
     "checksum": "be32e0e300117350bb9db0fc71541d8f",
     "grade": false,
     "grade_id": "cell-8d04a7c46519d578",
     "locked": true,
     "schema_version": 3,
     "solution": false,
     "task": false
    }
   },
   "source": [
    "After developing an initial understanding of the above datasets, provide your thoughts on the following questions:"
   ]
  },
  {
   "cell_type": "markdown",
   "metadata": {
    "deletable": false,
    "editable": false,
    "nbgrader": {
     "cell_type": "markdown",
     "checksum": "ab530a1071a9eece44c96860ff979d2d",
     "grade": false,
     "grade_id": "cell-3640f2218b5d7444",
     "locked": true,
     "schema_version": 3,
     "solution": false,
     "task": false
    }
   },
   "source": [
    "3.1. What variables from `quizzes_tests.csv` and `learning_resources.csv` are related to course success, and why? (5 points)"
   ]
  },
  {
   "cell_type": "markdown",
   "metadata": {},
   "source": [
    "The variable from quizzes_tests.csv that is related to course success is date_submitted and every student should have the same number of rows because each student had the opportunity to take the same quizzes and tests. The variable from learning_resources.csv that is related to course success is activity_type because the files include \"course_homepage\", \"course_page\", “resource”, and interactive sections of the course.  "
   ]
  },
  {
   "cell_type": "markdown",
   "metadata": {
    "deletable": false,
    "editable": false,
    "nbgrader": {
     "cell_type": "markdown",
     "checksum": "7f728d875fa2d8ccc5d198a303986c0a",
     "grade": false,
     "grade_id": "cell-cdaf4c15793d9ad0",
     "locked": true,
     "schema_version": 3,
     "solution": false,
     "task": false
    }
   },
   "source": [
    "3.2. What relationships between variables from `quizzes_tests.csv` and `learning_resources.csv` and `final_result` surprised you, and why? (5 points)"
   ]
  },
  {
   "cell_type": "markdown",
   "metadata": {},
   "source": [
    "Quiz 1 and quiz 2 were already showing a big difference for the pass and fail groups. I thought they would be closer on the earlier assignments."
   ]
  }
 ],
 "metadata": {
  "colab": {
   "name": "Deepti_assignment1_source.ipynb",
   "provenance": []
  },
  "coursera": {
   "schema_names": [
    "mads_learning_analytics_v2_assignment1"
   ]
  },
  "kernelspec": {
   "display_name": "Python 3 (ipykernel)",
   "language": "python",
   "name": "python3"
  },
  "language_info": {
   "codemirror_mode": {
    "name": "ipython",
    "version": 3
   },
   "file_extension": ".py",
   "mimetype": "text/x-python",
   "name": "python",
   "nbconvert_exporter": "python",
   "pygments_lexer": "ipython3",
   "version": "3.8.10"
  }
 },
 "nbformat": 4,
 "nbformat_minor": 1
}
