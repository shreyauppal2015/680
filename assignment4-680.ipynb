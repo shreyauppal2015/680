{
 "cells": [
  {
   "cell_type": "markdown",
   "metadata": {
    "deletable": false,
    "editable": false,
    "nbgrader": {
     "cell_type": "markdown",
     "checksum": "a7fe0a670e8ba9c242df2ed6e61f35e4",
     "grade": false,
     "grade_id": "cell-d6513b8ab68233ee",
     "locked": true,
     "schema_version": 3,
     "solution": false
    }
   },
   "source": [
    "<img src=\"https://brand.umich.edu/assets/brand/style-guide/logo-guidelines/U-M_Logo-Horizontal-Hex.png\" alt=\"Drawing\" style=\"width: 300px;\" align=\"left\"/><br>\n",
    "    \n",
    "## Week 4: Dashboard\n",
    "\n",
    "For this notebook, you are building a prototype dashboard. The specific user persona we have in mind for you to design around is a non-technical instructor who is relatively new to teaching online and has moderate to low data literacy skills. \n",
    "\n",
    "The instructor, as we have mentioned in previous Notebooks, is looking to run a report about 25% of the way through the course in order to identify who he or she should do a formal check-in with.\n",
    " \n",
    "To help you in building your dashboard, this notebook provides a brief introduction to the [jupyter-dash extension](https://github.com/plotly/jupyter-dash) for building a [Plotly Dash](https://github.com/plotly/dash) app within Jupyter environments. You can check out the documentation and some tutorials for Plotly Dash [here](https://dash.plotly.com/).\n",
    "\n",
    "You can also use other packages like `seaborn`. **The only caveat is that the resulting visualization needs to be interactive.**\n",
    "\n",
    "Resources:\n",
    "* [A medium blog - Introducing JupyterDash](https://medium.com/plotly/introducing-jupyterdash-811f1f57c02e)\n",
    "* [Plotly Dash documentation](https://dash.plotly.com/)\n",
    "* [A Youtube tutorial on dash](https://www.youtube.com/watch?v=hSPmj7mK6ng)\n",
    "* [Dash gallery](https://dash-gallery.plotly.host/Portal/)\n",
    "\n",
    "You can also check out [OU Analyse](https://analyse.kmi.open.ac.uk/) as an example of how the authors of the dataset have developed a dashboard for their institution. You can request a demo of the dashboard by entering your email."
   ]
  },
  {
   "cell_type": "code",
   "execution_count": 1,
   "metadata": {
    "deletable": false,
    "editable": false,
    "nbgrader": {
     "cell_type": "code",
     "checksum": "346396e61a88df382f67c9706f37fdd1",
     "grade": false,
     "grade_id": "cell-2ad14b9ec08321c0",
     "locked": true,
     "schema_version": 3,
     "solution": false
    }
   },
   "outputs": [],
   "source": [
    "# !pip install jupyter-dash  ## should already be installed\n",
    "\n",
    "import pandas as pd\n",
    "import numpy as np\n",
    "\n",
    "# Import jupyter dash\n",
    "from jupyter_dash import JupyterDash\n",
    "import os\n",
    "try:\n",
    "    os.environ.pop('http_proxy')\n",
    "    os.environ.pop('https_proxy')\n",
    "except KeyError:\n",
    "    pass\n",
    "\n",
    "# Import dash\n",
    "import dash\n",
    "from dash import dcc\n",
    "from dash import html\n",
    "\n",
    "# Import plotly\n",
    "import plotly.graph_objs as go\n",
    "import plotly.express as px\n",
    "\n",
    "# Set up jupyter proxy\n",
    "#JupyterDash.infer_jupyter_proxy_config()"
   ]
  },
  {
   "cell_type": "code",
   "execution_count": 2,
   "metadata": {},
   "outputs": [],
   "source": [
    "lr = pd.read_csv('assets/learning_resources.csv')\n",
    "qt = pd.read_csv('assets/quizzes_tests.csv')\n",
    "si = pd.read_csv('assets/student_info_pred.csv')\n",
    "df = pd.read_csv('assets/country_indicators.csv')"
   ]
  },
  {
   "cell_type": "markdown",
   "metadata": {
    "deletable": false,
    "editable": false,
    "nbgrader": {
     "cell_type": "markdown",
     "checksum": "2a9cc239f519045601e9d54f7b79b2eb",
     "grade": false,
     "grade_id": "cell-7484296c494ec2b2",
     "locked": true,
     "schema_version": 3,
     "solution": false
    }
   },
   "source": [
    "# A quick tutorial\n",
    "\n",
    "In essence, a plotly-dash dashboard consists of 3 components:\n",
    "* The **dash components** (e.g., dropdown, slider, checklist, etc.). See the documentation [here](https://dash.plotly.com/dash-core-components)\n",
    "* The **plotly** graphs (e.g., linegraph, scatter plot, heatmap, etc.). See the documentation [here](https://plotly.com/python/)\n",
    "* The **callback** to connects the dash components to plotly graphs, making it an interactive dashboard. See the documentation [here](https://dash.plotly.com/basic-callbacks) \n",
    "\n"
   ]
  },
  {
   "cell_type": "markdown",
   "metadata": {
    "deletable": false,
    "editable": false,
    "nbgrader": {
     "cell_type": "markdown",
     "checksum": "af3f1944a4233e2c1748bfbee273c6c7",
     "grade": false,
     "grade_id": "cell-ea20c650cc9bacf2",
     "locked": true,
     "schema_version": 3,
     "solution": false
    }
   },
   "source": [
    "## Step 1. The Dash components (i.e. layouts)"
   ]
  },
  {
   "cell_type": "code",
   "execution_count": 3,
   "metadata": {},
   "outputs": [],
   "source": [
    "score = qt.groupby('assignment_name')['score'].agg({np.mean,np.median, np.std}).reset_index(drop = False)"
   ]
  },
  {
   "cell_type": "code",
   "execution_count": 4,
   "metadata": {
    "deletable": false,
    "editable": false,
    "nbgrader": {
     "cell_type": "code",
     "checksum": "3aca681af91dfceb0bf51448a5e387bf",
     "grade": false,
     "grade_id": "cell-2436d6ae1e33bbd1",
     "locked": true,
     "schema_version": 3,
     "solution": false
    }
   },
   "outputs": [
    {
     "data": {
      "text/html": [
       "\n",
       "        <iframe\n",
       "            width=\"100%\"\n",
       "            height=\"650\"\n",
       "            src=\"http://127.0.0.1:8100/\"\n",
       "            frameborder=\"0\"\n",
       "            allowfullscreen\n",
       "            \n",
       "        ></iframe>\n",
       "        "
      ],
      "text/plain": [
       "<IPython.lib.display.IFrame at 0x7fccf4e1dfd0>"
      ]
     },
     "metadata": {},
     "output_type": "display_data"
    }
   ],
   "source": [
    "app = JupyterDash(__name__)\n",
    "\n",
    "# Create server variable\n",
    "server = app.server\n",
    "\n",
    "# Create a unique list of code_module\n",
    "assess_list = score['assignment_name'].unique()\n",
    "\n",
    "# Step 1\n",
    "app.layout = html.Div([\n",
    "    \n",
    "            # Create a html title for the dashboard\n",
    "            html.H1(\"This is the title\"),\n",
    "    \n",
    "            # Create a graph, we will configure the graph using plotly express in step 3 \n",
    "            dcc.Graph(id = 'graph-with-dropdown'),\n",
    "    \n",
    "            # Create a dropdown menu based on code_module\n",
    "            dcc.Dropdown(\n",
    "                id = 'crossfilter-xaxis-column',\n",
    "                options = [{'label': i, 'value': i} for i in assess_list],\n",
    "                value ='Quiz 1' # the default assignment\n",
    "            )])\n",
    "\n",
    "# Run the app\n",
    "app.run_server(mode = \"inline\", port = 8100)\n",
    "\n",
    "# You will see we have the dropdown menu but nothing happens yet"
   ]
  },
  {
   "cell_type": "markdown",
   "metadata": {
    "deletable": false,
    "editable": false,
    "nbgrader": {
     "cell_type": "markdown",
     "checksum": "ebffe7f56db241fb966402abb3325105",
     "grade": false,
     "grade_id": "cell-cc7e1f2dcddb9a43",
     "locked": true,
     "schema_version": 3,
     "solution": false
    }
   },
   "source": [
    "## Step 2 & 3. Callback and create plotly graph"
   ]
  },
  {
   "cell_type": "code",
   "execution_count": 5,
   "metadata": {
    "deletable": false,
    "editable": false,
    "nbgrader": {
     "cell_type": "code",
     "checksum": "7b91df06c94f91c6c1ccfdb757a53fd8",
     "grade": false,
     "grade_id": "cell-30282bc50c6f2d4f",
     "locked": true,
     "schema_version": 3,
     "solution": false
    }
   },
   "outputs": [
    {
     "data": {
      "text/html": [
       "\n",
       "        <iframe\n",
       "            width=\"100%\"\n",
       "            height=\"650\"\n",
       "            src=\"http://127.0.0.1:8101/\"\n",
       "            frameborder=\"0\"\n",
       "            allowfullscreen\n",
       "            \n",
       "        ></iframe>\n",
       "        "
      ],
      "text/plain": [
       "<IPython.lib.display.IFrame at 0x7fccf52ffd00>"
      ]
     },
     "metadata": {},
     "output_type": "display_data"
    }
   ],
   "source": [
    "# Create a unique list of code_module\n",
    "assess_list = score['assignment_name'].unique()\n",
    "\n",
    "# Step 1\n",
    "app.layout = html.Div([\n",
    "            # Create a html title for the dashboard\n",
    "            html.H1(\"This is a bar chart\"),\n",
    "    \n",
    "            # Create a graph, we will configure the graph using plotly express in step 3 \n",
    "            dcc.Graph(id='graph-with-dropdown'),\n",
    "    \n",
    "            # Create a dropdown menu based on code_module\n",
    "            dcc.Dropdown(\n",
    "                id='crossfilter-xaxis-column',\n",
    "                options=[{'label': i, 'value': i} for i in assess_list],\n",
    "                value='Quiz 1' # the default\n",
    "            )])\n",
    "\n",
    "# Step 2\n",
    "# Callback using input from dropdown menu to generate graph\n",
    "# You can have multiple inputs and multiple outputs\n",
    "@app.callback(\n",
    "    dash.dependencies.Output('graph-with-dropdown', 'figure'),\n",
    "    [dash.dependencies.Input('crossfilter-xaxis-column', 'value')])\n",
    "\n",
    "# Step 3\n",
    "# Define the graph with plotly express\n",
    "def update_figure(assignment_name):\n",
    "    filtered_score = score[(score.assignment_name == assignment_name)]\n",
    "    figure = px.bar(filtered_score, x = 'assignment_name', y = 'mean')\n",
    "    return figure # You must return all the output(s) in step 2\n",
    "    \n",
    "# Run the app\n",
    "app.run_server(mode = \"inline\", port = 8101)"
   ]
  },
  {
   "cell_type": "code",
   "execution_count": 6,
   "metadata": {
    "deletable": false,
    "editable": false,
    "nbgrader": {
     "cell_type": "code",
     "checksum": "905a8d3964c9ed410f489ee07111b1e3",
     "grade": false,
     "grade_id": "cell-6269c5117e11e676",
     "locked": true,
     "schema_version": 3,
     "solution": false
    }
   },
   "outputs": [
    {
     "data": {
      "text/html": [
       "\n",
       "        <iframe\n",
       "            width=\"100%\"\n",
       "            height=\"650\"\n",
       "            src=\"http://127.0.0.1:8102/\"\n",
       "            frameborder=\"0\"\n",
       "            allowfullscreen\n",
       "            \n",
       "        ></iframe>\n",
       "        "
      ],
      "text/plain": [
       "<IPython.lib.display.IFrame at 0x7fccf3d274f0>"
      ]
     },
     "metadata": {},
     "output_type": "display_data"
    }
   ],
   "source": [
    "# Create a unique list of assignment_name\n",
    "assess_list = score['assignment_name'].unique()\n",
    "\n",
    "# Step 1\n",
    "app.layout = html.Div([\n",
    "            # Create a html title for the dashboard\n",
    "            html.H1(\"This is a scatter plot\"),\n",
    "    \n",
    "            # Create a graph, we will configure the graph using plotly express in step 3 \n",
    "            dcc.Graph(id='graph'),\n",
    "    \n",
    "            # Create a checklist based on assignment_name\n",
    "            dcc.Checklist(\n",
    "                    id = 'checklist',\n",
    "                    options=[{'label': i, 'value': i} for i in assess_list],\n",
    "                    value=assess_list # Default values contain all assignment_name\n",
    "            )\n",
    "])\n",
    "\n",
    "# Step 2\n",
    "# Callback using inputs from the checklist to generate the graph\n",
    "@app.callback(\n",
    "    dash.dependencies.Output('graph', 'figure'),\n",
    "    [dash.dependencies.Input('checklist', 'value')])\n",
    "\n",
    "# Step 3\n",
    "# Define the graph with plotly express\n",
    "def update_figure(values):\n",
    "    figure = px.scatter(\n",
    "                     score[score[\"assignment_name\"].isin(values)],\n",
    "                     x=\"mean\",\n",
    "                     y=\"std\",\n",
    "                     color=\"assignment_name\",\n",
    "                     hover_name=\"assignment_name\")\n",
    "    return figure # You must return all the output(s) in step \n",
    "    \n",
    "# Run the app\n",
    "app.run_server(mode=\"inline\", port = 8102)"
   ]
  },
  {
   "cell_type": "markdown",
   "metadata": {
    "deletable": false,
    "editable": false,
    "nbgrader": {
     "cell_type": "markdown",
     "checksum": "f47e5f4b911b67ffc3bfedbd0ae69c0c",
     "grade": false,
     "grade_id": "cell-37c0ca35d40191fa",
     "locked": true,
     "schema_version": 3,
     "solution": false
    }
   },
   "source": [
    "# Building Your Dashboard (40 points)\n",
    "\n",
    "Your final product will need to have the following capabilities:\n",
    "\n",
    "1. (10 points) View multiple students' predicted probabilities of failing the course\n",
    "2. (10 points) View a student's quiz/test performances alongside a meaningful reference like a course average for a given quiz/test\n",
    "3. (10 points) View a student's learning resource use alongside a meaningful reference like a course average for a given resource\n",
    "4. (10 points) Intergrate the above three capabilties into a single, functional dashboard\n",
    "\n",
    "This notebook is broken out into four sections, three to build individual components and one to integrate them. The final Integrated Dashboard cell will be graded and must include all three specified capabilities. If it does not, points will be awarded based on progress made in each Component cell.\n",
    "\n",
    "There is a new column in `student_info.csv`, `fail_pred,` that represents the predicted probability of failure for each student from a baseline model.\n",
    "\n",
    "**Note:** All quizzes, tests, and resources should only include information from on or before day 60 in the course."
   ]
  },
  {
   "cell_type": "markdown",
   "metadata": {},
   "source": [
    "### Dictionary\n",
    "- **student_info.csv**\n",
    "    - **id_student** = numeric; unique identifier for each student in the course\n",
    "    - **gender** = character; M = \"male\", F = \"female\"\n",
    "    - **highest_education** = character; “Some Graduate”, “Some Higher Education”, “High School + Advanced Placement”, “High School”, “No Formal Quals” (Categories ordered from highest documented education level attained to lowest documented education level attained)\n",
    "    - **disability** = character; Y = \"yes\", N = \"no\"\n",
    "    - **final_result** = character; \"Fail\", \"Pass\"\n",
    "    - **fail_pred** = numeric; predicted probability from sample model\n",
    "\n",
    "\n",
    "- **quizzes_tests.csv**\n",
    "    - **id_student** = numeric; unique identifier for each student in the course\n",
    "    - **assignment_name** = character; name of graded assignment (Quiz 1-7, Test 1-6, Final Exam)\n",
    "    - **due_date** = numeric; date assignment was due (indexed as count in days from start of course, i.e., day 0)\n",
    "    - **weight** = numeric; weight multiplied by score when generating final grade (weight * score / 100)\n",
    "    - **date_submitted** = numeric; date student submitted assigned (indexed as count in days from start of course, i.e., day 0, NaN means students did not submit assignment)\n",
    "    - **score** = numeric; score student earned on assignment (0 means students did not submit assignment)\n",
    "\n",
    "\n",
    "- **learning_resources.csv**\n",
    "    - **id_student** = numeric; unique identifier for each student in the course\n",
    "    - **activity_type** = character; overarching label for learning activity students can access (“course_homepage”, “course_page”, “forum”, ‘resource”, “wiki”)\n",
    "    - **activity_id** = numeric; unique identifier for specific learning activity student accessed within overacting `activity_type`\n",
    "    - **date** = numeric; date student accessed specific `acitivity_id`  (indexed as count in days from start of course, i.e., day 0)\n",
    "    - **sum_click** = numeric; count of clicks for `activity_id` on date"
   ]
  },
  {
   "cell_type": "markdown",
   "metadata": {
    "deletable": false,
    "editable": false,
    "nbgrader": {
     "cell_type": "markdown",
     "checksum": "ed8b6a33c414723c2f75d56b1359a1d0",
     "grade": false,
     "grade_id": "cell-4bc3fb7482f6563b",
     "locked": true,
     "schema_version": 3,
     "solution": false
    }
   },
   "source": [
    "## Component 1\n",
    "1. (10 points) View multiple students' predicted probabilities of failing the course"
   ]
  },
  {
   "cell_type": "code",
   "execution_count": 7,
   "metadata": {
    "deletable": false,
    "nbgrader": {
     "cell_type": "code",
     "checksum": "a80fd137e6b4d60c02f70c91fbc7ab50",
     "grade": true,
     "grade_id": "cell-2875ff5be588537c",
     "locked": false,
     "points": 0,
     "schema_version": 3,
     "solution": true
    }
   },
   "outputs": [
    {
     "data": {
      "text/plain": [
       "Index(['pred_fail', 'id_student', 'gender', 'highest_education', 'disability',\n",
       "       'final_result'],\n",
       "      dtype='object')"
      ]
     },
     "execution_count": 7,
     "metadata": {},
     "output_type": "execute_result"
    }
   ],
   "source": [
    "# YOUR CODE HERE\n",
    "si.columns\n",
    "#raise NotImplementedError()"
   ]
  },
  {
   "cell_type": "code",
   "execution_count": 8,
   "metadata": {},
   "outputs": [],
   "source": [
    "si[\"id_student\"] = si[\"id_student\"].astype(str)"
   ]
  },
  {
   "cell_type": "code",
   "execution_count": 9,
   "metadata": {},
   "outputs": [
    {
     "data": {
      "text/html": [
       "\n",
       "        <iframe\n",
       "            width=\"100%\"\n",
       "            height=\"650\"\n",
       "            src=\"http://127.0.0.1:8100/\"\n",
       "            frameborder=\"0\"\n",
       "            allowfullscreen\n",
       "            \n",
       "        ></iframe>\n",
       "        "
      ],
      "text/plain": [
       "<IPython.lib.display.IFrame at 0x7fccf534b940>"
      ]
     },
     "metadata": {},
     "output_type": "display_data"
    }
   ],
   "source": [
    "app = JupyterDash(\"new\")\n",
    "\n",
    "# Create server variable\n",
    "server = app.server\n",
    "\n",
    "# Create a unique list of assignment_name\n",
    "assess_list = si['id_student'].unique()\n",
    "\n",
    "# Step 1\n",
    "app.layout = html.Div([\n",
    "            # Create a html title for the dashboard\n",
    "            html.H1(\"Probability of Passing, multiple students\"),\n",
    "    \n",
    "            # Create a graph, we will configure the graph using plotly express in step 3 \n",
    "            dcc.Graph(id='graph'),\n",
    "    \n",
    "            # Create a checklist based on assignment_name\n",
    "            dcc.Checklist(\n",
    "                    id = 'checklist',\n",
    "                    options=[{'label': i, 'value': i} for i in assess_list],\n",
    "                    value=[assess_list[0]] # Default values contain all assignment_name\n",
    "            )\n",
    "])\n",
    "\n",
    "# Step 2\n",
    "# Callback using inputs from the checklist to generate the graph\n",
    "@app.callback(\n",
    "    dash.dependencies.Output('graph', 'figure'),\n",
    "    [dash.dependencies.Input('checklist', 'value')])\n",
    "\n",
    "# Step 3\n",
    "# Define the graph with plotly express\n",
    "def update_figure(values):\n",
    "    filtered_students = si[si[\"id_student\"].isin(values)]\n",
    "    figure = px.bar(filtered_students, y = 'pred_fail', x = 'id_student')\n",
    "    return figure # You must return all the output(s) in step \n",
    "    \n",
    "# Run the app\n",
    "app.run_server(mode=\"inline\", port = 8100)"
   ]
  },
  {
   "cell_type": "markdown",
   "metadata": {
    "deletable": false,
    "editable": false,
    "nbgrader": {
     "cell_type": "markdown",
     "checksum": "c54f5e29593b26140a5eaa7cb557e2ce",
     "grade": false,
     "grade_id": "cell-7e58be32115af33e",
     "locked": true,
     "schema_version": 3,
     "solution": false
    }
   },
   "source": [
    "## Component 2\n",
    "\n",
    "2. (10 points) View a student's quiz/test performances alongside a meaningful reference like a course average for a given quiz/test\n",
    "\n",
    "**Note:** All quizzes, tests, and resources should be from on or before day 60 in the course."
   ]
  },
  {
   "cell_type": "code",
   "execution_count": 10,
   "metadata": {
    "deletable": false,
    "nbgrader": {
     "cell_type": "code",
     "checksum": "61ca0c5f61c0bc23de15767187260e88",
     "grade": true,
     "grade_id": "cell-563117611764f28e",
     "locked": false,
     "points": 0,
     "schema_version": 3,
     "solution": true
    }
   },
   "outputs": [
    {
     "data": {
      "text/html": [
       "<div>\n",
       "<style scoped>\n",
       "    .dataframe tbody tr th:only-of-type {\n",
       "        vertical-align: middle;\n",
       "    }\n",
       "\n",
       "    .dataframe tbody tr th {\n",
       "        vertical-align: top;\n",
       "    }\n",
       "\n",
       "    .dataframe thead th {\n",
       "        text-align: right;\n",
       "    }\n",
       "</style>\n",
       "<table border=\"1\" class=\"dataframe\">\n",
       "  <thead>\n",
       "    <tr style=\"text-align: right;\">\n",
       "      <th></th>\n",
       "      <th>id_student</th>\n",
       "      <th>assignment_name</th>\n",
       "      <th>Score Group</th>\n",
       "      <th>Score</th>\n",
       "    </tr>\n",
       "  </thead>\n",
       "  <tbody>\n",
       "    <tr>\n",
       "      <th>0</th>\n",
       "      <td>41060</td>\n",
       "      <td>Quiz 1</td>\n",
       "      <td>student_score</td>\n",
       "      <td>77.000000</td>\n",
       "    </tr>\n",
       "    <tr>\n",
       "      <th>1</th>\n",
       "      <td>45664</td>\n",
       "      <td>Quiz 1</td>\n",
       "      <td>student_score</td>\n",
       "      <td>47.000000</td>\n",
       "    </tr>\n",
       "    <tr>\n",
       "      <th>2</th>\n",
       "      <td>52014</td>\n",
       "      <td>Quiz 1</td>\n",
       "      <td>student_score</td>\n",
       "      <td>53.000000</td>\n",
       "    </tr>\n",
       "    <tr>\n",
       "      <th>3</th>\n",
       "      <td>53488</td>\n",
       "      <td>Quiz 1</td>\n",
       "      <td>student_score</td>\n",
       "      <td>93.000000</td>\n",
       "    </tr>\n",
       "    <tr>\n",
       "      <th>4</th>\n",
       "      <td>60135</td>\n",
       "      <td>Quiz 1</td>\n",
       "      <td>student_score</td>\n",
       "      <td>57.000000</td>\n",
       "    </tr>\n",
       "    <tr>\n",
       "      <th>...</th>\n",
       "      <td>...</td>\n",
       "      <td>...</td>\n",
       "      <td>...</td>\n",
       "      <td>...</td>\n",
       "    </tr>\n",
       "    <tr>\n",
       "      <th>22759</th>\n",
       "      <td>2678338</td>\n",
       "      <td>Final Exam</td>\n",
       "      <td>class_average</td>\n",
       "      <td>41.728167</td>\n",
       "    </tr>\n",
       "    <tr>\n",
       "      <th>22760</th>\n",
       "      <td>2683836</td>\n",
       "      <td>Final Exam</td>\n",
       "      <td>class_average</td>\n",
       "      <td>41.728167</td>\n",
       "    </tr>\n",
       "    <tr>\n",
       "      <th>22761</th>\n",
       "      <td>2689536</td>\n",
       "      <td>Final Exam</td>\n",
       "      <td>class_average</td>\n",
       "      <td>41.728167</td>\n",
       "    </tr>\n",
       "    <tr>\n",
       "      <th>22762</th>\n",
       "      <td>2693243</td>\n",
       "      <td>Final Exam</td>\n",
       "      <td>class_average</td>\n",
       "      <td>41.728167</td>\n",
       "    </tr>\n",
       "    <tr>\n",
       "      <th>22763</th>\n",
       "      <td>2694933</td>\n",
       "      <td>Final Exam</td>\n",
       "      <td>class_average</td>\n",
       "      <td>41.728167</td>\n",
       "    </tr>\n",
       "  </tbody>\n",
       "</table>\n",
       "<p>22764 rows × 4 columns</p>\n",
       "</div>"
      ],
      "text/plain": [
       "       id_student assignment_name    Score Group      Score\n",
       "0           41060          Quiz 1  student_score  77.000000\n",
       "1           45664          Quiz 1  student_score  47.000000\n",
       "2           52014          Quiz 1  student_score  53.000000\n",
       "3           53488          Quiz 1  student_score  93.000000\n",
       "4           60135          Quiz 1  student_score  57.000000\n",
       "...           ...             ...            ...        ...\n",
       "22759     2678338      Final Exam  class_average  41.728167\n",
       "22760     2683836      Final Exam  class_average  41.728167\n",
       "22761     2689536      Final Exam  class_average  41.728167\n",
       "22762     2693243      Final Exam  class_average  41.728167\n",
       "22763     2694933      Final Exam  class_average  41.728167\n",
       "\n",
       "[22764 rows x 4 columns]"
      ]
     },
     "execution_count": 10,
     "metadata": {},
     "output_type": "execute_result"
    }
   ],
   "source": [
    "# YOUR CODE HERE\n",
    "qt_avg = qt.merge(qt.groupby(\"assignment_name\")[\"score\"].mean().reset_index().rename(columns={\"score\":\"class_average\"}), on=\"assignment_name\").rename(columns={\"score\":\"student_score\"})\n",
    "qt_avg[\"status\"] = \"on time\"\n",
    "qt_avg.loc[qt_avg[\"due_date\"] < qt_avg[\"date_submitted\"], \"status\"] = \"late\"\n",
    "\n",
    "qt_avg.loc[qt_avg[\"date_submitted\"].isna(), \"status\"] = \"incomplete\"\n",
    "\n",
    "qt_avg.melt(id_vars=[\"id_student\", \"assignment_name\"], value_vars=[\"student_score\", \"class_average\"], var_name=\"Score Group\", value_name=\"Score\")\n",
    "#raise NotImplementedError()"
   ]
  },
  {
   "cell_type": "code",
   "execution_count": 11,
   "metadata": {},
   "outputs": [
    {
     "data": {
      "text/html": [
       "\n",
       "        <iframe\n",
       "            width=\"100%\"\n",
       "            height=\"650\"\n",
       "            src=\"http://127.0.0.1:8102/\"\n",
       "            frameborder=\"0\"\n",
       "            allowfullscreen\n",
       "            \n",
       "        ></iframe>\n",
       "        "
      ],
      "text/plain": [
       "<IPython.lib.display.IFrame at 0x7fccf2c6de50>"
      ]
     },
     "metadata": {},
     "output_type": "display_data"
    }
   ],
   "source": [
    "app = JupyterDash(\"new\")\n",
    "\n",
    "# Create server variable\n",
    "server = app.server\n",
    "\n",
    "qt_avg = qt.merge(qt.groupby(\"assignment_name\")[\"score\"].mean().reset_index().rename(columns={\"score\":\"class_average\"}), on=\"assignment_name\").rename(columns={\"score\":\"student_score\"})\n",
    "qt_avg[\"status\"] = \"on time\"\n",
    "qt_avg.loc[qt_avg[\"due_date\"] < qt_avg[\"date_submitted\"], \"status\"] = \"late\"\n",
    "\n",
    "qt_avg.loc[qt_avg[\"date_submitted\"].isna(), \"status\"] = \"incomplete\"\n",
    "\n",
    "qt_avg = qt_avg.melt(id_vars=[\"id_student\", \"assignment_name\", \"due_date\"], value_vars=[\"student_score\", \"class_average\"], var_name=\"Score Group\", value_name=\"Score\")\n",
    "\n",
    "qt_avg = qt_avg[qt_avg[\"due_date\"] <= 60].copy()\n",
    "\n",
    "# Create a unique list of assignment_name\n",
    "assess_list = qt['id_student'].unique()\n",
    "\n",
    "# Step 1\n",
    "app.layout = html.Div([\n",
    "            # Create a html title for the dashboard\n",
    "            html.H1(\"Student's Performance & Class Average\"),\n",
    "    \n",
    "            # Create a graph, we will configure the graph using plotly express in step 3 \n",
    "            dcc.Graph(id='graph'),\n",
    "    \n",
    "            # Create a dropdown menu based on code_module\n",
    "            dcc.Dropdown(\n",
    "                id='dropdown',\n",
    "                options=[{'label': i, 'value': i} for i in assess_list],\n",
    "                value= assess_list[0]# the default\n",
    "            )])\n",
    "\n",
    "\n",
    "# Step 2\n",
    "# Callback using inputs from the checklist to generate the graph\n",
    "@app.callback(\n",
    "    dash.dependencies.Output('graph', 'figure'),\n",
    "    [dash.dependencies.Input('dropdown', 'value')])\n",
    "\n",
    "# Step 3\n",
    "# Define the graph with plotly express\n",
    "def update_figure(values):\n",
    "    figure = px.line(\n",
    "                     qt_avg[qt_avg[\"id_student\"]==values].sort_values(\"due_date\"),\n",
    "                     x=\"assignment_name\",\n",
    "                     y=\"Score\",\n",
    "                     color=\"Score Group\",\n",
    "                     hover_name=\"assignment_name\")\n",
    "    return figure # You must return all the output(s) in step \n",
    "    \n",
    "# Run the app\n",
    "app.run_server(mode=\"inline\", port = 8102)"
   ]
  },
  {
   "cell_type": "markdown",
   "metadata": {
    "deletable": false,
    "editable": false,
    "nbgrader": {
     "cell_type": "markdown",
     "checksum": "e0c94ca1843d7ffd600350e52af2e8ad",
     "grade": false,
     "grade_id": "cell-71c679e8e6c42276",
     "locked": true,
     "schema_version": 3,
     "solution": false
    }
   },
   "source": [
    "## Component 3\n",
    "\n",
    "3. (10 points) View a student's learning resource use alongside a meaningful reference like a course average for a given resource\n",
    "\n",
    "**Note:** All quizzes, tests, and resources should be from on or before day 60 in the course."
   ]
  },
  {
   "cell_type": "code",
   "execution_count": 12,
   "metadata": {
    "deletable": false,
    "nbgrader": {
     "cell_type": "code",
     "checksum": "24792e3d276a20260de49f904973e8e8",
     "grade": true,
     "grade_id": "cell-75943882b1d9784b",
     "locked": false,
     "points": 0,
     "schema_version": 3,
     "solution": true
    }
   },
   "outputs": [
    {
     "ename": "KeyError",
     "evalue": "Index(['lr_id'], dtype='object')",
     "output_type": "error",
     "traceback": [
      "\u001b[0;31m---------------------------------------------------------------------------\u001b[0m",
      "\u001b[0;31mKeyError\u001b[0m                                  Traceback (most recent call last)",
      "Input \u001b[0;32mIn [12]\u001b[0m, in \u001b[0;36m<cell line: 2>\u001b[0;34m()\u001b[0m\n\u001b[1;32m      1\u001b[0m \u001b[38;5;66;03m# YOUR CODE HERE\u001b[39;00m\n\u001b[0;32m----> 2\u001b[0m lr[\u001b[43mlr\u001b[49m\u001b[38;5;241;43m.\u001b[39;49m\u001b[43mduplicated\u001b[49m\u001b[43m(\u001b[49m\u001b[43msubset\u001b[49m\u001b[38;5;241;43m=\u001b[39;49m\u001b[43m[\u001b[49m\u001b[38;5;124;43m\"\u001b[39;49m\u001b[38;5;124;43mid_student\u001b[39;49m\u001b[38;5;124;43m\"\u001b[39;49m\u001b[43m,\u001b[49m\u001b[43m \u001b[49m\u001b[38;5;124;43m\"\u001b[39;49m\u001b[38;5;124;43mdate\u001b[39;49m\u001b[38;5;124;43m\"\u001b[39;49m\u001b[43m,\u001b[49m\u001b[43m \u001b[49m\u001b[38;5;124;43m\"\u001b[39;49m\u001b[38;5;124;43mlr_id\u001b[39;49m\u001b[38;5;124;43m\"\u001b[39;49m\u001b[43m]\u001b[49m\u001b[43m,\u001b[49m\u001b[43m \u001b[49m\u001b[43mkeep\u001b[49m\u001b[38;5;241;43m=\u001b[39;49m\u001b[38;5;28;43;01mFalse\u001b[39;49;00m\u001b[43m)\u001b[49m]\u001b[38;5;241m.\u001b[39msort_values([\u001b[38;5;124m\"\u001b[39m\u001b[38;5;124mid_student\u001b[39m\u001b[38;5;124m\"\u001b[39m, \u001b[38;5;124m\"\u001b[39m\u001b[38;5;124mdate\u001b[39m\u001b[38;5;124m\"\u001b[39m, \u001b[38;5;124m\"\u001b[39m\u001b[38;5;124mlr_id\u001b[39m\u001b[38;5;124m\"\u001b[39m])\n",
      "File \u001b[0;32m/opt/conda/lib/python3.8/site-packages/pandas/core/frame.py:6250\u001b[0m, in \u001b[0;36mDataFrame.duplicated\u001b[0;34m(self, subset, keep)\u001b[0m\n\u001b[1;32m   6248\u001b[0m diff \u001b[38;5;241m=\u001b[39m Index(subset)\u001b[38;5;241m.\u001b[39mdifference(\u001b[38;5;28mself\u001b[39m\u001b[38;5;241m.\u001b[39mcolumns)\n\u001b[1;32m   6249\u001b[0m \u001b[38;5;28;01mif\u001b[39;00m \u001b[38;5;129;01mnot\u001b[39;00m diff\u001b[38;5;241m.\u001b[39mempty:\n\u001b[0;32m-> 6250\u001b[0m     \u001b[38;5;28;01mraise\u001b[39;00m \u001b[38;5;167;01mKeyError\u001b[39;00m(diff)\n\u001b[1;32m   6252\u001b[0m vals \u001b[38;5;241m=\u001b[39m (col\u001b[38;5;241m.\u001b[39mvalues \u001b[38;5;28;01mfor\u001b[39;00m name, col \u001b[38;5;129;01min\u001b[39;00m \u001b[38;5;28mself\u001b[39m\u001b[38;5;241m.\u001b[39mitems() \u001b[38;5;28;01mif\u001b[39;00m name \u001b[38;5;129;01min\u001b[39;00m subset)\n\u001b[1;32m   6253\u001b[0m labels, shape \u001b[38;5;241m=\u001b[39m \u001b[38;5;28mmap\u001b[39m(\u001b[38;5;28mlist\u001b[39m, \u001b[38;5;28mzip\u001b[39m(\u001b[38;5;241m*\u001b[39m\u001b[38;5;28mmap\u001b[39m(f, vals)))\n",
      "\u001b[0;31mKeyError\u001b[0m: Index(['lr_id'], dtype='object')"
     ]
    }
   ],
   "source": [
    "# YOUR CODE HERE\n",
    "lr[lr.duplicated(subset=[\"id_student\", \"date\", \"lr_id\"], keep=False)].sort_values([\"id_student\", \"date\", \"lr_id\"])\n",
    "#raise NotImplementedError()"
   ]
  },
  {
   "cell_type": "code",
   "execution_count": 13,
   "metadata": {},
   "outputs": [
    {
     "data": {
      "text/html": [
       "<div>\n",
       "<style scoped>\n",
       "    .dataframe tbody tr th:only-of-type {\n",
       "        vertical-align: middle;\n",
       "    }\n",
       "\n",
       "    .dataframe tbody tr th {\n",
       "        vertical-align: top;\n",
       "    }\n",
       "\n",
       "    .dataframe thead th {\n",
       "        text-align: right;\n",
       "    }\n",
       "</style>\n",
       "<table border=\"1\" class=\"dataframe\">\n",
       "  <thead>\n",
       "    <tr style=\"text-align: right;\">\n",
       "      <th></th>\n",
       "      <th>id_student</th>\n",
       "      <th>date</th>\n",
       "      <th>lr_id</th>\n",
       "      <th>Usage Group</th>\n",
       "      <th>Clicks</th>\n",
       "    </tr>\n",
       "  </thead>\n",
       "  <tbody>\n",
       "    <tr>\n",
       "      <th>0</th>\n",
       "      <td>41060</td>\n",
       "      <td>0</td>\n",
       "      <td>course_homepage - 1</td>\n",
       "      <td>student_usage (clicks)</td>\n",
       "      <td>5.0</td>\n",
       "    </tr>\n",
       "    <tr>\n",
       "      <th>1</th>\n",
       "      <td>45664</td>\n",
       "      <td>0</td>\n",
       "      <td>course_homepage - 1</td>\n",
       "      <td>student_usage (clicks)</td>\n",
       "      <td>32.0</td>\n",
       "    </tr>\n",
       "    <tr>\n",
       "      <th>2</th>\n",
       "      <td>53488</td>\n",
       "      <td>0</td>\n",
       "      <td>course_homepage - 1</td>\n",
       "      <td>student_usage (clicks)</td>\n",
       "      <td>70.0</td>\n",
       "    </tr>\n",
       "    <tr>\n",
       "      <th>3</th>\n",
       "      <td>60135</td>\n",
       "      <td>0</td>\n",
       "      <td>course_homepage - 1</td>\n",
       "      <td>student_usage (clicks)</td>\n",
       "      <td>131.0</td>\n",
       "    </tr>\n",
       "    <tr>\n",
       "      <th>4</th>\n",
       "      <td>66579</td>\n",
       "      <td>0</td>\n",
       "      <td>course_homepage - 1</td>\n",
       "      <td>student_usage (clicks)</td>\n",
       "      <td>15.0</td>\n",
       "    </tr>\n",
       "    <tr>\n",
       "      <th>...</th>\n",
       "      <td>...</td>\n",
       "      <td>...</td>\n",
       "      <td>...</td>\n",
       "      <td>...</td>\n",
       "      <td>...</td>\n",
       "    </tr>\n",
       "    <tr>\n",
       "      <th>751131</th>\n",
       "      <td>2694933</td>\n",
       "      <td>37</td>\n",
       "      <td>resource - 107</td>\n",
       "      <td>average_usage (clicks)</td>\n",
       "      <td>1.0</td>\n",
       "    </tr>\n",
       "    <tr>\n",
       "      <th>751132</th>\n",
       "      <td>2694933</td>\n",
       "      <td>108</td>\n",
       "      <td>forum - 10</td>\n",
       "      <td>average_usage (clicks)</td>\n",
       "      <td>2.0</td>\n",
       "    </tr>\n",
       "    <tr>\n",
       "      <th>751133</th>\n",
       "      <td>2694933</td>\n",
       "      <td>150</td>\n",
       "      <td>wiki - 9</td>\n",
       "      <td>average_usage (clicks)</td>\n",
       "      <td>3.0</td>\n",
       "    </tr>\n",
       "    <tr>\n",
       "      <th>751134</th>\n",
       "      <td>2694933</td>\n",
       "      <td>199</td>\n",
       "      <td>resource - 104</td>\n",
       "      <td>average_usage (clicks)</td>\n",
       "      <td>1.0</td>\n",
       "    </tr>\n",
       "    <tr>\n",
       "      <th>751135</th>\n",
       "      <td>2694933</td>\n",
       "      <td>219</td>\n",
       "      <td>course_page - 109</td>\n",
       "      <td>average_usage (clicks)</td>\n",
       "      <td>1.0</td>\n",
       "    </tr>\n",
       "  </tbody>\n",
       "</table>\n",
       "<p>751136 rows × 5 columns</p>\n",
       "</div>"
      ],
      "text/plain": [
       "        id_student  date                lr_id             Usage Group  Clicks\n",
       "0            41060     0  course_homepage - 1  student_usage (clicks)     5.0\n",
       "1            45664     0  course_homepage - 1  student_usage (clicks)    32.0\n",
       "2            53488     0  course_homepage - 1  student_usage (clicks)    70.0\n",
       "3            60135     0  course_homepage - 1  student_usage (clicks)   131.0\n",
       "4            66579     0  course_homepage - 1  student_usage (clicks)    15.0\n",
       "...            ...   ...                  ...                     ...     ...\n",
       "751131     2694933    37       resource - 107  average_usage (clicks)     1.0\n",
       "751132     2694933   108           forum - 10  average_usage (clicks)     2.0\n",
       "751133     2694933   150             wiki - 9  average_usage (clicks)     3.0\n",
       "751134     2694933   199       resource - 104  average_usage (clicks)     1.0\n",
       "751135     2694933   219    course_page - 109  average_usage (clicks)     1.0\n",
       "\n",
       "[751136 rows x 5 columns]"
      ]
     },
     "execution_count": 13,
     "metadata": {},
     "output_type": "execute_result"
    }
   ],
   "source": [
    "lr[\"lr_id\"] = lr[\"activity_type\"] + \" - \" + lr[\"activity_id\"].astype(str)\n",
    "lr_daily = lr.groupby([\"id_student\", \"date\", \"lr_id\"] )[\"sum_click\"].sum().reset_index()\n",
    "class_avg = lr_daily.groupby([\"date\", \"lr_id\"])[\"sum_click\"].mean().reset_index()\n",
    "\n",
    "lr_daily = lr_daily.merge(class_avg, on=[\"date\", \"lr_id\"])\n",
    "lr_daily.columns = [\"id_student\", \"date\", \"lr_id\", \"student_usage (clicks)\", \"average_usage (clicks)\"]\n",
    "lr_daily = lr_daily.melt(id_vars = [\"id_student\", \"date\", \"lr_id\"], value_vars = [\"student_usage (clicks)\", \"average_usage (clicks)\"], var_name=\"Usage Group\", value_name=\"Clicks\")\n",
    "lr_daily"
   ]
  },
  {
   "cell_type": "code",
   "execution_count": 14,
   "metadata": {},
   "outputs": [
    {
     "data": {
      "text/html": [
       "\n",
       "        <iframe\n",
       "            width=\"100%\"\n",
       "            height=\"650\"\n",
       "            src=\"http://127.0.0.1:8102/\"\n",
       "            frameborder=\"0\"\n",
       "            allowfullscreen\n",
       "            \n",
       "        ></iframe>\n",
       "        "
      ],
      "text/plain": [
       "<IPython.lib.display.IFrame at 0x7fccda629f10>"
      ]
     },
     "metadata": {},
     "output_type": "display_data"
    }
   ],
   "source": [
    "app = JupyterDash(\"new2\")\n",
    "\n",
    "# Create server variable\n",
    "server = app.server\n",
    "\n",
    "lr[\"lr_id\"] = lr[\"activity_type\"] + \" - \" + lr[\"activity_id\"].astype(str)\n",
    "lr_daily = lr.groupby([\"id_student\", \"date\", \"lr_id\"] )[\"sum_click\"].sum().reset_index()\n",
    "class_avg = lr_daily.groupby([\"date\", \"lr_id\"])[\"sum_click\"].mean().reset_index()\n",
    "\n",
    "lr_daily = lr_daily.merge(class_avg, on=[\"date\", \"lr_id\"])\n",
    "lr_daily.columns = [\"id_student\", \"date\", \"lr_id\", \"student_usage (clicks)\", \"average_usage (clicks)\"]\n",
    "lr_daily = lr_daily.melt(id_vars = [\"id_student\", \"date\", \"lr_id\"], value_vars = [\"student_usage (clicks)\", \"average_usage (clicks)\"], var_name=\"Usage Group\", value_name=\"Clicks\")\n",
    "lr_daily = lr_daily[lr_daily[\"date\"] <= 60].copy()\n",
    "lr_daily\n",
    "\n",
    "# Create a unique list of assignment_name\n",
    "student_list = lr['id_student'].unique()\n",
    "lr_list = lr['lr_id'].unique()\n",
    "\n",
    "# Step 1\n",
    "app.layout = html.Div([\n",
    "            # Create a html title for the dashboard\n",
    "            html.H1(\"Student's LR Usage & Class Average\"),\n",
    "    \n",
    "            # Create a graph, we will configure the graph using plotly express in step 3 \n",
    "            dcc.Graph(id='graph'),\n",
    "    \n",
    "            # Create a dropdown menu based on code_module\n",
    "            dcc.Dropdown(\n",
    "                id='student_dropdown',\n",
    "                options=[{'label': i, 'value': i} for i in student_list],\n",
    "                value= student_list[0]# the default\n",
    "            ),\n",
    "\n",
    "            dcc.Dropdown(\n",
    "                id='lr_dropdown',\n",
    "                options=[{'label': i, 'value': i} for i in lr_list],\n",
    "                value= lr_list[0]# the default\n",
    "            )\n",
    "]\n",
    "    )\n",
    "\n",
    "\n",
    "# Step 2\n",
    "# Callback using inputs from the checklist to generate the graph\n",
    "@app.callback(\n",
    "    dash.dependencies.Output('graph', 'figure'),\n",
    "    [dash.dependencies.Input('student_dropdown', 'value'),\n",
    "    dash.dependencies.Input('lr_dropdown', 'value')])\n",
    "\n",
    "# Step 3\n",
    "# Define the graph with plotly express\n",
    "def update_figure(studnet_id, lr_id):\n",
    "    figure = px.line(\n",
    "                     lr_daily[(lr_daily[\"id_student\"]==studnet_id) & (lr_daily[\"lr_id\"]==lr_id)].sort_values(\"date\"),\n",
    "                     x=\"date\",\n",
    "                     y=\"Clicks\",\n",
    "                     color=\"Usage Group\",\n",
    "                     hover_name=\"lr_id\")\n",
    "    return figure # You must return all the output(s) in step \n",
    "    \n",
    "# Run the app\n",
    "app.run_server(mode=\"inline\", port = 8102)"
   ]
  },
  {
   "cell_type": "markdown",
   "metadata": {
    "deletable": false,
    "editable": false,
    "nbgrader": {
     "cell_type": "markdown",
     "checksum": "9103511905aee1e6e84dfacbbc12109b",
     "grade": false,
     "grade_id": "cell-80ac0009f72f3e4d",
     "locked": true,
     "schema_version": 3,
     "solution": false
    }
   },
   "source": [
    "---\n",
    "\n",
    "## Integrated Dashboard\n",
    "\n",
    "4. (10 points) Intergrate the above three capabilties into a single, functional dashboard"
   ]
  },
  {
   "cell_type": "code",
   "execution_count": 15,
   "metadata": {
    "deletable": false,
    "nbgrader": {
     "cell_type": "code",
     "checksum": "170f901953332b1ce8cee73fe5a14aec",
     "grade": true,
     "grade_id": "cell-ca5d6dda71169ed7",
     "locked": false,
     "points": 0,
     "schema_version": 3,
     "solution": true
    }
   },
   "outputs": [
    {
     "data": {
      "text/html": [
       "\n",
       "        <iframe\n",
       "            width=\"100%\"\n",
       "            height=\"650\"\n",
       "            src=\"http://127.0.0.1:8102/\"\n",
       "            frameborder=\"0\"\n",
       "            allowfullscreen\n",
       "            \n",
       "        ></iframe>\n",
       "        "
      ],
      "text/plain": [
       "<IPython.lib.display.IFrame at 0x7fccd86ffb80>"
      ]
     },
     "metadata": {},
     "output_type": "display_data"
    }
   ],
   "source": [
    "# YOUR CODE HERE\n",
    "app = JupyterDash(\"new2\")\n",
    "\n",
    "# Create server variable\n",
    "server = app.server\n",
    "\n",
    "lr[\"lr_id\"] = lr[\"activity_type\"] + \" - \" + lr[\"activity_id\"].astype(str)\n",
    "lr_daily = lr.groupby([\"id_student\", \"date\", \"lr_id\"] )[\"sum_click\"].sum().reset_index()\n",
    "class_avg = lr_daily.groupby([\"date\", \"lr_id\"])[\"sum_click\"].mean().reset_index()\n",
    "\n",
    "lr_daily = lr_daily.merge(class_avg, on=[\"date\", \"lr_id\"])\n",
    "lr_daily.columns = [\"id_student\", \"date\", \"lr_id\", \"student_usage (clicks)\", \"average_usage (clicks)\"]\n",
    "lr_daily = lr_daily.melt(id_vars = [\"id_student\", \"date\", \"lr_id\"], value_vars = [\"student_usage (clicks)\", \"average_usage (clicks)\"], var_name=\"Usage Group\", value_name=\"Clicks\")\n",
    "lr_daily = lr_daily[lr_daily[\"date\"] <= 60].copy()\n",
    "lr_daily\n",
    "\n",
    "# Create a unique list of assignment_name\n",
    "student_list = lr['id_student'].unique()\n",
    "lr_list = lr['lr_id'].unique()\n",
    "\n",
    "qt_avg = qt.merge(qt.groupby(\"assignment_name\")[\"score\"].mean().reset_index().rename(columns={\"score\":\"class_average\"}), on=\"assignment_name\").rename(columns={\"score\":\"student_score\"})\n",
    "qt_avg[\"status\"] = \"on time\"\n",
    "qt_avg.loc[qt_avg[\"due_date\"] < qt_avg[\"date_submitted\"], \"status\"] = \"late\"\n",
    "\n",
    "qt_avg.loc[qt_avg[\"date_submitted\"].isna(), \"status\"] = \"incomplete\"\n",
    "\n",
    "qt_avg = qt_avg.melt(id_vars=[\"id_student\", \"assignment_name\", \"due_date\"], value_vars=[\"student_score\", \"class_average\"], var_name=\"Score Group\", value_name=\"Score\")\n",
    "\n",
    "qt_avg = qt_avg[qt_avg[\"due_date\"] <= 60].copy()\n",
    "\n",
    "\n",
    "app.layout = html.Div([\n",
    "            # Create a html title for the dashboard\n",
    "            html.H1(\"Student's LR Usage & Class Average\"),\n",
    "    \n",
    "            # Create a graph, we will configure the graph using plotly express in step 3 \n",
    "            dcc.Graph(id='graph'),\n",
    "    \n",
    "            # Create a dropdown menu based on code_module\n",
    "            dcc.Dropdown(\n",
    "                id='student_dropdown',\n",
    "                options=[{'label': i, 'value': i} for i in student_list],\n",
    "                value= student_list[0]# the default\n",
    "            ),\n",
    "\n",
    "            dcc.Dropdown(\n",
    "                id='lr_dropdown',\n",
    "                options=[{'label': i, 'value': i} for i in lr_list],\n",
    "                value= lr_list[0]# the default\n",
    "            ),\n",
    "     # Create a checklist based on assignment_name\n",
    "            dcc.Checklist(\n",
    "                    id = 'checklist',\n",
    "                    options=[{'label': i, 'value': i} for i in student_list],\n",
    "                    value=[student_list[0]] # Default values contain all assignment_name\n",
    "            )\n",
    "]\n",
    "    )\n",
    "\n",
    "\n",
    "\n",
    "@app.callback(\n",
    "    dash.dependencies.Output('graph', 'figure'),\n",
    "    [dash.dependencies.Input('checklist', 'value'),\n",
    "     dash.dependencies.Input('student_dropdown', 'value'),\n",
    "    dash.dependencies.Input('lr_dropdown', 'value')])\n",
    "\n",
    "def update_figure(values, studnet_id, lr_id):\n",
    "    filtered_students = si[si[\"id_student\"].isin(values)]\n",
    "    figure1 = px.bar(filtered_students, y = 'pred_fail', x = 'id_student')\n",
    "        \n",
    "    figure2 = px.line(\n",
    "                 qt_avg[qt_avg[\"id_student\"]==studnet_id].sort_values(\"due_date\"),\n",
    "                 x=\"assignment_name\",\n",
    "                 y=\"Score\",\n",
    "                 color=\"Score Group\",\n",
    "                 hover_name=\"assignment_name\")\n",
    "    \n",
    "    figure3 = px.line(\n",
    "                     lr_daily[(lr_daily[\"id_student\"]==studnet_id) & (lr_daily[\"lr_id\"]==lr_id)].sort_values(\"date\"),\n",
    "                     x=\"date\",\n",
    "                     y=\"Clicks\",\n",
    "                     color=\"Usage Group\",\n",
    "                     hover_name=\"lr_id\")\n",
    "\n",
    "    return  \n",
    "    \n",
    "# Run the app\n",
    "app.run_server(mode=\"inline\", port = 8102)\n",
    "\n",
    "#raise NotImplementedError()"
   ]
  },
  {
   "cell_type": "markdown",
   "metadata": {
    "deletable": false,
    "editable": false,
    "nbgrader": {
     "cell_type": "markdown",
     "checksum": "67a365e72b0269250b42ced6a279bbf2",
     "grade": false,
     "grade_id": "cell-7b97bf0efd8c49f9",
     "locked": true,
     "schema_version": 3,
     "solution": false
    }
   },
   "source": [
    "## 2. Interpret (10 points)\n",
    "\n",
    "After developing your integrated dashboard, provide your thoughs on the following questions:"
   ]
  },
  {
   "cell_type": "markdown",
   "metadata": {
    "deletable": false,
    "editable": false,
    "nbgrader": {
     "cell_type": "markdown",
     "checksum": "fdc598b0a0ebdd31a572b953758fc66a",
     "grade": false,
     "grade_id": "cell-8730694eae7ad2b9",
     "locked": true,
     "schema_version": 3,
     "solution": false,
     "task": false
    }
   },
   "source": [
    "2.1 How well will your integrated dashboard help an instructor identify which students to check-in with, and why? (5 points)"
   ]
  },
  {
   "cell_type": "markdown",
   "metadata": {},
   "source": [
    "My integrated dashboard will help an instructor identify which students to check-in with by showing how probable it can be for the students to fail the instructor's course. The integrated dashboard can help show which students need more help than other students and help improve their overall scores. \n",
    "\n",
    "The integrated dashboard merges many capabilties into one useful tool, so by merging the capabilties into a single, functional dashboard, the instructors can identify which students to check-in with, in a more efficient manner. \n",
    "\n",
    "The integrated dashboard will help also instructors show which students needs to focus more on, such as quizzes or tests or both; as well as focus on which course material needs to be taught more in detail and which other course materials needs less attention."
   ]
  },
  {
   "cell_type": "markdown",
   "metadata": {
    "deletable": false,
    "editable": false,
    "nbgrader": {
     "cell_type": "markdown",
     "checksum": "95369aac6a5ec49edc43066daefe1beb",
     "grade": false,
     "grade_id": "cell-19d54b8f0673493e",
     "locked": true,
     "schema_version": 3,
     "solution": false,
     "task": false
    }
   },
   "source": [
    "2.2 Based on the readings and videos, what would you recommend as improvements to your dashboard, and why? (5 points)"
   ]
  },
  {
   "cell_type": "markdown",
   "metadata": {},
   "source": [
    "Based on the readings and videos, I would recommend setting a feauture to the dashboard which sends out emails and/or texts to the students to remind them to check the dashboard daily or weekly.  \n",
    "\n",
    "I would also recommend a feature in which the students also have input, so that the instructors can see the student's, or students', POV, as an improvement to my dashboard. "
   ]
  }
 ],
 "metadata": {
  "coursera": {
   "schema_names": [
    "mads_learning_analytics_v2_assignment4"
   ]
  },
  "kernelspec": {
   "display_name": "Python 3 (ipykernel)",
   "language": "python",
   "name": "python3"
  },
  "language_info": {
   "codemirror_mode": {
    "name": "ipython",
    "version": 3
   },
   "file_extension": ".py",
   "mimetype": "text/x-python",
   "name": "python",
   "nbconvert_exporter": "python",
   "pygments_lexer": "ipython3",
   "version": "3.8.10"
  }
 },
 "nbformat": 4,
 "nbformat_minor": 1
}
